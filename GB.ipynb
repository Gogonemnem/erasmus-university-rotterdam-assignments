{
 "cells": [
  {
   "cell_type": "code",
   "execution_count": 2,
   "metadata": {},
   "outputs": [],
   "source": [
    "import numpy as np\n",
    "from sklearn.ensemble import GradientBoostingClassifier\n",
    "\n",
    "import utils\n"
   ]
  },
  {
   "cell_type": "code",
   "execution_count": 3,
   "metadata": {},
   "outputs": [
    {
     "name": "stdout",
     "output_type": "stream",
     "text": [
      "['test.csv', 'train.csv']\n"
     ]
    }
   ],
   "source": [
    "import os\n",
    "data_folder_path = \"./data\"\n",
    "print(os.listdir(data_folder_path))\n",
    "\n",
    "x_train, y_train, x_test = utils.load_data(data_folder_path)"
   ]
  },
  {
   "cell_type": "code",
   "execution_count": 7,
   "metadata": {},
   "outputs": [],
   "source": [
    "def cv_rf(X_train, y_train, X_valid, y_valid, h: dict):\n",
    "    c = GradientBoostingClassifier(n_estimators = h.get('n_estimators', 100), criterion = h.get('criterion', \"squared_error\"), \\\n",
    "                                   max_features = h.get('max_features', \"sqrt\"), ccp_alpha=h.get('alpha', 0.0), \\\n",
    "                                   loss = h.get('loss', \"log_loss\"), \\\n",
    "                                   random_state = 54321)\n",
    "    m = c.fit(X_train, y_train)\n",
    "    p = m.predict(X_valid)\n",
    "\n",
    "    return utils.evaluate(y_valid, p)"
   ]
  },
  {
   "cell_type": "code",
   "execution_count": 8,
   "metadata": {},
   "outputs": [],
   "source": [
    "hyperparameters = {\"loss\": [\"log_loss\", \"exponential\"],\n",
    "                   \"n_estimators\": range(5, 305, 20),\n",
    "                   \"criterion\": [\"friedman_mse\", \"squared_error\"],\n",
    "                   \"max_features\": [\"sqrt\", \"log2\", None],\n",
    "                   \"alpha\": np.arange(0, 1.1, .1)}\n"
   ]
  },
  {
   "cell_type": "code",
   "execution_count": 9,
   "metadata": {},
   "outputs": [
    {
     "name": "stdout",
     "output_type": "stream",
     "text": [
      "Training models: 122/1980, with hyperparameters: {'loss': 'log_loss', 'n_estimators': 25, 'criterion': 'squared_error', 'max_features': None, 'alpha': 0.0}\t\t\t\t000000000001}\t\t\t\r"
     ]
    }
   ],
   "source": [
    "\n",
    "pr = utils.kfold_cv(x_train, y_train, k = 10, H = list(utils.create_H(hyperparameters)), cv_fun = cv_rf, random_state = 12345)\n",
    "pr"
   ]
  },
  {
   "cell_type": "code",
   "execution_count": null,
   "metadata": {},
   "outputs": [],
   "source": [
    "best_model = utils.get_best(pr)"
   ]
  },
  {
   "cell_type": "code",
   "execution_count": null,
   "metadata": {},
   "outputs": [],
   "source": []
  },
  {
   "cell_type": "code",
   "execution_count": null,
   "metadata": {},
   "outputs": [],
   "source": []
  },
  {
   "cell_type": "code",
   "execution_count": null,
   "metadata": {},
   "outputs": [],
   "source": []
  },
  {
   "cell_type": "code",
   "execution_count": null,
   "metadata": {},
   "outputs": [],
   "source": []
  }
 ],
 "metadata": {
  "kernelspec": {
   "display_name": "Python 3.10.4 (conda)",
   "language": "python",
   "name": "python3"
  },
  "language_info": {
   "codemirror_mode": {
    "name": "ipython",
    "version": 3
   },
   "file_extension": ".py",
   "mimetype": "text/x-python",
   "name": "python",
   "nbconvert_exporter": "python",
   "pygments_lexer": "ipython3",
   "version": "3.10.4"
  },
  "orig_nbformat": 4,
  "vscode": {
   "interpreter": {
    "hash": "8b6d2988b6bb527c92d8337742f356380e9aca8030177bcc940328c644657745"
   }
  }
 },
 "nbformat": 4,
 "nbformat_minor": 2
}
