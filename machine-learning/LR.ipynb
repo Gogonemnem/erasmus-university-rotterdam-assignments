{
 "cells": [
  {
   "cell_type": "code",
   "execution_count": null,
   "metadata": {},
   "outputs": [],
   "source": [
    "import numpy as np\n",
    "from sklearn.linear_model import LogisticRegression\n",
    "\n",
    "import utils\n"
   ]
  },
  {
   "cell_type": "code",
   "execution_count": null,
   "metadata": {},
   "outputs": [],
   "source": [
    "import os\n",
    "data_folder_path = \"./data\"\n",
    "print(os.listdir(data_folder_path))\n",
    "\n",
    "x_train, y_train, x_test = utils.load_data(data_folder_path)"
   ]
  },
  {
   "cell_type": "code",
   "execution_count": 22,
   "metadata": {},
   "outputs": [],
   "source": [
    "from sklearn.preprocessing import StandardScaler\n",
    "from sklearn.utils._testing import ignore_warnings\n",
    "from sklearn.exceptions import ConvergenceWarning\n",
    "\n",
    "@ignore_warnings(category=ConvergenceWarning)\n",
    "def cv_rf(X_train, y_train, X_valid, y_valid, h: dict):\n",
    "    c = LogisticRegression(penalty='elasticnet', C=h.get('lambda', 1), l1_ratio=h.get('alpha', None), \\\n",
    "                           solver='saga', \\\n",
    "                           random_state = 54321, n_jobs = -1) # set n_jobs to speed up by using more CPU cores)\n",
    "    scaler = StandardScaler().fit(X_train) \n",
    "    m = c.fit(scaler.transform(X_train), y_train)\n",
    "    p = m.predict(scaler.transform(X_valid))\n",
    "\n",
    "    return utils.evaluate(y_valid, p)"
   ]
  },
  {
   "cell_type": "code",
   "execution_count": 31,
   "metadata": {},
   "outputs": [],
   "source": [
    "hyperparameters = {\"lambda_inverse\": (10**i for i in range(-5, 6)),\n",
    "                   \"alpha\": np.arange(0, 1.1, .1)}"
   ]
  },
  {
   "cell_type": "code",
   "execution_count": 24,
   "metadata": {},
   "outputs": [
    {
     "name": "stdout",
     "output_type": "stream",
     "text": [
      "Training models: 121/121, with hyperparameters: {'lambda': 100000, 'alpha': 1.0}\t\t000000000001}\t\t\t\r"
     ]
    },
    {
     "data": {
      "text/html": [
       "<div>\n",
       "<style scoped>\n",
       "    .dataframe tbody tr th:only-of-type {\n",
       "        vertical-align: middle;\n",
       "    }\n",
       "\n",
       "    .dataframe tbody tr th {\n",
       "        vertical-align: top;\n",
       "    }\n",
       "\n",
       "    .dataframe thead th {\n",
       "        text-align: right;\n",
       "    }\n",
       "</style>\n",
       "<table border=\"1\" class=\"dataframe\">\n",
       "  <thead>\n",
       "    <tr style=\"text-align: right;\">\n",
       "      <th></th>\n",
       "      <th>accuracy</th>\n",
       "      <th>precision</th>\n",
       "      <th>recall</th>\n",
       "      <th>f</th>\n",
       "      <th>_h</th>\n",
       "    </tr>\n",
       "  </thead>\n",
       "  <tbody>\n",
       "    <tr>\n",
       "      <th>0</th>\n",
       "      <td>0.621547</td>\n",
       "      <td>0.310774</td>\n",
       "      <td>0.500000</td>\n",
       "      <td>0.383305</td>\n",
       "      <td>{'lambda': 1e-05, 'alpha': 0.0}</td>\n",
       "    </tr>\n",
       "    <tr>\n",
       "      <th>1</th>\n",
       "      <td>0.621547</td>\n",
       "      <td>0.310774</td>\n",
       "      <td>0.500000</td>\n",
       "      <td>0.383305</td>\n",
       "      <td>{'lambda': 1e-05, 'alpha': 0.1}</td>\n",
       "    </tr>\n",
       "    <tr>\n",
       "      <th>2</th>\n",
       "      <td>0.621547</td>\n",
       "      <td>0.310774</td>\n",
       "      <td>0.500000</td>\n",
       "      <td>0.383305</td>\n",
       "      <td>{'lambda': 1e-05, 'alpha': 0.2}</td>\n",
       "    </tr>\n",
       "    <tr>\n",
       "      <th>3</th>\n",
       "      <td>0.621547</td>\n",
       "      <td>0.310774</td>\n",
       "      <td>0.500000</td>\n",
       "      <td>0.383305</td>\n",
       "      <td>{'lambda': 1e-05, 'alpha': 0.30000000000000004}</td>\n",
       "    </tr>\n",
       "    <tr>\n",
       "      <th>4</th>\n",
       "      <td>0.621547</td>\n",
       "      <td>0.310774</td>\n",
       "      <td>0.500000</td>\n",
       "      <td>0.383305</td>\n",
       "      <td>{'lambda': 1e-05, 'alpha': 0.4}</td>\n",
       "    </tr>\n",
       "    <tr>\n",
       "      <th>...</th>\n",
       "      <td>...</td>\n",
       "      <td>...</td>\n",
       "      <td>...</td>\n",
       "      <td>...</td>\n",
       "      <td>...</td>\n",
       "    </tr>\n",
       "    <tr>\n",
       "      <th>116</th>\n",
       "      <td>0.774970</td>\n",
       "      <td>0.763364</td>\n",
       "      <td>0.750382</td>\n",
       "      <td>0.755190</td>\n",
       "      <td>{'lambda': 100000, 'alpha': 0.6000000000000001}</td>\n",
       "    </tr>\n",
       "    <tr>\n",
       "      <th>117</th>\n",
       "      <td>0.774970</td>\n",
       "      <td>0.763364</td>\n",
       "      <td>0.750382</td>\n",
       "      <td>0.755190</td>\n",
       "      <td>{'lambda': 100000, 'alpha': 0.7000000000000001}</td>\n",
       "    </tr>\n",
       "    <tr>\n",
       "      <th>118</th>\n",
       "      <td>0.774970</td>\n",
       "      <td>0.763364</td>\n",
       "      <td>0.750382</td>\n",
       "      <td>0.755190</td>\n",
       "      <td>{'lambda': 100000, 'alpha': 0.8}</td>\n",
       "    </tr>\n",
       "    <tr>\n",
       "      <th>119</th>\n",
       "      <td>0.774970</td>\n",
       "      <td>0.763364</td>\n",
       "      <td>0.750382</td>\n",
       "      <td>0.755190</td>\n",
       "      <td>{'lambda': 100000, 'alpha': 0.9}</td>\n",
       "    </tr>\n",
       "    <tr>\n",
       "      <th>120</th>\n",
       "      <td>0.774970</td>\n",
       "      <td>0.763364</td>\n",
       "      <td>0.750382</td>\n",
       "      <td>0.755190</td>\n",
       "      <td>{'lambda': 100000, 'alpha': 1.0}</td>\n",
       "    </tr>\n",
       "  </tbody>\n",
       "</table>\n",
       "<p>121 rows × 5 columns</p>\n",
       "</div>"
      ],
      "text/plain": [
       "     accuracy  precision    recall         f  \\\n",
       "0    0.621547   0.310774  0.500000  0.383305   \n",
       "1    0.621547   0.310774  0.500000  0.383305   \n",
       "2    0.621547   0.310774  0.500000  0.383305   \n",
       "3    0.621547   0.310774  0.500000  0.383305   \n",
       "4    0.621547   0.310774  0.500000  0.383305   \n",
       "..        ...        ...       ...       ...   \n",
       "116  0.774970   0.763364  0.750382  0.755190   \n",
       "117  0.774970   0.763364  0.750382  0.755190   \n",
       "118  0.774970   0.763364  0.750382  0.755190   \n",
       "119  0.774970   0.763364  0.750382  0.755190   \n",
       "120  0.774970   0.763364  0.750382  0.755190   \n",
       "\n",
       "                                                  _h  \n",
       "0                    {'lambda': 1e-05, 'alpha': 0.0}  \n",
       "1                    {'lambda': 1e-05, 'alpha': 0.1}  \n",
       "2                    {'lambda': 1e-05, 'alpha': 0.2}  \n",
       "3    {'lambda': 1e-05, 'alpha': 0.30000000000000004}  \n",
       "4                    {'lambda': 1e-05, 'alpha': 0.4}  \n",
       "..                                               ...  \n",
       "116  {'lambda': 100000, 'alpha': 0.6000000000000001}  \n",
       "117  {'lambda': 100000, 'alpha': 0.7000000000000001}  \n",
       "118                 {'lambda': 100000, 'alpha': 0.8}  \n",
       "119                 {'lambda': 100000, 'alpha': 0.9}  \n",
       "120                 {'lambda': 100000, 'alpha': 1.0}  \n",
       "\n",
       "[121 rows x 5 columns]"
      ]
     },
     "execution_count": 24,
     "metadata": {},
     "output_type": "execute_result"
    }
   ],
   "source": [
    "\n",
    "pr = utils.kfold_cv(x_train, y_train, k = 10, H = list(utils.create_H(hyperparameters)), cv_fun = cv_rf, random_state = 12345)\n",
    "pr"
   ]
  },
  {
   "cell_type": "code",
   "execution_count": 29,
   "metadata": {},
   "outputs": [
    {
     "name": "stdout",
     "output_type": "stream",
     "text": [
      "0.77915931875416\n",
      "{'lambda': 0.01, 'alpha': 0.7000000000000001}\n"
     ]
    },
    {
     "data": {
      "text/plain": [
       "accuracy                                          0.779159\n",
       "precision                                         0.770796\n",
       "recall                                            0.749827\n",
       "f                                                 0.756758\n",
       "_h           {'lambda': 0.01, 'alpha': 0.7000000000000001}\n",
       "Name: 40, dtype: object"
      ]
     },
     "execution_count": 29,
     "metadata": {},
     "output_type": "execute_result"
    }
   ],
   "source": [
    "best_model = utils.get_best(pr)\n",
    "best_model"
   ]
  },
  {
   "cell_type": "code",
   "execution_count": null,
   "metadata": {},
   "outputs": [],
   "source": []
  }
 ],
 "metadata": {
  "kernelspec": {
   "display_name": "Python 3.10.4",
   "language": "python",
   "name": "python3"
  },
  "language_info": {
   "codemirror_mode": {
    "name": "ipython",
    "version": 3
   },
   "file_extension": ".py",
   "mimetype": "text/x-python",
   "name": "python",
   "nbconvert_exporter": "python",
   "pygments_lexer": "ipython3",
   "version": "3.10.4"
  },
  "orig_nbformat": 4,
  "vscode": {
   "interpreter": {
    "hash": "8b6d2988b6bb527c92d8337742f356380e9aca8030177bcc940328c644657745"
   }
  }
 },
 "nbformat": 4,
 "nbformat_minor": 2
}
