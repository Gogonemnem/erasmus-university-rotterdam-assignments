{
 "cells": [
  {
   "cell_type": "code",
   "execution_count": 2,
   "metadata": {},
   "outputs": [],
   "source": [
    "import numpy as np\n",
    "from sklearn.ensemble import GradientBoostingClassifier\n",
    "\n",
    "import utils\n"
   ]
  },
  {
   "cell_type": "code",
   "execution_count": 3,
   "metadata": {},
   "outputs": [
    {
     "name": "stdout",
     "output_type": "stream",
     "text": [
      "['test.csv', 'train.csv']\n"
     ]
    }
   ],
   "source": [
    "import os\n",
    "data_folder_path = \"./data\"\n",
    "print(os.listdir(data_folder_path))\n",
    "\n",
    "x_train, y_train, x_test = utils.load_data(data_folder_path)"
   ]
  },
  {
   "cell_type": "code",
   "execution_count": 7,
   "metadata": {},
   "outputs": [],
   "source": [
    "def cv_rf(X_train, y_train, X_valid, y_valid, h: dict):\n",
    "    c = GradientBoostingClassifier(n_estimators = h.get('n_estimators', 100), criterion = h.get('criterion', \"squared_error\"), \\\n",
    "                                   max_features = h.get('max_features', \"sqrt\"), ccp_alpha=h.get('alpha', 0.0), \\\n",
    "                                   loss = h.get('loss', \"log_loss\"), \\\n",
    "                                   random_state = 54321)\n",
    "    m = c.fit(X_train, y_train)\n",
    "    p = m.predict(X_valid)\n",
    "\n",
    "    return utils.evaluate(y_valid, p)"
   ]
  },
  {
   "cell_type": "code",
   "execution_count": 11,
   "metadata": {},
   "outputs": [],
   "source": [
    "hyperparameters = {\"loss\": [\"log_loss\", \"exponential\"],\n",
    "                   \"n_estimators\": range(5, 305, 100),\n",
    "                   \"criterion\": [\"friedman_mse\", \"squared_error\"],\n",
    "                   \"max_features\": [\"sqrt\", \"log2\", None],\n",
    "                   \"alpha\": np.arange(0, 1.1, .25)}\n"
   ]
  },
  {
   "cell_type": "code",
   "execution_count": 12,
   "metadata": {},
   "outputs": [
    {
     "name": "stdout",
     "output_type": "stream",
     "text": [
      "Training models: 180/180, with hyperparameters: {'loss': 'exponential', 'n_estimators': 205, 'criterion': 'squared_error', 'max_features': None, 'alpha': 1.0}\t\t\t\t\t\r"
     ]
    },
    {
     "data": {
      "text/html": [
       "<div>\n",
       "<style scoped>\n",
       "    .dataframe tbody tr th:only-of-type {\n",
       "        vertical-align: middle;\n",
       "    }\n",
       "\n",
       "    .dataframe tbody tr th {\n",
       "        vertical-align: top;\n",
       "    }\n",
       "\n",
       "    .dataframe thead th {\n",
       "        text-align: right;\n",
       "    }\n",
       "</style>\n",
       "<table border=\"1\" class=\"dataframe\">\n",
       "  <thead>\n",
       "    <tr style=\"text-align: right;\">\n",
       "      <th></th>\n",
       "      <th>accuracy</th>\n",
       "      <th>precision</th>\n",
       "      <th>recall</th>\n",
       "      <th>f</th>\n",
       "      <th>_h</th>\n",
       "    </tr>\n",
       "  </thead>\n",
       "  <tbody>\n",
       "    <tr>\n",
       "      <th>0</th>\n",
       "      <td>0.658987</td>\n",
       "      <td>0.765469</td>\n",
       "      <td>0.552436</td>\n",
       "      <td>0.492493</td>\n",
       "      <td>{'loss': 'log_loss', 'n_estimators': 5, 'crite...</td>\n",
       "    </tr>\n",
       "    <tr>\n",
       "      <th>1</th>\n",
       "      <td>0.621547</td>\n",
       "      <td>0.310774</td>\n",
       "      <td>0.500000</td>\n",
       "      <td>0.383305</td>\n",
       "      <td>{'loss': 'log_loss', 'n_estimators': 5, 'crite...</td>\n",
       "    </tr>\n",
       "    <tr>\n",
       "      <th>2</th>\n",
       "      <td>0.621547</td>\n",
       "      <td>0.310774</td>\n",
       "      <td>0.500000</td>\n",
       "      <td>0.383305</td>\n",
       "      <td>{'loss': 'log_loss', 'n_estimators': 5, 'crite...</td>\n",
       "    </tr>\n",
       "    <tr>\n",
       "      <th>3</th>\n",
       "      <td>0.621547</td>\n",
       "      <td>0.310774</td>\n",
       "      <td>0.500000</td>\n",
       "      <td>0.383305</td>\n",
       "      <td>{'loss': 'log_loss', 'n_estimators': 5, 'crite...</td>\n",
       "    </tr>\n",
       "    <tr>\n",
       "      <th>4</th>\n",
       "      <td>0.621547</td>\n",
       "      <td>0.310774</td>\n",
       "      <td>0.500000</td>\n",
       "      <td>0.383305</td>\n",
       "      <td>{'loss': 'log_loss', 'n_estimators': 5, 'crite...</td>\n",
       "    </tr>\n",
       "    <tr>\n",
       "      <th>...</th>\n",
       "      <td>...</td>\n",
       "      <td>...</td>\n",
       "      <td>...</td>\n",
       "      <td>...</td>\n",
       "      <td>...</td>\n",
       "    </tr>\n",
       "    <tr>\n",
       "      <th>175</th>\n",
       "      <td>0.829690</td>\n",
       "      <td>0.823192</td>\n",
       "      <td>0.810301</td>\n",
       "      <td>0.815556</td>\n",
       "      <td>{'loss': 'exponential', 'n_estimators': 205, '...</td>\n",
       "    </tr>\n",
       "    <tr>\n",
       "      <th>176</th>\n",
       "      <td>0.621547</td>\n",
       "      <td>0.310774</td>\n",
       "      <td>0.500000</td>\n",
       "      <td>0.383305</td>\n",
       "      <td>{'loss': 'exponential', 'n_estimators': 205, '...</td>\n",
       "    </tr>\n",
       "    <tr>\n",
       "      <th>177</th>\n",
       "      <td>0.621547</td>\n",
       "      <td>0.310774</td>\n",
       "      <td>0.500000</td>\n",
       "      <td>0.383305</td>\n",
       "      <td>{'loss': 'exponential', 'n_estimators': 205, '...</td>\n",
       "    </tr>\n",
       "    <tr>\n",
       "      <th>178</th>\n",
       "      <td>0.621547</td>\n",
       "      <td>0.310774</td>\n",
       "      <td>0.500000</td>\n",
       "      <td>0.383305</td>\n",
       "      <td>{'loss': 'exponential', 'n_estimators': 205, '...</td>\n",
       "    </tr>\n",
       "    <tr>\n",
       "      <th>179</th>\n",
       "      <td>0.621547</td>\n",
       "      <td>0.310774</td>\n",
       "      <td>0.500000</td>\n",
       "      <td>0.383305</td>\n",
       "      <td>{'loss': 'exponential', 'n_estimators': 205, '...</td>\n",
       "    </tr>\n",
       "  </tbody>\n",
       "</table>\n",
       "<p>180 rows × 5 columns</p>\n",
       "</div>"
      ],
      "text/plain": [
       "     accuracy  precision    recall         f  \\\n",
       "0    0.658987   0.765469  0.552436  0.492493   \n",
       "1    0.621547   0.310774  0.500000  0.383305   \n",
       "2    0.621547   0.310774  0.500000  0.383305   \n",
       "3    0.621547   0.310774  0.500000  0.383305   \n",
       "4    0.621547   0.310774  0.500000  0.383305   \n",
       "..        ...        ...       ...       ...   \n",
       "175  0.829690   0.823192  0.810301  0.815556   \n",
       "176  0.621547   0.310774  0.500000  0.383305   \n",
       "177  0.621547   0.310774  0.500000  0.383305   \n",
       "178  0.621547   0.310774  0.500000  0.383305   \n",
       "179  0.621547   0.310774  0.500000  0.383305   \n",
       "\n",
       "                                                    _h  \n",
       "0    {'loss': 'log_loss', 'n_estimators': 5, 'crite...  \n",
       "1    {'loss': 'log_loss', 'n_estimators': 5, 'crite...  \n",
       "2    {'loss': 'log_loss', 'n_estimators': 5, 'crite...  \n",
       "3    {'loss': 'log_loss', 'n_estimators': 5, 'crite...  \n",
       "4    {'loss': 'log_loss', 'n_estimators': 5, 'crite...  \n",
       "..                                                 ...  \n",
       "175  {'loss': 'exponential', 'n_estimators': 205, '...  \n",
       "176  {'loss': 'exponential', 'n_estimators': 205, '...  \n",
       "177  {'loss': 'exponential', 'n_estimators': 205, '...  \n",
       "178  {'loss': 'exponential', 'n_estimators': 205, '...  \n",
       "179  {'loss': 'exponential', 'n_estimators': 205, '...  \n",
       "\n",
       "[180 rows x 5 columns]"
      ]
     },
     "execution_count": 12,
     "metadata": {},
     "output_type": "execute_result"
    }
   ],
   "source": [
    "\n",
    "pr = utils.kfold_cv(x_train, y_train, k = 10, H = list(utils.create_H(hyperparameters)), cv_fun = cv_rf, random_state = 12345)\n",
    "pr"
   ]
  },
  {
   "cell_type": "code",
   "execution_count": 14,
   "metadata": {},
   "outputs": [
    {
     "name": "stdout",
     "output_type": "stream",
     "text": [
      "0.8375448594347198\n",
      "{'loss': 'log_loss', 'n_estimators': 205, 'criterion': 'friedman_mse', 'max_features': None, 'alpha': 0.0}\n"
     ]
    },
    {
     "data": {
      "text/plain": [
       "accuracy                                              0.837545\n",
       "precision                                             0.831813\n",
       "recall                                                0.818785\n",
       "f                                                     0.824078\n",
       "_h           {'loss': 'log_loss', 'n_estimators': 205, 'cri...\n",
       "Name: 70, dtype: object"
      ]
     },
     "execution_count": 14,
     "metadata": {},
     "output_type": "execute_result"
    }
   ],
   "source": [
    "best_model = utils.get_best(pr)\n",
    "best_model"
   ]
  },
  {
   "cell_type": "code",
   "execution_count": null,
   "metadata": {},
   "outputs": [],
   "source": []
  },
  {
   "cell_type": "code",
   "execution_count": null,
   "metadata": {},
   "outputs": [],
   "source": []
  },
  {
   "cell_type": "code",
   "execution_count": null,
   "metadata": {},
   "outputs": [],
   "source": []
  },
  {
   "cell_type": "code",
   "execution_count": null,
   "metadata": {},
   "outputs": [],
   "source": []
  }
 ],
 "metadata": {
  "kernelspec": {
   "display_name": "Python 3.10.4 (conda)",
   "language": "python",
   "name": "python3"
  },
  "language_info": {
   "codemirror_mode": {
    "name": "ipython",
    "version": 3
   },
   "file_extension": ".py",
   "mimetype": "text/x-python",
   "name": "python",
   "nbconvert_exporter": "python",
   "pygments_lexer": "ipython3",
   "version": "3.10.4"
  },
  "orig_nbformat": 4,
  "vscode": {
   "interpreter": {
    "hash": "8b6d2988b6bb527c92d8337742f356380e9aca8030177bcc940328c644657745"
   }
  }
 },
 "nbformat": 4,
 "nbformat_minor": 2
}
