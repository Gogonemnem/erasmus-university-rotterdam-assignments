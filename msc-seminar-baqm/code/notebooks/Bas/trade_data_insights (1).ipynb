{
 "cells": [
  {
   "cell_type": "markdown",
   "id": "1eca2e65-a172-4c20-8ad1-af5b22cb2808",
   "metadata": {},
   "source": [
    "# Trade Data Background and Insights"
   ]
  },
  {
   "cell_type": "markdown",
   "id": "922d9c81-ebef-4026-afe7-5450b09ee0e3",
   "metadata": {},
   "source": [
    "https://ec.europa.eu/eurostat/web/international-trade-in-goods"
   ]
  },
  {
   "cell_type": "markdown",
   "id": "ed23005b-33ef-48e7-9217-af162745d545",
   "metadata": {
    "tags": []
   },
   "source": [
    "International trade in goods statistics (ITGS) published by Eurostat measure the value and quantity of goods traded between the EU Member States and their trade partners. The data contain the import of three goods. \n",
    "\n",
    "Self-explanatory descriptions (https://ec.europa.eu/eurostat/ramon/nomenclatures/index.cfm?TargetUrl=LST_NOM_DTL&StrNom=CN_2022&StrLanguageCode=EN&IntPcKey=&StrLayoutCode=HIERARCHIC&IntCurrentPage=1):\n",
    "- Sunflower oil\n",
    "    - index=0 15121191: Crude sunflower-seed oil (excl. for technical or industrial uses) \n",
    "    - index=1 15121990: Sunflower-seed or safflower oil and their fractions, whether or not refined, but not chemically modified (excl. for technical or industrial uses and crude)\n",
    "\n",
    "- Maize corn:\n",
    "    - index=0 10059000: Maize (excl. seed for sowing)\n",
    "    \n",
    "- Wheat:\n",
    "    - index=0 100119: Durum wheat (excl. seed for sowing)\n",
    "    - index=1 100199: Wheat and meslin (excl. seed for sowing, and durum wheat)\n",
    "    - index=2 100810: Buckwheat"
   ]
  },
  {
   "cell_type": "markdown",
   "id": "e90786dc-ae57-4f67-85ac-7919fb577a2c",
   "metadata": {},
   "source": [
    "The data contains among others, the following four fields for the case:\n",
    "- TIME_PERIOD: the month in which the goods were imported\n",
    "- declarant: The country to where the goods are imported (3 = The Netherlands)\n",
    "- partner: The country where the goods originate from.\n",
    "- indicators: Indicates whether the value is the Quantity or the Value measure\n",
    "- OBS_Value: the field that indicates the actual value."
   ]
  },
  {
   "cell_type": "markdown",
   "id": "ae89b4a7-6335-461e-8b1f-1080880fa440",
   "metadata": {},
   "source": [
    "#### Create Dataframe for each good "
   ]
  },
  {
   "cell_type": "code",
   "execution_count": 2,
   "id": "f6050f8b",
   "metadata": {},
   "outputs": [],
   "source": [
    "import pandas as pd\n",
    "import datetime\n",
    "\n",
    "def process_csv(filepath, product_index):\n",
    "    trade_data = pd.read_csv(filepath)\n",
    "\n",
    "    trade_data[\"TIME_PERIOD\"] = pd.to_datetime(trade_data[\"TIME_PERIOD\"], format = '%Y-%m').dt.date\n",
    "    trade_data = trade_data.rename(columns={\"partner\": \"PARTNER_codes\", \"declarant\": \"DECLARANT_codes\"})\n",
    "    trade_data = trade_data.drop_duplicates()\n",
    "    #trade_data = trade_data.dropna()\n",
    "\n",
    "    products = trade_data[\"product\"].drop_duplicates().to_list()\n",
    "    product_filter = products[product_index]\n",
    "\n",
    "    partner_countries = pd.read_csv(\"trade_data/partners.csv\", sep = \";\")\n",
    "\n",
    "    trade_data = pd.merge(trade_data, partner_countries, on = ['PARTNER_codes'], how = 'inner')\n",
    "\n",
    "    trade_data_pivot = trade_data.pivot(index=['PARTNER_Labels', 'TIME_PERIOD', 'product'], \n",
    "                                  columns='indicators', \n",
    "                                  values=['OBS_VALUE'])\n",
    "\n",
    "    trade_data_pivot.columns = trade_data_pivot.columns.map('_'.join)\n",
    "    trade_data_pivot = trade_data_pivot.reset_index()\n",
    "    trade_data_pivot = trade_data_pivot.dropna()\n",
    "\n",
    "    df = trade_data_pivot\n",
    "    df_product_filtered = df[df['product'] == product_filter]\n",
    "    \n",
    "    df_product_filtered = df_product_filtered.assign(OBS_VALUE_PER_METRIC_TON = (1000*df_product_filtered[\"OBS_VALUE_VALUE_1000EURO\"]).div(df_product_filtered[\"OBS_VALUE_QUANTITY_TON\"]))    \n",
    "    \n",
    "    return df_product_filtered\n",
    "#Declare DataFrames for all good/productcode combinations\n",
    "df_sunflower_oil_0 = process_csv(\"trade_data/sunflower_oil.csv\", 0)\n",
    "df_sunflower_oil_1 = process_csv(\"trade_data/sunflower_oil.csv\", 1)\n",
    "df_maize_corn_0 = process_csv(\"trade_data/maize_corn.csv\", 0)\n",
    "df_wheat_0 = process_csv(\"trade_data/wheat.csv\", 0)\n",
    "df_wheat_1 = process_csv(\"trade_data/wheat.csv\", 1)\n",
    "df_wheat_2 = process_csv(\"trade_data/wheat.csv\", 2)\n"
   ]
  },
  {
   "cell_type": "code",
   "execution_count": 3,
   "id": "9ffc8a43",
   "metadata": {},
   "outputs": [
    {
     "data": {
      "text/html": [
       "<div>\n",
       "<style scoped>\n",
       "    .dataframe tbody tr th:only-of-type {\n",
       "        vertical-align: middle;\n",
       "    }\n",
       "\n",
       "    .dataframe tbody tr th {\n",
       "        vertical-align: top;\n",
       "    }\n",
       "\n",
       "    .dataframe thead th {\n",
       "        text-align: right;\n",
       "    }\n",
       "</style>\n",
       "<table border=\"1\" class=\"dataframe\">\n",
       "  <thead>\n",
       "    <tr style=\"text-align: right;\">\n",
       "      <th></th>\n",
       "      <th>PARTNER_Labels</th>\n",
       "      <th>TIME_PERIOD</th>\n",
       "      <th>product</th>\n",
       "      <th>OBS_VALUE_QUANTITY_TON</th>\n",
       "      <th>OBS_VALUE_VALUE_1000EURO</th>\n",
       "      <th>OBS_VALUE_PER_METRIC_TON</th>\n",
       "    </tr>\n",
       "  </thead>\n",
       "  <tbody>\n",
       "    <tr>\n",
       "      <th>0</th>\n",
       "      <td>Argentina</td>\n",
       "      <td>2005-01-01</td>\n",
       "      <td>15121191</td>\n",
       "      <td>21086.3</td>\n",
       "      <td>10489.97</td>\n",
       "      <td>497.477983</td>\n",
       "    </tr>\n",
       "    <tr>\n",
       "      <th>1</th>\n",
       "      <td>Argentina</td>\n",
       "      <td>2005-02-01</td>\n",
       "      <td>15121191</td>\n",
       "      <td>18325.9</td>\n",
       "      <td>8946.33</td>\n",
       "      <td>488.179571</td>\n",
       "    </tr>\n",
       "    <tr>\n",
       "      <th>2</th>\n",
       "      <td>Argentina</td>\n",
       "      <td>2005-03-01</td>\n",
       "      <td>15121191</td>\n",
       "      <td>25661.5</td>\n",
       "      <td>12741.53</td>\n",
       "      <td>496.523196</td>\n",
       "    </tr>\n",
       "    <tr>\n",
       "      <th>3</th>\n",
       "      <td>Argentina</td>\n",
       "      <td>2005-04-01</td>\n",
       "      <td>15121191</td>\n",
       "      <td>33839.2</td>\n",
       "      <td>16665.38</td>\n",
       "      <td>492.487411</td>\n",
       "    </tr>\n",
       "    <tr>\n",
       "      <th>4</th>\n",
       "      <td>Argentina</td>\n",
       "      <td>2005-05-01</td>\n",
       "      <td>15121191</td>\n",
       "      <td>41051.1</td>\n",
       "      <td>19921.35</td>\n",
       "      <td>485.281759</td>\n",
       "    </tr>\n",
       "    <tr>\n",
       "      <th>...</th>\n",
       "      <td>...</td>\n",
       "      <td>...</td>\n",
       "      <td>...</td>\n",
       "      <td>...</td>\n",
       "      <td>...</td>\n",
       "      <td>...</td>\n",
       "    </tr>\n",
       "    <tr>\n",
       "      <th>7476</th>\n",
       "      <td>United States</td>\n",
       "      <td>2022-07-01</td>\n",
       "      <td>15121191</td>\n",
       "      <td>3.8</td>\n",
       "      <td>6.01</td>\n",
       "      <td>1581.578947</td>\n",
       "    </tr>\n",
       "    <tr>\n",
       "      <th>7478</th>\n",
       "      <td>United States</td>\n",
       "      <td>2022-08-01</td>\n",
       "      <td>15121191</td>\n",
       "      <td>3.3</td>\n",
       "      <td>5.29</td>\n",
       "      <td>1603.030303</td>\n",
       "    </tr>\n",
       "    <tr>\n",
       "      <th>7480</th>\n",
       "      <td>United States</td>\n",
       "      <td>2022-09-01</td>\n",
       "      <td>15121191</td>\n",
       "      <td>13.1</td>\n",
       "      <td>20.82</td>\n",
       "      <td>1589.312977</td>\n",
       "    </tr>\n",
       "    <tr>\n",
       "      <th>7482</th>\n",
       "      <td>United States</td>\n",
       "      <td>2022-10-01</td>\n",
       "      <td>15121191</td>\n",
       "      <td>3.6</td>\n",
       "      <td>5.68</td>\n",
       "      <td>1577.777778</td>\n",
       "    </tr>\n",
       "    <tr>\n",
       "      <th>7484</th>\n",
       "      <td>Uruguay</td>\n",
       "      <td>2005-12-01</td>\n",
       "      <td>15121191</td>\n",
       "      <td>19.5</td>\n",
       "      <td>15.20</td>\n",
       "      <td>779.487179</td>\n",
       "    </tr>\n",
       "  </tbody>\n",
       "</table>\n",
       "<p>3573 rows × 6 columns</p>\n",
       "</div>"
      ],
      "text/plain": [
       "     PARTNER_Labels TIME_PERIOD   product  OBS_VALUE_QUANTITY_TON  \\\n",
       "0         Argentina  2005-01-01  15121191                 21086.3   \n",
       "1         Argentina  2005-02-01  15121191                 18325.9   \n",
       "2         Argentina  2005-03-01  15121191                 25661.5   \n",
       "3         Argentina  2005-04-01  15121191                 33839.2   \n",
       "4         Argentina  2005-05-01  15121191                 41051.1   \n",
       "...             ...         ...       ...                     ...   \n",
       "7476  United States  2022-07-01  15121191                     3.8   \n",
       "7478  United States  2022-08-01  15121191                     3.3   \n",
       "7480  United States  2022-09-01  15121191                    13.1   \n",
       "7482  United States  2022-10-01  15121191                     3.6   \n",
       "7484        Uruguay  2005-12-01  15121191                    19.5   \n",
       "\n",
       "      OBS_VALUE_VALUE_1000EURO  OBS_VALUE_PER_METRIC_TON  \n",
       "0                     10489.97                497.477983  \n",
       "1                      8946.33                488.179571  \n",
       "2                     12741.53                496.523196  \n",
       "3                     16665.38                492.487411  \n",
       "4                     19921.35                485.281759  \n",
       "...                        ...                       ...  \n",
       "7476                      6.01               1581.578947  \n",
       "7478                      5.29               1603.030303  \n",
       "7480                     20.82               1589.312977  \n",
       "7482                      5.68               1577.777778  \n",
       "7484                     15.20                779.487179  \n",
       "\n",
       "[3573 rows x 6 columns]"
      ]
     },
     "execution_count": 3,
     "metadata": {},
     "output_type": "execute_result"
    }
   ],
   "source": [
    "df_sunflower_oil_0"
   ]
  },
  {
   "cell_type": "markdown",
   "id": "10732cb4",
   "metadata": {},
   "source": [
    "## Seasonality"
   ]
  },
  {
   "cell_type": "markdown",
   "id": "01847f48",
   "metadata": {},
   "source": [
    "## Top 10 partner countries for each good and every product (average (!!!) import quantity)"
   ]
  },
  {
   "cell_type": "code",
   "execution_count": 4,
   "id": "e33b4d13",
   "metadata": {
    "scrolled": true
   },
   "outputs": [
    {
     "name": "stderr",
     "output_type": "stream",
     "text": [
      "C:\\Users\\basbe\\AppData\\Local\\Temp\\ipykernel_24988\\715873767.py:6: SettingWithCopyWarning: \n",
      "A value is trying to be set on a copy of a slice from a DataFrame.\n",
      "Try using .loc[row_indexer,col_indexer] = value instead\n",
      "\n",
      "See the caveats in the documentation: https://pandas.pydata.org/pandas-docs/stable/user_guide/indexing.html#returning-a-view-versus-a-copy\n",
      "  df[\"OBS_VALUE_QUANTITY_TON\"] = df[\"OBS_VALUE_QUANTITY_TON\"].fillna(0)\n",
      "C:\\Users\\basbe\\AppData\\Local\\Temp\\ipykernel_24988\\715873767.py:6: SettingWithCopyWarning: \n",
      "A value is trying to be set on a copy of a slice from a DataFrame.\n",
      "Try using .loc[row_indexer,col_indexer] = value instead\n",
      "\n",
      "See the caveats in the documentation: https://pandas.pydata.org/pandas-docs/stable/user_guide/indexing.html#returning-a-view-versus-a-copy\n",
      "  df[\"OBS_VALUE_QUANTITY_TON\"] = df[\"OBS_VALUE_QUANTITY_TON\"].fillna(0)\n",
      "C:\\Users\\basbe\\AppData\\Local\\Temp\\ipykernel_24988\\715873767.py:6: SettingWithCopyWarning: \n",
      "A value is trying to be set on a copy of a slice from a DataFrame.\n",
      "Try using .loc[row_indexer,col_indexer] = value instead\n",
      "\n",
      "See the caveats in the documentation: https://pandas.pydata.org/pandas-docs/stable/user_guide/indexing.html#returning-a-view-versus-a-copy\n",
      "  df[\"OBS_VALUE_QUANTITY_TON\"] = df[\"OBS_VALUE_QUANTITY_TON\"].fillna(0)\n",
      "C:\\Users\\basbe\\AppData\\Local\\Temp\\ipykernel_24988\\715873767.py:6: SettingWithCopyWarning: \n",
      "A value is trying to be set on a copy of a slice from a DataFrame.\n",
      "Try using .loc[row_indexer,col_indexer] = value instead\n",
      "\n",
      "See the caveats in the documentation: https://pandas.pydata.org/pandas-docs/stable/user_guide/indexing.html#returning-a-view-versus-a-copy\n",
      "  df[\"OBS_VALUE_QUANTITY_TON\"] = df[\"OBS_VALUE_QUANTITY_TON\"].fillna(0)\n",
      "C:\\Users\\basbe\\AppData\\Local\\Temp\\ipykernel_24988\\715873767.py:6: SettingWithCopyWarning: \n",
      "A value is trying to be set on a copy of a slice from a DataFrame.\n",
      "Try using .loc[row_indexer,col_indexer] = value instead\n",
      "\n",
      "See the caveats in the documentation: https://pandas.pydata.org/pandas-docs/stable/user_guide/indexing.html#returning-a-view-versus-a-copy\n",
      "  df[\"OBS_VALUE_QUANTITY_TON\"] = df[\"OBS_VALUE_QUANTITY_TON\"].fillna(0)\n",
      "C:\\Users\\basbe\\AppData\\Local\\Temp\\ipykernel_24988\\715873767.py:6: SettingWithCopyWarning: \n",
      "A value is trying to be set on a copy of a slice from a DataFrame.\n",
      "Try using .loc[row_indexer,col_indexer] = value instead\n",
      "\n",
      "See the caveats in the documentation: https://pandas.pydata.org/pandas-docs/stable/user_guide/indexing.html#returning-a-view-versus-a-copy\n",
      "  df[\"OBS_VALUE_QUANTITY_TON\"] = df[\"OBS_VALUE_QUANTITY_TON\"].fillna(0)\n"
     ]
    },
    {
     "data": {
      "text/html": [
       "<div>\n",
       "<style scoped>\n",
       "    .dataframe tbody tr th:only-of-type {\n",
       "        vertical-align: middle;\n",
       "    }\n",
       "\n",
       "    .dataframe tbody tr th {\n",
       "        vertical-align: top;\n",
       "    }\n",
       "\n",
       "    .dataframe thead th {\n",
       "        text-align: right;\n",
       "    }\n",
       "</style>\n",
       "<table border=\"1\" class=\"dataframe\">\n",
       "  <thead>\n",
       "    <tr style=\"text-align: right;\">\n",
       "      <th></th>\n",
       "      <th>Crude sunflower-seed oil</th>\n",
       "      <th>Sunflower-seed or safflower oil</th>\n",
       "      <th>Maize</th>\n",
       "      <th>Durum wheat</th>\n",
       "      <th>Wheat and meslin</th>\n",
       "      <th>Buckwheat</th>\n",
       "    </tr>\n",
       "  </thead>\n",
       "  <tbody>\n",
       "    <tr>\n",
       "      <th>#1</th>\n",
       "      <td>(Ukraine, 20906.436842105264)</td>\n",
       "      <td>(Moldova, 4342.733333333334)</td>\n",
       "      <td>(Ukraine, 149147.13092105262)</td>\n",
       "      <td>(Germany, 7004.943076923077)</td>\n",
       "      <td>(France, 151817.47999999998)</td>\n",
       "      <td>(China, 255.92868852459017)</td>\n",
       "    </tr>\n",
       "    <tr>\n",
       "      <th>#2</th>\n",
       "      <td>(Argentina, 8412.71794871795)</td>\n",
       "      <td>(Ukraine, 2922.2754098360656)</td>\n",
       "      <td>(France, 97283.62523364487)</td>\n",
       "      <td>(United States, 5456.25)</td>\n",
       "      <td>(Germany, 87141.07384615384)</td>\n",
       "      <td>(Poland, 183.73541666666665)</td>\n",
       "    </tr>\n",
       "    <tr>\n",
       "      <th>#3</th>\n",
       "      <td>(Philippines, 6975.2)</td>\n",
       "      <td>(Belgium, 2769.3602803738318)</td>\n",
       "      <td>(Brazil, 54848.87810218978)</td>\n",
       "      <td>(Canada, 5141.782978723404)</td>\n",
       "      <td>(Belgium, 32241.18230769231)</td>\n",
       "      <td>(Lithuania, 159.36666666666667)</td>\n",
       "    </tr>\n",
       "    <tr>\n",
       "      <th>#4</th>\n",
       "      <td>(Hungary, 6268.249606299212)</td>\n",
       "      <td>(Germany, 2332.8271028037384)</td>\n",
       "      <td>(Germany, 33330.11915887851)</td>\n",
       "      <td>(Belgium, 4754.033076923078)</td>\n",
       "      <td>(Serbia, 22012.099999999995)</td>\n",
       "      <td>(New Zealand, 64.27777777777777)</td>\n",
       "    </tr>\n",
       "    <tr>\n",
       "      <th>#5</th>\n",
       "      <td>(Bolivia, 3119.2599999999998)</td>\n",
       "      <td>(France, 985.1616822429907)</td>\n",
       "      <td>(Romania, 31279.176229508197)</td>\n",
       "      <td>(Russia, 4400.0)</td>\n",
       "      <td>(United Kingdom, 15085.814728682171)</td>\n",
       "      <td>(Ukraine, 38.89)</td>\n",
       "    </tr>\n",
       "    <tr>\n",
       "      <th>#6</th>\n",
       "      <td>(Moldova, 2612.4285714285716)</td>\n",
       "      <td>(Spain, 330.0284615384615)</td>\n",
       "      <td>(Hungary, 18668.968691588783)</td>\n",
       "      <td>(France, 4113.1411290322585)</td>\n",
       "      <td>(Romania, 13922.781651376146)</td>\n",
       "      <td>(Russia, 37.334782608695654)</td>\n",
       "    </tr>\n",
       "    <tr>\n",
       "      <th>#7</th>\n",
       "      <td>(Russia, 2543.2250000000004)</td>\n",
       "      <td>(Romania, 232.9738095238095)</td>\n",
       "      <td>(Russia, 16452.49662921348)</td>\n",
       "      <td>(Ukraine, 3157.5)</td>\n",
       "      <td>(Latvia, 7272.2043478260875)</td>\n",
       "      <td>(Belarus, 21.866666666666664)</td>\n",
       "    </tr>\n",
       "    <tr>\n",
       "      <th>#8</th>\n",
       "      <td>(France, 2023.478971962617)</td>\n",
       "      <td>(United Kingdom, 212.25898876404494)</td>\n",
       "      <td>(Serbia, 15256.206976744186)</td>\n",
       "      <td>(Kazakhstan, 2256.733333333333)</td>\n",
       "      <td>(Russia, 7094.7475)</td>\n",
       "      <td>(India, 19.16)</td>\n",
       "    </tr>\n",
       "    <tr>\n",
       "      <th>#9</th>\n",
       "      <td>(Bulgaria, 1063.9737373737373)</td>\n",
       "      <td>(Hungary, 168.11353383458646)</td>\n",
       "      <td>(Canada, 15220.123529411765)</td>\n",
       "      <td>(Moldova, 338.875)</td>\n",
       "      <td>(Ukraine, 6505.112087912087)</td>\n",
       "      <td>(Czechia, 15.504651162790699)</td>\n",
       "    </tr>\n",
       "    <tr>\n",
       "      <th>#10</th>\n",
       "      <td>(Norway, 973.4)</td>\n",
       "      <td>(Austria, 146.18727272727273)</td>\n",
       "      <td>(Belgium, 14056.164018691588)</td>\n",
       "      <td>(Spain, 287.8175824175824)</td>\n",
       "      <td>(Denmark, 5902.565853658536)</td>\n",
       "      <td>(Germany, 14.912637362637362)</td>\n",
       "    </tr>\n",
       "  </tbody>\n",
       "</table>\n",
       "</div>"
      ],
      "text/plain": [
       "           Crude sunflower-seed oil       Sunflower-seed or safflower oil  \\\n",
       "#1    (Ukraine, 20906.436842105264)          (Moldova, 4342.733333333334)   \n",
       "#2    (Argentina, 8412.71794871795)         (Ukraine, 2922.2754098360656)   \n",
       "#3            (Philippines, 6975.2)         (Belgium, 2769.3602803738318)   \n",
       "#4     (Hungary, 6268.249606299212)         (Germany, 2332.8271028037384)   \n",
       "#5    (Bolivia, 3119.2599999999998)           (France, 985.1616822429907)   \n",
       "#6    (Moldova, 2612.4285714285716)            (Spain, 330.0284615384615)   \n",
       "#7     (Russia, 2543.2250000000004)          (Romania, 232.9738095238095)   \n",
       "#8      (France, 2023.478971962617)  (United Kingdom, 212.25898876404494)   \n",
       "#9   (Bulgaria, 1063.9737373737373)         (Hungary, 168.11353383458646)   \n",
       "#10                 (Norway, 973.4)         (Austria, 146.18727272727273)   \n",
       "\n",
       "                             Maize                      Durum wheat  \\\n",
       "#1   (Ukraine, 149147.13092105262)     (Germany, 7004.943076923077)   \n",
       "#2     (France, 97283.62523364487)         (United States, 5456.25)   \n",
       "#3     (Brazil, 54848.87810218978)      (Canada, 5141.782978723404)   \n",
       "#4    (Germany, 33330.11915887851)     (Belgium, 4754.033076923078)   \n",
       "#5   (Romania, 31279.176229508197)                 (Russia, 4400.0)   \n",
       "#6   (Hungary, 18668.968691588783)     (France, 4113.1411290322585)   \n",
       "#7     (Russia, 16452.49662921348)                (Ukraine, 3157.5)   \n",
       "#8    (Serbia, 15256.206976744186)  (Kazakhstan, 2256.733333333333)   \n",
       "#9    (Canada, 15220.123529411765)               (Moldova, 338.875)   \n",
       "#10  (Belgium, 14056.164018691588)       (Spain, 287.8175824175824)   \n",
       "\n",
       "                         Wheat and meslin                         Buckwheat  \n",
       "#1           (France, 151817.47999999998)       (China, 255.92868852459017)  \n",
       "#2           (Germany, 87141.07384615384)      (Poland, 183.73541666666665)  \n",
       "#3           (Belgium, 32241.18230769231)   (Lithuania, 159.36666666666667)  \n",
       "#4           (Serbia, 22012.099999999995)  (New Zealand, 64.27777777777777)  \n",
       "#5   (United Kingdom, 15085.814728682171)                  (Ukraine, 38.89)  \n",
       "#6          (Romania, 13922.781651376146)      (Russia, 37.334782608695654)  \n",
       "#7           (Latvia, 7272.2043478260875)     (Belarus, 21.866666666666664)  \n",
       "#8                    (Russia, 7094.7475)                    (India, 19.16)  \n",
       "#9           (Ukraine, 6505.112087912087)     (Czechia, 15.504651162790699)  \n",
       "#10          (Denmark, 5902.565853658536)     (Germany, 14.912637362637362)  "
      ]
     },
     "execution_count": 4,
     "metadata": {},
     "output_type": "execute_result"
    }
   ],
   "source": [
    "def get_means_list(df):\n",
    "    # Select the columns to use\n",
    "    df = df[[\"PARTNER_Labels\", \"OBS_VALUE_QUANTITY_TON\"]]\n",
    "    \n",
    "    # Replace NaN values with 0\n",
    "    df[\"OBS_VALUE_QUANTITY_TON\"] = df[\"OBS_VALUE_QUANTITY_TON\"].fillna(0)\n",
    "    \n",
    "    # Group the data by the unique values in \"column1\"\n",
    "    grouped_df = df.groupby(\"PARTNER_Labels\")\n",
    "\n",
    "    # Take the mean of \"column2\" for each group\n",
    "    means = grouped_df[\"OBS_VALUE_QUANTITY_TON\"].mean()\n",
    "\n",
    "    # Sort the means in descending order\n",
    "    sorted_means = means.sort_values(ascending=False)\n",
    "\n",
    "    # Save the means in a list\n",
    "    means_list = list(zip(sorted_means.index, sorted_means))\n",
    "\n",
    "    return means_list[:10]\n",
    "\n",
    "# Call the function and store the result in a variable\n",
    "means_list_sunflower_oil_0 = get_means_list(df_sunflower_oil_0)\n",
    "means_list_sunflower_oil_1 = get_means_list(df_sunflower_oil_1)\n",
    "means_list_maize_corn_0 = get_means_list(df_maize_corn_0)\n",
    "means_list_wheat_0 = get_means_list(df_wheat_0)\n",
    "means_list_wheat_1 = get_means_list(df_wheat_1)\n",
    "means_list_wheat_2 = get_means_list(df_wheat_2)\n",
    "\n",
    "dfs_and_means = [\n",
    "    (df_sunflower_oil_0, means_list_sunflower_oil_0),\n",
    "    (df_sunflower_oil_1, means_list_sunflower_oil_1),\n",
    "    (df_maize_corn_0, means_list_maize_corn_0),\n",
    "    (df_wheat_0, means_list_wheat_0),\n",
    "    (df_wheat_1, means_list_wheat_1),\n",
    "    (df_wheat_2, means_list_wheat_2),\n",
    "]\n",
    "\n",
    "# Create an empty list to store the rows of the final DataFrame\n",
    "rows = []\n",
    "\n",
    "# Iterate over the list of tuples and create a row for each dataframe\n",
    "for df, means_list in dfs_and_means:\n",
    "    # Create a dictionary with the data for the current row\n",
    "    row = {\n",
    "        '#1': means_list[0],\n",
    "        '#2': means_list[1],\n",
    "        '#3': means_list[2],\n",
    "        '#4': means_list[3],\n",
    "        '#5': means_list[4],\n",
    "        '#6': means_list[5],\n",
    "        '#7': means_list[6],\n",
    "        '#8': means_list[7],\n",
    "        '#9': means_list[8],\n",
    "        '#10': means_list[9],\n",
    "        # Add more columns here if needed\n",
    "    }\n",
    "    # Append the row to the list of rows\n",
    "    rows.append(row)\n",
    "\n",
    "# Create a DataFrame from the rows\n",
    "df_means = pd.DataFrame(rows)\n",
    "\n",
    "# Display the DataFrame (transpose)\n",
    "df_top10 = df_means.T\n",
    "df_top10.columns=['Crude sunflower-seed oil', 'Sunflower-seed or safflower oil', ' Maize', 'Durum wheat', 'Wheat and meslin', 'Buckwheat']\n",
    "df_top10"
   ]
  },
  {
   "cell_type": "code",
   "execution_count": 5,
   "id": "71ddc123",
   "metadata": {},
   "outputs": [
    {
     "data": {
      "text/html": [
       "<div>\n",
       "<style scoped>\n",
       "    .dataframe tbody tr th:only-of-type {\n",
       "        vertical-align: middle;\n",
       "    }\n",
       "\n",
       "    .dataframe tbody tr th {\n",
       "        vertical-align: top;\n",
       "    }\n",
       "\n",
       "    .dataframe thead th {\n",
       "        text-align: right;\n",
       "    }\n",
       "</style>\n",
       "<table border=\"1\" class=\"dataframe\">\n",
       "  <thead>\n",
       "    <tr style=\"text-align: right;\">\n",
       "      <th></th>\n",
       "      <th>Crude sunflower-seed oil</th>\n",
       "      <th>Sunflower-seed or safflower oil</th>\n",
       "      <th>Maize</th>\n",
       "      <th>Durum wheat</th>\n",
       "      <th>Wheat and meslin</th>\n",
       "      <th>Buckwheat</th>\n",
       "    </tr>\n",
       "  </thead>\n",
       "  <tbody>\n",
       "    <tr>\n",
       "      <th>#1</th>\n",
       "      <td>(Ukraine, 20906.436842105264)</td>\n",
       "      <td>(Moldova, 4342.733333333334)</td>\n",
       "      <td>(Ukraine, 149147.13092105262)</td>\n",
       "      <td>(Germany, 7004.943076923077)</td>\n",
       "      <td>(France, 151817.47999999998)</td>\n",
       "      <td>(China, 255.92868852459017)</td>\n",
       "    </tr>\n",
       "    <tr>\n",
       "      <th>#2</th>\n",
       "      <td>(Argentina, 8412.71794871795)</td>\n",
       "      <td>(Ukraine, 2922.2754098360656)</td>\n",
       "      <td>(France, 97283.62523364487)</td>\n",
       "      <td>(United States, 5456.25)</td>\n",
       "      <td>(Germany, 87141.07384615384)</td>\n",
       "      <td>(Poland, 183.73541666666665)</td>\n",
       "    </tr>\n",
       "    <tr>\n",
       "      <th>#3</th>\n",
       "      <td>(Philippines, 6975.2)</td>\n",
       "      <td>(Belgium, 2769.3602803738318)</td>\n",
       "      <td>(Brazil, 54848.87810218978)</td>\n",
       "      <td>(Canada, 5141.782978723404)</td>\n",
       "      <td>(Belgium, 32241.18230769231)</td>\n",
       "      <td>(Lithuania, 159.36666666666667)</td>\n",
       "    </tr>\n",
       "    <tr>\n",
       "      <th>#4</th>\n",
       "      <td>(Hungary, 6268.249606299212)</td>\n",
       "      <td>(Germany, 2332.8271028037384)</td>\n",
       "      <td>(Germany, 33330.11915887851)</td>\n",
       "      <td>(Belgium, 4754.033076923078)</td>\n",
       "      <td>(Serbia, 22012.099999999995)</td>\n",
       "      <td>(New Zealand, 64.27777777777777)</td>\n",
       "    </tr>\n",
       "    <tr>\n",
       "      <th>#5</th>\n",
       "      <td>(Bolivia, 3119.2599999999998)</td>\n",
       "      <td>(France, 985.1616822429907)</td>\n",
       "      <td>(Romania, 31279.176229508197)</td>\n",
       "      <td>(Russia, 4400.0)</td>\n",
       "      <td>(United Kingdom, 15085.814728682171)</td>\n",
       "      <td>(Ukraine, 38.89)</td>\n",
       "    </tr>\n",
       "    <tr>\n",
       "      <th>#6</th>\n",
       "      <td>(Moldova, 2612.4285714285716)</td>\n",
       "      <td>(Spain, 330.0284615384615)</td>\n",
       "      <td>(Hungary, 18668.968691588783)</td>\n",
       "      <td>(France, 4113.1411290322585)</td>\n",
       "      <td>(Romania, 13922.781651376146)</td>\n",
       "      <td>(Russia, 37.334782608695654)</td>\n",
       "    </tr>\n",
       "    <tr>\n",
       "      <th>#7</th>\n",
       "      <td>(Russia, 2543.2250000000004)</td>\n",
       "      <td>(Romania, 232.9738095238095)</td>\n",
       "      <td>(Russia, 16452.49662921348)</td>\n",
       "      <td>(Ukraine, 3157.5)</td>\n",
       "      <td>(Latvia, 7272.2043478260875)</td>\n",
       "      <td>(Belarus, 21.866666666666664)</td>\n",
       "    </tr>\n",
       "    <tr>\n",
       "      <th>#8</th>\n",
       "      <td>(France, 2023.478971962617)</td>\n",
       "      <td>(United Kingdom, 212.25898876404494)</td>\n",
       "      <td>(Serbia, 15256.206976744186)</td>\n",
       "      <td>(Kazakhstan, 2256.733333333333)</td>\n",
       "      <td>(Russia, 7094.7475)</td>\n",
       "      <td>(India, 19.16)</td>\n",
       "    </tr>\n",
       "    <tr>\n",
       "      <th>#9</th>\n",
       "      <td>(Bulgaria, 1063.9737373737373)</td>\n",
       "      <td>(Hungary, 168.11353383458646)</td>\n",
       "      <td>(Canada, 15220.123529411765)</td>\n",
       "      <td>(Moldova, 338.875)</td>\n",
       "      <td>(Ukraine, 6505.112087912087)</td>\n",
       "      <td>(Czechia, 15.504651162790699)</td>\n",
       "    </tr>\n",
       "    <tr>\n",
       "      <th>#10</th>\n",
       "      <td>(Norway, 973.4)</td>\n",
       "      <td>(Austria, 146.18727272727273)</td>\n",
       "      <td>(Belgium, 14056.164018691588)</td>\n",
       "      <td>(Spain, 287.8175824175824)</td>\n",
       "      <td>(Denmark, 5902.565853658536)</td>\n",
       "      <td>(Germany, 14.912637362637362)</td>\n",
       "    </tr>\n",
       "  </tbody>\n",
       "</table>\n",
       "</div>"
      ],
      "text/plain": [
       "           Crude sunflower-seed oil       Sunflower-seed or safflower oil  \\\n",
       "#1    (Ukraine, 20906.436842105264)          (Moldova, 4342.733333333334)   \n",
       "#2    (Argentina, 8412.71794871795)         (Ukraine, 2922.2754098360656)   \n",
       "#3            (Philippines, 6975.2)         (Belgium, 2769.3602803738318)   \n",
       "#4     (Hungary, 6268.249606299212)         (Germany, 2332.8271028037384)   \n",
       "#5    (Bolivia, 3119.2599999999998)           (France, 985.1616822429907)   \n",
       "#6    (Moldova, 2612.4285714285716)            (Spain, 330.0284615384615)   \n",
       "#7     (Russia, 2543.2250000000004)          (Romania, 232.9738095238095)   \n",
       "#8      (France, 2023.478971962617)  (United Kingdom, 212.25898876404494)   \n",
       "#9   (Bulgaria, 1063.9737373737373)         (Hungary, 168.11353383458646)   \n",
       "#10                 (Norway, 973.4)         (Austria, 146.18727272727273)   \n",
       "\n",
       "                             Maize                      Durum wheat  \\\n",
       "#1   (Ukraine, 149147.13092105262)     (Germany, 7004.943076923077)   \n",
       "#2     (France, 97283.62523364487)         (United States, 5456.25)   \n",
       "#3     (Brazil, 54848.87810218978)      (Canada, 5141.782978723404)   \n",
       "#4    (Germany, 33330.11915887851)     (Belgium, 4754.033076923078)   \n",
       "#5   (Romania, 31279.176229508197)                 (Russia, 4400.0)   \n",
       "#6   (Hungary, 18668.968691588783)     (France, 4113.1411290322585)   \n",
       "#7     (Russia, 16452.49662921348)                (Ukraine, 3157.5)   \n",
       "#8    (Serbia, 15256.206976744186)  (Kazakhstan, 2256.733333333333)   \n",
       "#9    (Canada, 15220.123529411765)               (Moldova, 338.875)   \n",
       "#10  (Belgium, 14056.164018691588)       (Spain, 287.8175824175824)   \n",
       "\n",
       "                         Wheat and meslin                         Buckwheat  \n",
       "#1           (France, 151817.47999999998)       (China, 255.92868852459017)  \n",
       "#2           (Germany, 87141.07384615384)      (Poland, 183.73541666666665)  \n",
       "#3           (Belgium, 32241.18230769231)   (Lithuania, 159.36666666666667)  \n",
       "#4           (Serbia, 22012.099999999995)  (New Zealand, 64.27777777777777)  \n",
       "#5   (United Kingdom, 15085.814728682171)                  (Ukraine, 38.89)  \n",
       "#6          (Romania, 13922.781651376146)      (Russia, 37.334782608695654)  \n",
       "#7           (Latvia, 7272.2043478260875)     (Belarus, 21.866666666666664)  \n",
       "#8                    (Russia, 7094.7475)                    (India, 19.16)  \n",
       "#9           (Ukraine, 6505.112087912087)     (Czechia, 15.504651162790699)  \n",
       "#10          (Denmark, 5902.565853658536)     (Germany, 14.912637362637362)  "
      ]
     },
     "execution_count": 5,
     "metadata": {},
     "output_type": "execute_result"
    }
   ],
   "source": [
    "import pandas as pd\n",
    "\n",
    "def get_means_list(df):\n",
    "    df['TIME_PERIOD'] = pd.to_datetime(df['TIME_PERIOD'])\n",
    "    df = df.groupby(['PARTNER_Labels', pd.Grouper(key='TIME_PERIOD', freq='M')]).mean()\n",
    "    # Group the data by country and take the mean of 'OBS_VALUE_QUANTITY_TON' column\n",
    "    grouped_df = df.groupby(level=0).mean()\n",
    "    # Sort the means in descending order\n",
    "    sorted_means = grouped_df[\"OBS_VALUE_QUANTITY_TON\"].sort_values(ascending=False)\n",
    "    # Save the means in a list\n",
    "    means_list = list(zip(sorted_means.index, sorted_means))\n",
    "    # Return the top 10 values\n",
    "    return means_list[:10]\n",
    "\n",
    "# Call the function and store the result in a variable\n",
    "means_list_sunflower_oil_0 = get_means_list(df_sunflower_oil_0)\n",
    "means_list_sunflower_oil_1 = get_means_list(df_sunflower_oil_1)\n",
    "means_list_maize_corn_0 = get_means_list(df_maize_corn_0)\n",
    "means_list_wheat_0 = get_means_list(df_wheat_0)\n",
    "means_list_wheat_1 = get_means_list(df_wheat_1)\n",
    "means_list_wheat_2 = get_means_list(df_wheat_2)\n",
    "\n",
    "dfs_and_means = [\n",
    "    (df_sunflower_oil_0, means_list_sunflower_oil_0),\n",
    "    (df_sunflower_oil_1, means_list_sunflower_oil_1),\n",
    "    (df_maize_corn_0, means_list_maize_corn_0),\n",
    "    (df_wheat_0, means_list_wheat_0),\n",
    "    (df_wheat_1, means_list_wheat_1),\n",
    "    (df_wheat_2, means_list_wheat_2),\n",
    "]\n",
    "\n",
    "# Create an empty list to store the rows of the final DataFrame\n",
    "rows = []\n",
    "\n",
    "# Iterate over the list of tuples and create a row for each dataframe\n",
    "for df, means_list in dfs_and_means:\n",
    "    # Create a dictionary with the data for the current row\n",
    "    row = {\n",
    "        '#1': means_list[0],\n",
    "        '#2': means_list[1],\n",
    "        '#3': means_list[2],\n",
    "        '#4': means_list[3],\n",
    "        '#5': means_list[4],\n",
    "        '#6': means_list[5],\n",
    "        '#7': means_list[6],\n",
    "        '#8': means_list[7],\n",
    "        '#9': means_list[8],\n",
    "        '#10': means_list[9],\n",
    "        # Add more columns here if needed\n",
    "    }\n",
    "    # Append the row to the list of rows\n",
    "    rows.append(row)\n",
    "\n",
    "# Create a DataFrame from the rows\n",
    "df_means = pd.DataFrame(rows)\n",
    "\n",
    "# Display the DataFrame (transpose)\n",
    "df_top10 = df_means.T\n",
    "df_top10.columns=['Crude sunflower-seed oil', 'Sunflower-seed or safflower oil', ' Maize', 'Durum wheat', 'Wheat and meslin', 'Buckwheat']\n",
    "df_top10\n"
   ]
  },
  {
   "cell_type": "markdown",
   "id": "edecf065",
   "metadata": {},
   "source": [
    "## Graphical Inspection"
   ]
  },
  {
   "cell_type": "code",
   "execution_count": 6,
   "id": "3656d0a4",
   "metadata": {},
   "outputs": [],
   "source": [
    "date_filter = datetime.date(year=2022,month=5,day=1)"
   ]
  },
  {
   "cell_type": "markdown",
   "id": "13787183",
   "metadata": {},
   "source": [
    "### Ukraine's exports over time vs. other countries"
   ]
  },
  {
   "cell_type": "code",
   "execution_count": 7,
   "id": "07d74142",
   "metadata": {},
   "outputs": [
    {
     "data": {
      "image/png": "[encoded data removed]",
      "text/plain": [
       "<Figure size 432x288 with 1 Axes>"
      ]
     },
     "metadata": {
      "needs_background": "light"
     },
     "output_type": "display_data"
    },
    {
     "data": {
      "image/png": "[encoded data removed]",
      "text/plain": [
       "<Figure size 432x288 with 1 Axes>"
      ]
     },
     "metadata": {
      "needs_background": "light"
     },
     "output_type": "display_data"
    },
    {
     "data": {
      "image/png": "[encoded data removed]",
      "text/plain": [
       "<Figure size 432x288 with 1 Axes>"
      ]
     },
     "metadata": {
      "needs_background": "light"
     },
     "output_type": "display_data"
    },
    {
     "data": {
      "image/png": "[encoded data removed]",
      "text/plain": [
       "<Figure size 432x288 with 1 Axes>"
      ]
     },
     "metadata": {
      "needs_background": "light"
     },
     "output_type": "display_data"
    },
    {
     "data": {
      "image/png": "[encoded data removed]",
      "text/plain": [
       "<Figure size 432x288 with 1 Axes>"
      ]
     },
     "metadata": {
      "needs_background": "light"
     },
     "output_type": "display_data"
    },
    {
     "data": {
      "image/png": "[encoded data removed]",
      "text/plain": [
       "<Figure size 432x288 with 1 Axes>"
      ]
     },
     "metadata": {
      "needs_background": "light"
     },
     "output_type": "display_data"
    }
   ],
   "source": [
    "import matplotlib.pyplot as plt\n",
    "\n",
    "# List of DataFrames\n",
    "dataframes = [df_sunflower_oil_0, df_sunflower_oil_1, df_maize_corn_0, df_wheat_0, df_wheat_1, df_wheat_2]\n",
    "\n",
    "# List of values for the 'Type' column\n",
    "values = ['Ukraine', 'Germany', 'France', 'China', 'Moldova']\n",
    "\n",
    "# List of colors\n",
    "colors = ['red', 'blue', 'green', 'orange', 'black']\n",
    "\n",
    "# Loop through each DataFrame\n",
    "for df in dataframes:\n",
    "    # Loop through each value\n",
    "    for value, color in zip(values, colors):\n",
    "        # Select the rows where the value in the 'Type' column is 'Specific Value'\n",
    "        df_specific_value = df[(df['PARTNER_Labels'] == value)]\n",
    "        # Make a line plot with time on the x-axis and the 'Value' column on the y-axis\n",
    "        plt.plot(df_specific_value['TIME_PERIOD'], df_specific_value['OBS_VALUE_PER_METRIC_TON'], color=color)\n",
    "        \n",
    "    # Add a title and label the axes\n",
    "    plt.title(next(k for k,v in locals().items() if v is df) + ' OBS_VALUE_PER_METRIC_TON')\n",
    "    plt.xlabel('Time')\n",
    "    plt.ylabel('Value')\n",
    "    plt.legend(values)\n",
    "    # Set the x-axis limits\n",
    "    plt.xlim(date_filter, pd.Timestamp('2022-12-30'))\n",
    "\n",
    "    # Display the plot\n",
    "    plt.show()"
   ]
  },
  {
   "cell_type": "markdown",
   "id": "96330dd3",
   "metadata": {},
   "source": [
    "### BELOW IS CODE JUNK"
   ]
  },
  {
   "cell_type": "code",
   "execution_count": 8,
   "id": "45059f72",
   "metadata": {},
   "outputs": [],
   "source": [
    "import pandas as pd\n",
    "import datetime\n",
    "\n",
    "trade_data = pd.read_csv(\"trade_data/wheat.csv\")\n",
    "\n",
    "trade_data[\"TIME_PERIOD\"] = pd.to_datetime(trade_data[\"TIME_PERIOD\"], format = '%Y-%m').dt.date\n",
    "trade_data = trade_data.rename(columns={\"partner\": \"PARTNER_codes\", \"declarant\": \"DECLARANT_codes\"})\n",
    "trade_data = trade_data.drop_duplicates()\n",
    "#trade_data = trade_data.dropna()\n",
    "\n",
    "products = trade_data[\"product\"].drop_duplicates().to_list()\n",
    "product_filter = products[1]\n",
    "\n",
    "partner_countries = pd.read_csv(\"trade_data/partners.csv\", sep = \";\")\n",
    "\n",
    "trade_data = pd.merge(trade_data, partner_countries, on = ['PARTNER_codes'], how = 'inner')\n",
    "\n",
    "trade_data_pivot = trade_data.pivot(index=['PARTNER_Labels', 'TIME_PERIOD', 'product'], \n",
    "                              columns='indicators', \n",
    "                              values=['OBS_VALUE'])\n",
    "\n",
    "trade_data_pivot.columns = trade_data_pivot.columns.map('_'.join)\n",
    "trade_data_pivot = trade_data_pivot.reset_index()\n",
    "trade_data_pivot = trade_data_pivot.dropna()\n",
    "\n",
    "df = trade_data_pivot\n"
   ]
  },
  {
   "cell_type": "code",
   "execution_count": 9,
   "id": "ce58e8be-057f-4540-9be6-7514ee788edf",
   "metadata": {},
   "outputs": [],
   "source": [
    "import pandas as pd\n",
    "import datetime\n",
    "\n",
    "trade_data = pd.read_csv(\"trade_data/maize_corn.csv\")\n",
    "\n",
    "trade_data[\"TIME_PERIOD\"] = pd.to_datetime(trade_data[\"TIME_PERIOD\"], format = '%Y-%m').dt.date\n",
    "trade_data = trade_data.rename(columns={\"partner\": \"PARTNER_codes\", \"declarant\": \"DECLARANT_codes\"})\n",
    "trade_data = trade_data.drop_duplicates()\n",
    "#trade_data = trade_data.dropna()\n"
   ]
  },
  {
   "cell_type": "code",
   "execution_count": 10,
   "id": "4b1ce137-e0d1-4fad-97b5-e5860f4eb514",
   "metadata": {},
   "outputs": [
    {
     "name": "stdout",
     "output_type": "stream",
     "text": [
      "[10059000]\n",
      "10059000\n"
     ]
    }
   ],
   "source": [
    "products = trade_data[\"product\"].drop_duplicates().to_list()\n",
    "product_filter = products[0]\n",
    "\n",
    "trade_data = pd.merge(trade_data, partner_countries, on = ['PARTNER_codes'], how = 'inner')\n",
    "\n",
    "print(products)\n",
    "print(product_filter)"
   ]
  },
  {
   "cell_type": "markdown",
   "id": "91d73619-9499-43bc-8223-0d2312b2ac3a",
   "metadata": {},
   "source": [
    "#### We've also included a file with the labels for all the partner countries:"
   ]
  },
  {
   "cell_type": "code",
   "execution_count": 11,
   "id": "5dad4e38-79c6-4d3c-927e-c54ece0a709d",
   "metadata": {},
   "outputs": [
    {
     "name": "stdout",
     "output_type": "stream",
     "text": [
      "   PARTNER_codes  PARTNER_Labels\n",
      "0              1          France\n",
      "1              3     Netherlands\n",
      "2              4         Germany\n",
      "3              5           Italy\n",
      "4              6  United Kingdom\n",
      "5              7         Ireland\n",
      "6              8         Denmark\n"
     ]
    }
   ],
   "source": [
    "partner_countries = pd.read_csv(\"trade_data/partners.csv\", sep = \";\")\n",
    "print(partner_countries.head(7))"
   ]
  },
  {
   "cell_type": "markdown",
   "id": "869e81f5-6e93-4606-8846-2686a70512b7",
   "metadata": {},
   "source": [
    "#### View of the data:"
   ]
  },
  {
   "cell_type": "code",
   "execution_count": 12,
   "id": "91eb7290-abe7-416f-9808-2bb37ca1436d",
   "metadata": {},
   "outputs": [
    {
     "name": "stdout",
     "output_type": "stream",
     "text": [
      "               DATAFLOW        LAST UPDATE freq  DECLARANT_codes  \\\n",
      "0  ESTAT:DS-057380(1.0)  05/01/23 14:01:00    M                3   \n",
      "1  ESTAT:DS-057380(1.0)  05/01/23 14:01:00    M                3   \n",
      "2  ESTAT:DS-057380(1.0)  05/01/23 14:01:00    M                3   \n",
      "3  ESTAT:DS-057380(1.0)  05/01/23 14:01:00    M                3   \n",
      "4  ESTAT:DS-057380(1.0)  05/01/23 14:01:00    M                3   \n",
      "\n",
      "   PARTNER_codes   product  flow  stat_regime    indicators TIME_PERIOD  \\\n",
      "0              1  10059000     1            1  QUANTITY_TON  2005-01-01   \n",
      "1              1  10059000     1            1  QUANTITY_TON  2005-02-01   \n",
      "2              1  10059000     1            1  QUANTITY_TON  2005-03-01   \n",
      "3              1  10059000     1            1  QUANTITY_TON  2005-04-01   \n",
      "4              1  10059000     1            1  QUANTITY_TON  2005-05-01   \n",
      "\n",
      "   OBS_VALUE  OBS_FLAG PARTNER_Labels_x PARTNER_Labels_y  \n",
      "0   106983.9       NaN           France           France  \n",
      "1   126648.5       NaN           France           France  \n",
      "2    94526.9       NaN           France           France  \n",
      "3   137965.3       NaN           France           France  \n",
      "4   122365.8       NaN           France           France  \n"
     ]
    }
   ],
   "source": [
    "trade_data = pd.merge(trade_data, partner_countries, on = ['PARTNER_codes'], how = 'inner')\n",
    "\n",
    "print(trade_data.head(5))"
   ]
  },
  {
   "cell_type": "code",
   "execution_count": 13,
   "id": "bdebbd58-02dc-40ec-8571-2b738aa58739",
   "metadata": {},
   "outputs": [
    {
     "ename": "KeyError",
     "evalue": "'PARTNER_Labels'",
     "output_type": "error",
     "traceback": [
      "\u001b[1;31m---------------------------------------------------------------------------\u001b[0m",
      "\u001b[1;31mKeyError\u001b[0m                                  Traceback (most recent call last)",
      "File \u001b[1;32m~\\anaconda3\\lib\\site-packages\\pandas\\core\\indexes\\base.py:3621\u001b[0m, in \u001b[0;36mIndex.get_loc\u001b[1;34m(self, key, method, tolerance)\u001b[0m\n\u001b[0;32m   3620\u001b[0m \u001b[38;5;28;01mtry\u001b[39;00m:\n\u001b[1;32m-> 3621\u001b[0m     \u001b[38;5;28;01mreturn\u001b[39;00m \u001b[38;5;28;43mself\u001b[39;49m\u001b[38;5;241;43m.\u001b[39;49m\u001b[43m_engine\u001b[49m\u001b[38;5;241;43m.\u001b[39;49m\u001b[43mget_loc\u001b[49m\u001b[43m(\u001b[49m\u001b[43mcasted_key\u001b[49m\u001b[43m)\u001b[49m\n\u001b[0;32m   3622\u001b[0m \u001b[38;5;28;01mexcept\u001b[39;00m \u001b[38;5;167;01mKeyError\u001b[39;00m \u001b[38;5;28;01mas\u001b[39;00m err:\n",
      "File \u001b[1;32m~\\anaconda3\\lib\\site-packages\\pandas\\_libs\\index.pyx:136\u001b[0m, in \u001b[0;36mpandas._libs.index.IndexEngine.get_loc\u001b[1;34m()\u001b[0m\n",
      "File \u001b[1;32m~\\anaconda3\\lib\\site-packages\\pandas\\_libs\\index.pyx:163\u001b[0m, in \u001b[0;36mpandas._libs.index.IndexEngine.get_loc\u001b[1;34m()\u001b[0m\n",
      "File \u001b[1;32mpandas\\_libs\\hashtable_class_helper.pxi:5198\u001b[0m, in \u001b[0;36mpandas._libs.hashtable.PyObjectHashTable.get_item\u001b[1;34m()\u001b[0m\n",
      "File \u001b[1;32mpandas\\_libs\\hashtable_class_helper.pxi:5206\u001b[0m, in \u001b[0;36mpandas._libs.hashtable.PyObjectHashTable.get_item\u001b[1;34m()\u001b[0m\n",
      "\u001b[1;31mKeyError\u001b[0m: 'PARTNER_Labels'",
      "\nThe above exception was the direct cause of the following exception:\n",
      "\u001b[1;31mKeyError\u001b[0m                                  Traceback (most recent call last)",
      "Input \u001b[1;32mIn [13]\u001b[0m, in \u001b[0;36m<cell line: 1>\u001b[1;34m()\u001b[0m\n\u001b[1;32m----> 1\u001b[0m trade_data_pivot \u001b[38;5;241m=\u001b[39m \u001b[43mtrade_data\u001b[49m\u001b[38;5;241;43m.\u001b[39;49m\u001b[43mpivot\u001b[49m\u001b[43m(\u001b[49m\u001b[43mindex\u001b[49m\u001b[38;5;241;43m=\u001b[39;49m\u001b[43m[\u001b[49m\u001b[38;5;124;43m'\u001b[39;49m\u001b[38;5;124;43mPARTNER_Labels\u001b[39;49m\u001b[38;5;124;43m'\u001b[39;49m\u001b[43m,\u001b[49m\u001b[43m \u001b[49m\u001b[38;5;124;43m'\u001b[39;49m\u001b[38;5;124;43mTIME_PERIOD\u001b[39;49m\u001b[38;5;124;43m'\u001b[39;49m\u001b[43m,\u001b[49m\u001b[43m \u001b[49m\u001b[38;5;124;43m'\u001b[39;49m\u001b[38;5;124;43mproduct\u001b[39;49m\u001b[38;5;124;43m'\u001b[39;49m\u001b[43m]\u001b[49m\u001b[43m,\u001b[49m\u001b[43m \u001b[49m\n\u001b[0;32m      2\u001b[0m \u001b[43m                              \u001b[49m\u001b[43mcolumns\u001b[49m\u001b[38;5;241;43m=\u001b[39;49m\u001b[38;5;124;43m'\u001b[39;49m\u001b[38;5;124;43mindicators\u001b[39;49m\u001b[38;5;124;43m'\u001b[39;49m\u001b[43m,\u001b[49m\u001b[43m \u001b[49m\n\u001b[0;32m      3\u001b[0m \u001b[43m                              \u001b[49m\u001b[43mvalues\u001b[49m\u001b[38;5;241;43m=\u001b[39;49m\u001b[43m[\u001b[49m\u001b[38;5;124;43m'\u001b[39;49m\u001b[38;5;124;43mOBS_VALUE\u001b[39;49m\u001b[38;5;124;43m'\u001b[39;49m\u001b[43m]\u001b[49m\u001b[43m)\u001b[49m\n\u001b[0;32m      5\u001b[0m trade_data_pivot\u001b[38;5;241m.\u001b[39mcolumns \u001b[38;5;241m=\u001b[39m trade_data_pivot\u001b[38;5;241m.\u001b[39mcolumns\u001b[38;5;241m.\u001b[39mmap(\u001b[38;5;124m'\u001b[39m\u001b[38;5;124m_\u001b[39m\u001b[38;5;124m'\u001b[39m\u001b[38;5;241m.\u001b[39mjoin)\n\u001b[0;32m      6\u001b[0m trade_data_pivot \u001b[38;5;241m=\u001b[39m trade_data_pivot\u001b[38;5;241m.\u001b[39mreset_index()\n",
      "File \u001b[1;32m~\\anaconda3\\lib\\site-packages\\pandas\\core\\frame.py:7876\u001b[0m, in \u001b[0;36mDataFrame.pivot\u001b[1;34m(self, index, columns, values)\u001b[0m\n\u001b[0;32m   7871\u001b[0m \u001b[38;5;129m@Substitution\u001b[39m(\u001b[38;5;124m\"\u001b[39m\u001b[38;5;124m\"\u001b[39m)\n\u001b[0;32m   7872\u001b[0m \u001b[38;5;129m@Appender\u001b[39m(_shared_docs[\u001b[38;5;124m\"\u001b[39m\u001b[38;5;124mpivot\u001b[39m\u001b[38;5;124m\"\u001b[39m])\n\u001b[0;32m   7873\u001b[0m \u001b[38;5;28;01mdef\u001b[39;00m \u001b[38;5;21mpivot\u001b[39m(\u001b[38;5;28mself\u001b[39m, index\u001b[38;5;241m=\u001b[39m\u001b[38;5;28;01mNone\u001b[39;00m, columns\u001b[38;5;241m=\u001b[39m\u001b[38;5;28;01mNone\u001b[39;00m, values\u001b[38;5;241m=\u001b[39m\u001b[38;5;28;01mNone\u001b[39;00m) \u001b[38;5;241m-\u001b[39m\u001b[38;5;241m>\u001b[39m DataFrame:\n\u001b[0;32m   7874\u001b[0m     \u001b[38;5;28;01mfrom\u001b[39;00m \u001b[38;5;21;01mpandas\u001b[39;00m\u001b[38;5;21;01m.\u001b[39;00m\u001b[38;5;21;01mcore\u001b[39;00m\u001b[38;5;21;01m.\u001b[39;00m\u001b[38;5;21;01mreshape\u001b[39;00m\u001b[38;5;21;01m.\u001b[39;00m\u001b[38;5;21;01mpivot\u001b[39;00m \u001b[38;5;28;01mimport\u001b[39;00m pivot\n\u001b[1;32m-> 7876\u001b[0m     \u001b[38;5;28;01mreturn\u001b[39;00m \u001b[43mpivot\u001b[49m\u001b[43m(\u001b[49m\u001b[38;5;28;43mself\u001b[39;49m\u001b[43m,\u001b[49m\u001b[43m \u001b[49m\u001b[43mindex\u001b[49m\u001b[38;5;241;43m=\u001b[39;49m\u001b[43mindex\u001b[49m\u001b[43m,\u001b[49m\u001b[43m \u001b[49m\u001b[43mcolumns\u001b[49m\u001b[38;5;241;43m=\u001b[39;49m\u001b[43mcolumns\u001b[49m\u001b[43m,\u001b[49m\u001b[43m \u001b[49m\u001b[43mvalues\u001b[49m\u001b[38;5;241;43m=\u001b[39;49m\u001b[43mvalues\u001b[49m\u001b[43m)\u001b[49m\n",
      "File \u001b[1;32m~\\anaconda3\\lib\\site-packages\\pandas\\core\\reshape\\pivot.py:506\u001b[0m, in \u001b[0;36mpivot\u001b[1;34m(data, index, columns, values)\u001b[0m\n\u001b[0;32m    504\u001b[0m         index_list \u001b[38;5;241m=\u001b[39m [Series(data\u001b[38;5;241m.\u001b[39mindex, name\u001b[38;5;241m=\u001b[39mdata\u001b[38;5;241m.\u001b[39mindex\u001b[38;5;241m.\u001b[39mname)]\n\u001b[0;32m    505\u001b[0m \u001b[38;5;28;01melse\u001b[39;00m:\n\u001b[1;32m--> 506\u001b[0m     index_list \u001b[38;5;241m=\u001b[39m [data[idx] \u001b[38;5;28;01mfor\u001b[39;00m idx \u001b[38;5;129;01min\u001b[39;00m com\u001b[38;5;241m.\u001b[39mconvert_to_list_like(index)]\n\u001b[0;32m    508\u001b[0m data_columns \u001b[38;5;241m=\u001b[39m [data[col] \u001b[38;5;28;01mfor\u001b[39;00m col \u001b[38;5;129;01min\u001b[39;00m columns_listlike]\n\u001b[0;32m    509\u001b[0m index_list\u001b[38;5;241m.\u001b[39mextend(data_columns)\n",
      "File \u001b[1;32m~\\anaconda3\\lib\\site-packages\\pandas\\core\\reshape\\pivot.py:506\u001b[0m, in \u001b[0;36m<listcomp>\u001b[1;34m(.0)\u001b[0m\n\u001b[0;32m    504\u001b[0m         index_list \u001b[38;5;241m=\u001b[39m [Series(data\u001b[38;5;241m.\u001b[39mindex, name\u001b[38;5;241m=\u001b[39mdata\u001b[38;5;241m.\u001b[39mindex\u001b[38;5;241m.\u001b[39mname)]\n\u001b[0;32m    505\u001b[0m \u001b[38;5;28;01melse\u001b[39;00m:\n\u001b[1;32m--> 506\u001b[0m     index_list \u001b[38;5;241m=\u001b[39m [\u001b[43mdata\u001b[49m\u001b[43m[\u001b[49m\u001b[43midx\u001b[49m\u001b[43m]\u001b[49m \u001b[38;5;28;01mfor\u001b[39;00m idx \u001b[38;5;129;01min\u001b[39;00m com\u001b[38;5;241m.\u001b[39mconvert_to_list_like(index)]\n\u001b[0;32m    508\u001b[0m data_columns \u001b[38;5;241m=\u001b[39m [data[col] \u001b[38;5;28;01mfor\u001b[39;00m col \u001b[38;5;129;01min\u001b[39;00m columns_listlike]\n\u001b[0;32m    509\u001b[0m index_list\u001b[38;5;241m.\u001b[39mextend(data_columns)\n",
      "File \u001b[1;32m~\\anaconda3\\lib\\site-packages\\pandas\\core\\frame.py:3505\u001b[0m, in \u001b[0;36mDataFrame.__getitem__\u001b[1;34m(self, key)\u001b[0m\n\u001b[0;32m   3503\u001b[0m \u001b[38;5;28;01mif\u001b[39;00m \u001b[38;5;28mself\u001b[39m\u001b[38;5;241m.\u001b[39mcolumns\u001b[38;5;241m.\u001b[39mnlevels \u001b[38;5;241m>\u001b[39m \u001b[38;5;241m1\u001b[39m:\n\u001b[0;32m   3504\u001b[0m     \u001b[38;5;28;01mreturn\u001b[39;00m \u001b[38;5;28mself\u001b[39m\u001b[38;5;241m.\u001b[39m_getitem_multilevel(key)\n\u001b[1;32m-> 3505\u001b[0m indexer \u001b[38;5;241m=\u001b[39m \u001b[38;5;28;43mself\u001b[39;49m\u001b[38;5;241;43m.\u001b[39;49m\u001b[43mcolumns\u001b[49m\u001b[38;5;241;43m.\u001b[39;49m\u001b[43mget_loc\u001b[49m\u001b[43m(\u001b[49m\u001b[43mkey\u001b[49m\u001b[43m)\u001b[49m\n\u001b[0;32m   3506\u001b[0m \u001b[38;5;28;01mif\u001b[39;00m is_integer(indexer):\n\u001b[0;32m   3507\u001b[0m     indexer \u001b[38;5;241m=\u001b[39m [indexer]\n",
      "File \u001b[1;32m~\\anaconda3\\lib\\site-packages\\pandas\\core\\indexes\\base.py:3623\u001b[0m, in \u001b[0;36mIndex.get_loc\u001b[1;34m(self, key, method, tolerance)\u001b[0m\n\u001b[0;32m   3621\u001b[0m     \u001b[38;5;28;01mreturn\u001b[39;00m \u001b[38;5;28mself\u001b[39m\u001b[38;5;241m.\u001b[39m_engine\u001b[38;5;241m.\u001b[39mget_loc(casted_key)\n\u001b[0;32m   3622\u001b[0m \u001b[38;5;28;01mexcept\u001b[39;00m \u001b[38;5;167;01mKeyError\u001b[39;00m \u001b[38;5;28;01mas\u001b[39;00m err:\n\u001b[1;32m-> 3623\u001b[0m     \u001b[38;5;28;01mraise\u001b[39;00m \u001b[38;5;167;01mKeyError\u001b[39;00m(key) \u001b[38;5;28;01mfrom\u001b[39;00m \u001b[38;5;21;01merr\u001b[39;00m\n\u001b[0;32m   3624\u001b[0m \u001b[38;5;28;01mexcept\u001b[39;00m \u001b[38;5;167;01mTypeError\u001b[39;00m:\n\u001b[0;32m   3625\u001b[0m     \u001b[38;5;66;03m# If we have a listlike key, _check_indexing_error will raise\u001b[39;00m\n\u001b[0;32m   3626\u001b[0m     \u001b[38;5;66;03m#  InvalidIndexError. Otherwise we fall through and re-raise\u001b[39;00m\n\u001b[0;32m   3627\u001b[0m     \u001b[38;5;66;03m#  the TypeError.\u001b[39;00m\n\u001b[0;32m   3628\u001b[0m     \u001b[38;5;28mself\u001b[39m\u001b[38;5;241m.\u001b[39m_check_indexing_error(key)\n",
      "\u001b[1;31mKeyError\u001b[0m: 'PARTNER_Labels'"
     ]
    }
   ],
   "source": [
    "\n",
    "trade_data_pivot = trade_data.pivot(index=['PARTNER_Labels', 'TIME_PERIOD', 'product'], \n",
    "                              columns='indicators', \n",
    "                              values=['OBS_VALUE'])\n",
    "\n",
    "trade_data_pivot.columns = trade_data_pivot.columns.map('_'.join)\n",
    "trade_data_pivot = trade_data_pivot.reset_index()\n",
    "trade_data_pivot = trade_data_pivot.dropna()\n",
    "\n",
    "df = trade_data_pivot"
   ]
  },
  {
   "cell_type": "code",
   "execution_count": null,
   "id": "7018e28e",
   "metadata": {},
   "outputs": [],
   "source": [
    "# Get a list of the unique values in the 'PARTNER_Labels' column\n",
    "categories = df['PARTNER_Labels'].unique()\n",
    "\n",
    "# Create an empty dictionary to store the results\n",
    "results = {}\n",
    "\n",
    "# Iterate over the categories\n",
    "for category in categories:\n",
    "  # Select rows where the value in the 'PARTNER_Labels' column is equal to the current category\n",
    "  df_filtered = df[df['PARTNER_Labels'] == category]\n",
    "\n",
    "  # Compute the mean of the 'Column2' column for the filtered data frame\n",
    "  mean_value = df_filtered['OBS_VALUE_VALUE_1000EURO'].mean()\n",
    "\n",
    "  # Add the mean value to the results dictionary\n",
    "  results[category] = mean_value\n",
    "\n",
    "# Sort the results in descending order\n",
    "sorted_results = {k: v for k, v in sorted(results.items(), key=lambda item: item[1], reverse=True)}\n",
    "\n",
    "# Print the sorted results\n",
    "print(sorted_results)"
   ]
  },
  {
   "cell_type": "code",
   "execution_count": null,
   "id": "f8af795b-cd69-4be1-b583-47b24188d5da",
   "metadata": {},
   "outputs": [],
   "source": [
    "print(trade_data_pivot.head(5000))"
   ]
  },
  {
   "cell_type": "markdown",
   "id": "443bfdfc-a9a7-498d-b91e-8390375c9b1f",
   "metadata": {},
   "source": [
    "# Graphical Inspection Data"
   ]
  },
  {
   "cell_type": "code",
   "execution_count": null,
   "id": "9d0beb72-4b8c-4056-bb2c-f2cde7a003f8",
   "metadata": {},
   "outputs": [],
   "source": [
    "date_filter = datetime.date(year=2018,month=1,day=1)\n",
    "date_filter"
   ]
  },
  {
   "cell_type": "markdown",
   "id": "c7970e33",
   "metadata": {},
   "source": [
    "## Ukraine"
   ]
  },
  {
   "cell_type": "code",
   "execution_count": null,
   "id": "8ce8eef2",
   "metadata": {},
   "outputs": [],
   "source": [
    "import pandas as pd\n",
    "import matplotlib.pyplot as plt\n",
    "\n",
    "pd.options.display.max_rows = None\n",
    "pd.options.display.max_columns = None\n",
    "\n",
    "import datetime\n",
    "\n",
    "# Select the rows where the value in the 'Type' column is 'Specific Value'\n",
    "df_specific_value = df[(df['PARTNER_Labels'] == 'Ukraine') & (df['product'] == product_filter)]\n",
    "\n",
    "# Make a line plot with time on the x-axis and the 'Value' column on the y-axis\n",
    "plt.plot(df_specific_value['TIME_PERIOD'], df_specific_value['OBS_VALUE_QUANTITY_TON'])\n",
    "\n",
    "# Add a title and label the axes\n",
    "plt.title('Value (1000 Euro) over Time')\n",
    "plt.xlabel('Time')\n",
    "plt.ylabel('Value')\n",
    "\n",
    "# Set the x-axis limits\n",
    "plt.xlim(date_filter, pd.Timestamp('2022-12-30'))\n",
    "\n",
    "# Show the plot\n",
    "plt.show()\n",
    "\n",
    "df_specific_value"
   ]
  },
  {
   "cell_type": "code",
   "execution_count": null,
   "id": "5d9c19be",
   "metadata": {},
   "outputs": [],
   "source": [
    "df"
   ]
  },
  {
   "cell_type": "markdown",
   "id": "d3130c59-8df7-469e-be9b-7bfeb6ed3a29",
   "metadata": {},
   "source": [
    "#### Global Graph:"
   ]
  },
  {
   "cell_type": "code",
   "execution_count": null,
   "id": "c9d730cd-6c09-4600-bcae-44039890d569",
   "metadata": {},
   "outputs": [],
   "source": [
    "trade_data_total = trade_data_pivot\\\n",
    ".groupby(['product', 'TIME_PERIOD']).agg({'OBS_VALUE_QUANTITY_TON': 'sum', \n",
    "                                          'OBS_VALUE_VALUE_1000EURO': 'sum'})\n",
    "\n",
    "trade_data_total = trade_data_total.reset_index()\n",
    "trade_data_total['price'] = trade_data_total['OBS_VALUE_VALUE_1000EURO']/trade_data_total['OBS_VALUE_QUANTITY_TON']\n",
    "\n",
    "pd.options.display.max_rows = None\n",
    "pd.options.display.max_columns = None\n",
    "\n",
    "\n",
    "print(trade_data_total.head(5))"
   ]
  },
  {
   "cell_type": "code",
   "execution_count": null,
   "id": "4d7f1b77-be1c-4b44-96e0-12a96d4a0164",
   "metadata": {},
   "outputs": [],
   "source": [
    "trade_data_total[(trade_data_total['TIME_PERIOD']>=date_filter)&\n",
    "                (trade_data_total['product']==product_filter)]\\\n",
    "[['TIME_PERIOD', 'OBS_VALUE_VALUE_1000EURO', 'OBS_VALUE_QUANTITY_TON']]\\\n",
    ".set_index('TIME_PERIOD').plot()"
   ]
  },
  {
   "cell_type": "code",
   "execution_count": null,
   "id": "789cf3d9-4cfd-4080-8ed0-f787a79ce233",
   "metadata": {},
   "outputs": [],
   "source": [
    "trade_data_total[(trade_data_total['TIME_PERIOD']>=date_filter)&\n",
    "                (trade_data_total['product']==product_filter)]\\\n",
    "[['TIME_PERIOD', 'price']]\\\n",
    ".set_index('TIME_PERIOD').plot()"
   ]
  },
  {
   "cell_type": "markdown",
   "id": "8ddccd3d",
   "metadata": {},
   "source": [
    "# Trade data"
   ]
  },
  {
   "cell_type": "code",
   "execution_count": null,
   "id": "2c032310",
   "metadata": {},
   "outputs": [],
   "source": []
  },
  {
   "cell_type": "markdown",
   "id": "733c9c6e-46de-4edb-9892-5be83b461aac",
   "metadata": {},
   "source": [
    "#### Graphs of specific Countries:"
   ]
  },
  {
   "cell_type": "code",
   "execution_count": null,
   "id": "cb4de0f7-925b-4e06-973a-fe24f2648c6f",
   "metadata": {},
   "outputs": [],
   "source": [
    "trade_data_pivot[(trade_data_pivot['PARTNER_Labels']=='Germany')&\n",
    "                 (trade_data_pivot['TIME_PERIOD']>=date_filter)&\n",
    "                (trade_data_pivot['product']==product_filter)]\\\n",
    "[['TIME_PERIOD', 'OBS_VALUE_QUANTITY_TON', 'OBS_VALUE_VALUE_1000EURO']]\\\n",
    ".set_index('TIME_PERIOD').plot()\n",
    "\n"
   ]
  },
  {
   "cell_type": "code",
   "execution_count": null,
   "id": "e320ae9a-a706-444d-b88c-e0583f44ad35",
   "metadata": {},
   "outputs": [],
   "source": [
    "trade_data_pivot[(trade_data_pivot['PARTNER_Labels']=='Belgium')&\n",
    "                 (trade_data_pivot['TIME_PERIOD']>=date_filter)&\n",
    "                (trade_data_pivot['product']==product_filter)]\\\n",
    "[['TIME_PERIOD', 'OBS_VALUE_QUANTITY_TON', 'OBS_VALUE_VALUE_1000EURO']]\\\n",
    ".set_index('TIME_PERIOD').plot()\n"
   ]
  },
  {
   "cell_type": "code",
   "execution_count": null,
   "id": "bb2445dd-0c31-45d8-8879-f394ef8d244d",
   "metadata": {},
   "outputs": [],
   "source": [
    "trade_data_pivot[(trade_data_pivot['PARTNER_Labels']=='Ukraine')&\n",
    "                 (trade_data_pivot['TIME_PERIOD']>=date_filter)&\n",
    "                (trade_data_pivot['product']==product_filter)]\\\n",
    "[['TIME_PERIOD', 'OBS_VALUE_QUANTITY_TON', 'OBS_VALUE_VALUE_1000EURO']]\\\n",
    ".set_index('TIME_PERIOD').plot()\n"
   ]
  },
  {
   "cell_type": "code",
   "execution_count": null,
   "id": "985420ea",
   "metadata": {},
   "outputs": [],
   "source": []
  },
  {
   "cell_type": "code",
   "execution_count": null,
   "id": "4f032071",
   "metadata": {},
   "outputs": [],
   "source": []
  }
 ],
 "metadata": {
  "kernelspec": {
   "display_name": "Python 3 (ipykernel)",
   "language": "python",
   "name": "python3"
  },
  "language_info": {
   "codemirror_mode": {
    "name": "ipython",
    "version": 3
   },
   "file_extension": ".py",
   "mimetype": "text/x-python",
   "name": "python",
   "nbconvert_exporter": "python",
   "pygments_lexer": "ipython3",
   "version": "3.9.12"
  }
 },
 "nbformat": 4,
 "nbformat_minor": 5
}
