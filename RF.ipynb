{
 "cells": [
  {
   "cell_type": "code",
   "execution_count": 1,
   "metadata": {},
   "outputs": [],
   "source": [
    "from sklearn.ensemble import RandomForestClassifier\n",
    "\n",
    "import utils\n"
   ]
  },
  {
   "cell_type": "code",
   "execution_count": 2,
   "metadata": {},
   "outputs": [
    {
     "name": "stdout",
     "output_type": "stream",
     "text": [
      "['test.csv', 'train.csv']\n"
     ]
    }
   ],
   "source": [
    "import os\n",
    "data_folder_path = \"./data\"\n",
    "print(os.listdir(data_folder_path))\n",
    "\n",
    "x_train, y_train, x_test = utils.load_data(data_folder_path)"
   ]
  },
  {
   "cell_type": "code",
   "execution_count": 3,
   "metadata": {},
   "outputs": [],
   "source": [
    "def cv_rf(X_train, y_train, X_valid, y_valid, h: dict):\n",
    "    c = RandomForestClassifier(n_estimators = h.get('n_estimators', 100), criterion = h.get('criterion', \"gini\"), \\\n",
    "                               max_features = h.get('max_features', \"sqrt\"), \\\n",
    "                               random_state = 54321, n_jobs = -1) # set n_jobs to speed up by using more CPU cores\n",
    "    m = c.fit(X_train, y_train)\n",
    "    p = m.predict(X_valid)\n",
    "\n",
    "    return utils.evaluate(y_valid, p)"
   ]
  },
  {
   "cell_type": "code",
   "execution_count": 4,
   "metadata": {},
   "outputs": [],
   "source": [
    "hyperparameters = {\"n_estimators\": range(50, 1050, 50),\n",
    "                   \"criterion\": [\"gini\", \"entropy\", \"log_loss\"],\n",
    "                   \"max_features\": [\"sqrt\", \"log2\", None]}\n"
   ]
  },
  {
   "cell_type": "code",
   "execution_count": 5,
   "metadata": {},
   "outputs": [
    {
     "name": "stdout",
     "output_type": "stream",
     "text": [
      "Training models: 180/180, with hyperparameters: {'n_estimators': 1000, 'criterion': 'log_loss', 'max_features': None}\t\t\t\t\r"
     ]
    },
    {
     "data": {
      "text/html": [
       "<div>\n",
       "<style scoped>\n",
       "    .dataframe tbody tr th:only-of-type {\n",
       "        vertical-align: middle;\n",
       "    }\n",
       "\n",
       "    .dataframe tbody tr th {\n",
       "        vertical-align: top;\n",
       "    }\n",
       "\n",
       "    .dataframe thead th {\n",
       "        text-align: right;\n",
       "    }\n",
       "</style>\n",
       "<table border=\"1\" class=\"dataframe\">\n",
       "  <thead>\n",
       "    <tr style=\"text-align: right;\">\n",
       "      <th></th>\n",
       "      <th>accuracy</th>\n",
       "      <th>precision</th>\n",
       "      <th>recall</th>\n",
       "      <th>f</th>\n",
       "      <th>_h</th>\n",
       "    </tr>\n",
       "  </thead>\n",
       "  <tbody>\n",
       "    <tr>\n",
       "      <th>0</th>\n",
       "      <td>0.928655</td>\n",
       "      <td>0.933654</td>\n",
       "      <td>0.914736</td>\n",
       "      <td>0.922570</td>\n",
       "      <td>{'n_estimators': 50, 'criterion': 'gini', 'max...</td>\n",
       "    </tr>\n",
       "    <tr>\n",
       "      <th>1</th>\n",
       "      <td>0.924336</td>\n",
       "      <td>0.930123</td>\n",
       "      <td>0.909169</td>\n",
       "      <td>0.917706</td>\n",
       "      <td>{'n_estimators': 50, 'criterion': 'gini', 'max...</td>\n",
       "    </tr>\n",
       "    <tr>\n",
       "      <th>2</th>\n",
       "      <td>0.952349</td>\n",
       "      <td>0.953277</td>\n",
       "      <td>0.945236</td>\n",
       "      <td>0.948900</td>\n",
       "      <td>{'n_estimators': 50, 'criterion': 'gini', 'max...</td>\n",
       "    </tr>\n",
       "    <tr>\n",
       "      <th>3</th>\n",
       "      <td>0.929833</td>\n",
       "      <td>0.934604</td>\n",
       "      <td>0.916295</td>\n",
       "      <td>0.923930</td>\n",
       "      <td>{'n_estimators': 50, 'criterion': 'entropy', '...</td>\n",
       "    </tr>\n",
       "    <tr>\n",
       "      <th>4</th>\n",
       "      <td>0.924860</td>\n",
       "      <td>0.931222</td>\n",
       "      <td>0.909385</td>\n",
       "      <td>0.918171</td>\n",
       "      <td>{'n_estimators': 50, 'criterion': 'entropy', '...</td>\n",
       "    </tr>\n",
       "    <tr>\n",
       "      <th>...</th>\n",
       "      <td>...</td>\n",
       "      <td>...</td>\n",
       "      <td>...</td>\n",
       "      <td>...</td>\n",
       "      <td>...</td>\n",
       "    </tr>\n",
       "    <tr>\n",
       "      <th>175</th>\n",
       "      <td>0.931798</td>\n",
       "      <td>0.937288</td>\n",
       "      <td>0.917946</td>\n",
       "      <td>0.925964</td>\n",
       "      <td>{'n_estimators': 1000, 'criterion': 'entropy',...</td>\n",
       "    </tr>\n",
       "    <tr>\n",
       "      <th>176</th>\n",
       "      <td>0.958372</td>\n",
       "      <td>0.959290</td>\n",
       "      <td>0.952107</td>\n",
       "      <td>0.955409</td>\n",
       "      <td>{'n_estimators': 1000, 'criterion': 'entropy',...</td>\n",
       "    </tr>\n",
       "    <tr>\n",
       "      <th>177</th>\n",
       "      <td>0.935987</td>\n",
       "      <td>0.940426</td>\n",
       "      <td>0.923615</td>\n",
       "      <td>0.930713</td>\n",
       "      <td>{'n_estimators': 1000, 'criterion': 'log_loss'...</td>\n",
       "    </tr>\n",
       "    <tr>\n",
       "      <th>178</th>\n",
       "      <td>0.931798</td>\n",
       "      <td>0.937288</td>\n",
       "      <td>0.917946</td>\n",
       "      <td>0.925964</td>\n",
       "      <td>{'n_estimators': 1000, 'criterion': 'log_loss'...</td>\n",
       "    </tr>\n",
       "    <tr>\n",
       "      <th>179</th>\n",
       "      <td>0.958372</td>\n",
       "      <td>0.959290</td>\n",
       "      <td>0.952107</td>\n",
       "      <td>0.955409</td>\n",
       "      <td>{'n_estimators': 1000, 'criterion': 'log_loss'...</td>\n",
       "    </tr>\n",
       "  </tbody>\n",
       "</table>\n",
       "<p>180 rows × 5 columns</p>\n",
       "</div>"
      ],
      "text/plain": [
       "     accuracy  precision    recall         f  \\\n",
       "0    0.928655   0.933654  0.914736  0.922570   \n",
       "1    0.924336   0.930123  0.909169  0.917706   \n",
       "2    0.952349   0.953277  0.945236  0.948900   \n",
       "3    0.929833   0.934604  0.916295  0.923930   \n",
       "4    0.924860   0.931222  0.909385  0.918171   \n",
       "..        ...        ...       ...       ...   \n",
       "175  0.931798   0.937288  0.917946  0.925964   \n",
       "176  0.958372   0.959290  0.952107  0.955409   \n",
       "177  0.935987   0.940426  0.923615  0.930713   \n",
       "178  0.931798   0.937288  0.917946  0.925964   \n",
       "179  0.958372   0.959290  0.952107  0.955409   \n",
       "\n",
       "                                                    _h  \n",
       "0    {'n_estimators': 50, 'criterion': 'gini', 'max...  \n",
       "1    {'n_estimators': 50, 'criterion': 'gini', 'max...  \n",
       "2    {'n_estimators': 50, 'criterion': 'gini', 'max...  \n",
       "3    {'n_estimators': 50, 'criterion': 'entropy', '...  \n",
       "4    {'n_estimators': 50, 'criterion': 'entropy', '...  \n",
       "..                                                 ...  \n",
       "175  {'n_estimators': 1000, 'criterion': 'entropy',...  \n",
       "176  {'n_estimators': 1000, 'criterion': 'entropy',...  \n",
       "177  {'n_estimators': 1000, 'criterion': 'log_loss'...  \n",
       "178  {'n_estimators': 1000, 'criterion': 'log_loss'...  \n",
       "179  {'n_estimators': 1000, 'criterion': 'log_loss'...  \n",
       "\n",
       "[180 rows x 5 columns]"
      ]
     },
     "execution_count": 5,
     "metadata": {},
     "output_type": "execute_result"
    }
   ],
   "source": [
    "\n",
    "pr = utils.kfold_cv(x_train, y_train, k = 10, H = list(utils.create_H(hyperparameters)), cv_fun = cv_rf, random_state = 12345)\n",
    "pr"
   ]
  },
  {
   "cell_type": "code",
   "execution_count": 6,
   "metadata": {},
   "outputs": [
    {
     "name": "stdout",
     "output_type": "stream",
     "text": [
      "0.9598121221686234\n",
      "{'n_estimators': 400, 'criterion': 'entropy', 'max_features': None}\n"
     ]
    }
   ],
   "source": [
    "best_model = utils.get_best(pr)"
   ]
  },
  {
   "cell_type": "code",
   "execution_count": 7,
   "metadata": {},
   "outputs": [],
   "source": [
    "c = RandomForestClassifier(n_estimators = 400, criterion = 'entropy', \\\n",
    "                           max_features = None, \\\n",
    "                           random_state = 12345, n_jobs = -1) # set n_jobs to speed up by using more CPU cores\n",
    "m = c.fit(x_train, y_train)\n",
    "p = m.predict(x_test)"
   ]
  },
  {
   "cell_type": "code",
   "execution_count": 8,
   "metadata": {},
   "outputs": [
    {
     "data": {
      "text/plain": [
       "{'accuracy': 1.0, 'precision': 1.0, 'recall': 1.0, 'f': 1.0}"
      ]
     },
     "execution_count": 8,
     "metadata": {},
     "output_type": "execute_result"
    }
   ],
   "source": [
    "p_train = c.predict(x_train)\n",
    "utils.evaluate(y_train, p_train)"
   ]
  },
  {
   "cell_type": "code",
   "execution_count": 19,
   "metadata": {},
   "outputs": [
    {
     "name": "stdout",
     "output_type": "stream",
     "text": [
      "1910\n"
     ]
    },
    {
     "data": {
      "text/plain": [
       "array([0, 0, 0, ..., 0, 0, 1], dtype=int64)"
      ]
     },
     "execution_count": 19,
     "metadata": {},
     "output_type": "execute_result"
    }
   ],
   "source": [
    "print(p.size)\n",
    "p"
   ]
  },
  {
   "cell_type": "code",
   "execution_count": 16,
   "metadata": {},
   "outputs": [],
   "source": [
    "import numpy as np\n",
    "np.savetxt('predictions.txt', p, fmt='%d', newline='')"
   ]
  },
  {
   "cell_type": "code",
   "execution_count": null,
   "metadata": {},
   "outputs": [],
   "source": []
  }
 ],
 "metadata": {
  "kernelspec": {
   "display_name": "Python 3.10.4 (conda)",
   "language": "python",
   "name": "python3"
  },
  "language_info": {
   "codemirror_mode": {
    "name": "ipython",
    "version": 3
   },
   "file_extension": ".py",
   "mimetype": "text/x-python",
   "name": "python",
   "nbconvert_exporter": "python",
   "pygments_lexer": "ipython3",
   "version": "3.10.4"
  },
  "orig_nbformat": 4,
  "vscode": {
   "interpreter": {
    "hash": "8b6d2988b6bb527c92d8337742f356380e9aca8030177bcc940328c644657745"
   }
  }
 },
 "nbformat": 4,
 "nbformat_minor": 2
}
