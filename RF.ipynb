{
 "cells": [
  {
   "cell_type": "code",
   "execution_count": 1,
   "metadata": {},
   "outputs": [],
   "source": [
    "from sklearn.ensemble import RandomForestClassifier\n",
    "\n",
    "import utils\n"
   ]
  },
  {
   "cell_type": "code",
   "execution_count": 2,
   "metadata": {},
   "outputs": [
    {
     "name": "stdout",
     "output_type": "stream",
     "text": [
      "['test.csv', 'train.csv']\n"
     ]
    }
   ],
   "source": [
    "import os\n",
    "data_folder_path = \"./data\"\n",
    "print(os.listdir(data_folder_path))\n",
    "\n",
    "x_train, y_train, x_test = utils.load_data(data_folder_path)"
   ]
  },
  {
   "cell_type": "code",
   "execution_count": 3,
   "metadata": {},
   "outputs": [],
   "source": [
    "def cv_rf(X_train, y_train, X_valid, y_valid, h: dict):\n",
    "    c = RandomForestClassifier(n_estimators = h.get('n_estimators', 100), criterion = h.get('criterion', \"gini\"), \\\n",
    "                               max_features = h.get('max_features', \"sqrt\"), \\\n",
    "                               random_state = 54321, n_jobs = -1) # set n_jobs to speed up by using more CPU cores\n",
    "    m = c.fit(X_train, y_train)\n",
    "    p = m.predict(X_valid)\n",
    "\n",
    "    return utils.evaluate(y_valid, p)"
   ]
  },
  {
   "cell_type": "code",
   "execution_count": 6,
   "metadata": {},
   "outputs": [],
   "source": [
    "hyperparameters = {\"n_estimators\": range(5, 305, 20),\n",
    "                   \"criterion\": [\"gini\", \"entropy\", \"log_loss\"],\n",
    "                   \"max_features\": [\"sqrt\", \"log2\", None]}\n"
   ]
  },
  {
   "cell_type": "code",
   "execution_count": 7,
   "metadata": {},
   "outputs": [
    {
     "name": "stdout",
     "output_type": "stream",
     "text": [
      "Training models: 9/9, with hyperparameters: {'n_estimators': 285, 'criterion': 'log_loss', 'max_features': None}\t\t\t\t\r"
     ]
    },
    {
     "data": {
      "text/html": [
       "<div>\n",
       "<style scoped>\n",
       "    .dataframe tbody tr th:only-of-type {\n",
       "        vertical-align: middle;\n",
       "    }\n",
       "\n",
       "    .dataframe tbody tr th {\n",
       "        vertical-align: top;\n",
       "    }\n",
       "\n",
       "    .dataframe thead th {\n",
       "        text-align: right;\n",
       "    }\n",
       "</style>\n",
       "<table border=\"1\" class=\"dataframe\">\n",
       "  <thead>\n",
       "    <tr style=\"text-align: right;\">\n",
       "      <th></th>\n",
       "      <th>accuracy</th>\n",
       "      <th>precision</th>\n",
       "      <th>recall</th>\n",
       "      <th>f</th>\n",
       "      <th>_h</th>\n",
       "    </tr>\n",
       "  </thead>\n",
       "  <tbody>\n",
       "    <tr>\n",
       "      <th>0</th>\n",
       "      <td>0.933106</td>\n",
       "      <td>0.937560</td>\n",
       "      <td>0.920281</td>\n",
       "      <td>0.927557</td>\n",
       "      <td>{'n_estimators': 285, 'criterion': 'gini', 'ma...</td>\n",
       "    </tr>\n",
       "    <tr>\n",
       "      <th>1</th>\n",
       "      <td>0.926692</td>\n",
       "      <td>0.932354</td>\n",
       "      <td>0.911946</td>\n",
       "      <td>0.920321</td>\n",
       "      <td>{'n_estimators': 285, 'criterion': 'gini', 'ma...</td>\n",
       "    </tr>\n",
       "    <tr>\n",
       "      <th>2</th>\n",
       "      <td>0.957455</td>\n",
       "      <td>0.957649</td>\n",
       "      <td>0.951706</td>\n",
       "      <td>0.954497</td>\n",
       "      <td>{'n_estimators': 285, 'criterion': 'gini', 'ma...</td>\n",
       "    </tr>\n",
       "    <tr>\n",
       "      <th>3</th>\n",
       "      <td>0.936380</td>\n",
       "      <td>0.941042</td>\n",
       "      <td>0.923863</td>\n",
       "      <td>0.931113</td>\n",
       "      <td>{'n_estimators': 285, 'criterion': 'entropy', ...</td>\n",
       "    </tr>\n",
       "    <tr>\n",
       "      <th>4</th>\n",
       "      <td>0.930619</td>\n",
       "      <td>0.935831</td>\n",
       "      <td>0.916794</td>\n",
       "      <td>0.924706</td>\n",
       "      <td>{'n_estimators': 285, 'criterion': 'entropy', ...</td>\n",
       "    </tr>\n",
       "    <tr>\n",
       "      <th>5</th>\n",
       "      <td>0.959419</td>\n",
       "      <td>0.960491</td>\n",
       "      <td>0.953153</td>\n",
       "      <td>0.956532</td>\n",
       "      <td>{'n_estimators': 285, 'criterion': 'entropy', ...</td>\n",
       "    </tr>\n",
       "    <tr>\n",
       "      <th>6</th>\n",
       "      <td>0.936380</td>\n",
       "      <td>0.941042</td>\n",
       "      <td>0.923863</td>\n",
       "      <td>0.931113</td>\n",
       "      <td>{'n_estimators': 285, 'criterion': 'log_loss',...</td>\n",
       "    </tr>\n",
       "    <tr>\n",
       "      <th>7</th>\n",
       "      <td>0.930619</td>\n",
       "      <td>0.935831</td>\n",
       "      <td>0.916794</td>\n",
       "      <td>0.924706</td>\n",
       "      <td>{'n_estimators': 285, 'criterion': 'log_loss',...</td>\n",
       "    </tr>\n",
       "    <tr>\n",
       "      <th>8</th>\n",
       "      <td>0.959419</td>\n",
       "      <td>0.960491</td>\n",
       "      <td>0.953153</td>\n",
       "      <td>0.956532</td>\n",
       "      <td>{'n_estimators': 285, 'criterion': 'log_loss',...</td>\n",
       "    </tr>\n",
       "  </tbody>\n",
       "</table>\n",
       "</div>"
      ],
      "text/plain": [
       "   accuracy  precision    recall         f  \\\n",
       "0  0.933106   0.937560  0.920281  0.927557   \n",
       "1  0.926692   0.932354  0.911946  0.920321   \n",
       "2  0.957455   0.957649  0.951706  0.954497   \n",
       "3  0.936380   0.941042  0.923863  0.931113   \n",
       "4  0.930619   0.935831  0.916794  0.924706   \n",
       "5  0.959419   0.960491  0.953153  0.956532   \n",
       "6  0.936380   0.941042  0.923863  0.931113   \n",
       "7  0.930619   0.935831  0.916794  0.924706   \n",
       "8  0.959419   0.960491  0.953153  0.956532   \n",
       "\n",
       "                                                  _h  \n",
       "0  {'n_estimators': 285, 'criterion': 'gini', 'ma...  \n",
       "1  {'n_estimators': 285, 'criterion': 'gini', 'ma...  \n",
       "2  {'n_estimators': 285, 'criterion': 'gini', 'ma...  \n",
       "3  {'n_estimators': 285, 'criterion': 'entropy', ...  \n",
       "4  {'n_estimators': 285, 'criterion': 'entropy', ...  \n",
       "5  {'n_estimators': 285, 'criterion': 'entropy', ...  \n",
       "6  {'n_estimators': 285, 'criterion': 'log_loss',...  \n",
       "7  {'n_estimators': 285, 'criterion': 'log_loss',...  \n",
       "8  {'n_estimators': 285, 'criterion': 'log_loss',...  "
      ]
     },
     "execution_count": 7,
     "metadata": {},
     "output_type": "execute_result"
    }
   ],
   "source": [
    "\n",
    "pr = utils.kfold_cv(x_train, y_train, k = 10, H = list(utils.create_H(hyperparameters)), cv_fun = cv_rf, random_state = 12345)\n",
    "pr"
   ]
  },
  {
   "cell_type": "code",
   "execution_count": 8,
   "metadata": {},
   "outputs": [
    {
     "name": "stdout",
     "output_type": "stream",
     "text": [
      "0.9594192804649598\n",
      "{'n_estimators': 285, 'criterion': 'entropy', 'max_features': None}\n"
     ]
    }
   ],
   "source": [
    "best_model = utils.get_best(pr)"
   ]
  },
  {
   "cell_type": "code",
   "execution_count": null,
   "metadata": {},
   "outputs": [],
   "source": []
  },
  {
   "cell_type": "code",
   "execution_count": null,
   "metadata": {},
   "outputs": [],
   "source": []
  },
  {
   "cell_type": "code",
   "execution_count": null,
   "metadata": {},
   "outputs": [],
   "source": []
  },
  {
   "cell_type": "code",
   "execution_count": null,
   "metadata": {},
   "outputs": [],
   "source": []
  }
 ],
 "metadata": {
  "kernelspec": {
   "display_name": "Python 3.10.4 (conda)",
   "language": "python",
   "name": "python3"
  },
  "language_info": {
   "codemirror_mode": {
    "name": "ipython",
    "version": 3
   },
   "file_extension": ".py",
   "mimetype": "text/x-python",
   "name": "python",
   "nbconvert_exporter": "python",
   "pygments_lexer": "ipython3",
   "version": "3.10.4"
  },
  "orig_nbformat": 4,
  "vscode": {
   "interpreter": {
    "hash": "8b6d2988b6bb527c92d8337742f356380e9aca8030177bcc940328c644657745"
   }
  }
 },
 "nbformat": 4,
 "nbformat_minor": 2
}
