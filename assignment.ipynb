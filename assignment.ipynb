{
 "cells": [
  {
   "cell_type": "code",
   "execution_count": 21,
   "metadata": {},
   "outputs": [],
   "source": [
    "import numpy as np\n",
    "import pandas as pd\n",
    "import statsmodels.discrete.conditional_models\n",
    "import sklearn.linear_model"
   ]
  },
  {
   "cell_type": "code",
   "execution_count": 24,
   "metadata": {},
   "outputs": [
    {
     "name": "stdout",
     "output_type": "stream",
     "text": [
      "<class 'pandas.core.frame.DataFrame'>\n",
      "RangeIndex: 2000 entries, 0 to 1999\n",
      "Data columns (total 19 columns):\n",
      " #   Column           Non-Null Count  Dtype  \n",
      "---  ------           --------------  -----  \n",
      " 0   Unnamed: 0       2000 non-null   int64  \n",
      " 1   Heinz40          2000 non-null   int64  \n",
      " 2   Heinz32          2000 non-null   int64  \n",
      " 3   Heinz28          2000 non-null   int64  \n",
      " 4   Hunts32          2000 non-null   int64  \n",
      " 5   dis_Heinz40      2000 non-null   int64  \n",
      " 6   dis_Heinz32      2000 non-null   int64  \n",
      " 7   dis_Heinz28      2000 non-null   int64  \n",
      " 8   dis_Hunts32      2000 non-null   int64  \n",
      " 9   feature_Heinz40  2000 non-null   int64  \n",
      " 10  feature_Heinz32  2000 non-null   int64  \n",
      " 11  feature_Heinz28  2000 non-null   int64  \n",
      " 12  feature_Hunts32  2000 non-null   int64  \n",
      " 13  price_Heinz40    2000 non-null   float64\n",
      " 14  price_Heinz32    2000 non-null   float64\n",
      " 15  price_Heinz28    2000 non-null   float64\n",
      " 16  price_Hunts32    2000 non-null   float64\n",
      " 17  brandsize_f      2000 non-null   object \n",
      " 18  obs_id           2000 non-null   int64  \n",
      "dtypes: float64(4), int64(14), object(1)\n",
      "memory usage: 297.0+ KB\n"
     ]
    }
   ],
   "source": [
    "ketchup = pd.read_csv(\"datasets/dataset02.csv\")\n",
    "# print(ketchup.head)\n",
    "ketchup.info()"
   ]
  },
  {
   "cell_type": "code",
   "execution_count": 68,
   "metadata": {},
   "outputs": [
    {
     "name": "stderr",
     "output_type": "stream",
     "text": [
      "c:\\Users\\GLau\\CodeProjects\\marketing-models\\venv\\lib\\site-packages\\statsmodels\\discrete\\conditional_models.py:80: UserWarning: Dropped 2000 groups and 2000 observations for having no within-group variance\n",
      "  warnings.warn(msg)\n"
     ]
    }
   ],
   "source": [
    "from statsmodels.discrete.conditional_models import ConditionalMNLogit\n",
    "\n",
    "y = pd.Series(np.where(ketchup[['Heinz28', 'Heinz32', 'Heinz40', 'Hunts32']]!=0)[1])\n",
    "\n",
    "X = ketchup.loc[:, \"price_Heinz40\":\"price_Hunts32\"]\n",
    "\n",
    "# categories = pd.Series(ketchup.columns[np.where(ketchup.loc[:, \"Heinz40\":\"Hunts32\"]!=0)[1]+1])\n",
    "categories = ketchup.index\n",
    "\n",
    "model = ConditionalMNLogit(y, X, groups=categories)\n",
    "# model.fit()\n",
    "# categories"
   ]
  },
  {
   "cell_type": "code",
   "execution_count": null,
   "metadata": {},
   "outputs": [],
   "source": []
  },
  {
   "cell_type": "code",
   "execution_count": null,
   "metadata": {},
   "outputs": [],
   "source": []
  }
 ],
 "metadata": {
  "interpreter": {
   "hash": "b9500a0ea3c6d33e1cd6e290946f433c40e96403952e31e314c5859d05f428a8"
  },
  "kernelspec": {
   "display_name": "Python 3.9.7 (conda)",
   "language": "python",
   "name": "python3"
  },
  "language_info": {
   "codemirror_mode": {
    "name": "ipython",
    "version": 3
   },
   "file_extension": ".py",
   "mimetype": "text/x-python",
   "name": "python",
   "nbconvert_exporter": "python",
   "pygments_lexer": "ipython3",
   "version": "3.9.7"
  },
  "orig_nbformat": 4
 },
 "nbformat": 4,
 "nbformat_minor": 2
}
