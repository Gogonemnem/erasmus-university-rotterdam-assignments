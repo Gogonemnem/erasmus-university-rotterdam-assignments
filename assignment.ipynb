{
 "cells": [
  {
   "cell_type": "code",
   "execution_count": 16,
   "metadata": {},
   "outputs": [],
   "source": [
    "import pandas as pd\n",
    "import statsmodels\n",
    "import sklearn.linear_model"
   ]
  },
  {
   "cell_type": "code",
   "execution_count": 19,
   "metadata": {},
   "outputs": [
    {
     "name": "stdout",
     "output_type": "stream",
     "text": [
      "<bound method NDFrame.head of       Unnamed: 0  Heinz40  Heinz32  Heinz28  Hunts32  dis_Heinz40  \\\n",
      "0           1861        0        1        0        0            0   \n",
      "1            282        0        1        0        0            0   \n",
      "2            110        0        1        0        0            0   \n",
      "3            914        1        0        0        0            0   \n",
      "4           1265        0        1        0        0            0   \n",
      "...          ...      ...      ...      ...      ...          ...   \n",
      "1995          94        0        1        0        0            0   \n",
      "1996         555        0        0        1        0            0   \n",
      "1997         807        0        0        1        0            0   \n",
      "1998        1589        0        1        0        0            0   \n",
      "1999        2050        0        1        0        0            0   \n",
      "\n",
      "      dis_Heinz32  dis_Heinz28  dis_Hunts32  feature_Heinz40  feature_Heinz32  \\\n",
      "0               0            0            0                0                0   \n",
      "1               0            0            0                0                0   \n",
      "2               0            0            0                0                0   \n",
      "3               0            0            0                0                0   \n",
      "4               0            0            0                0                0   \n",
      "...           ...          ...          ...              ...              ...   \n",
      "1995            0            0            0                0                0   \n",
      "1996            0            0            0                0                1   \n",
      "1997            0            0            0                0                0   \n",
      "1998            1            0            0                0                0   \n",
      "1999            0            0            0                0                0   \n",
      "\n",
      "      feature_Heinz28  feature_Hunts32  price_Heinz40  price_Heinz32  \\\n",
      "0                   0                0          0.046          0.034   \n",
      "1                   0                0          0.048          0.030   \n",
      "2                   0                0          0.046          0.033   \n",
      "3                   0                0          0.050          0.031   \n",
      "4                   0                0          0.044          0.022   \n",
      "...               ...              ...            ...            ...   \n",
      "1995                0                0          0.044          0.022   \n",
      "1996                0                0          0.052          0.036   \n",
      "1997                0                0          0.050          0.030   \n",
      "1998                0                0          0.042          0.031   \n",
      "1999                0                0          0.049          0.032   \n",
      "\n",
      "      price_Heinz28  price_Hunts32 brandsize_f  obs_id  \n",
      "0             0.053          0.029     Heinz32    1861  \n",
      "1             0.046          0.041     Heinz32     282  \n",
      "2             0.046          0.048     Heinz32     110  \n",
      "3             0.047          0.031     Heinz40     914  \n",
      "4             0.047          0.034     Heinz32    1265  \n",
      "...             ...            ...         ...     ...  \n",
      "1995          0.042          0.034     Heinz32      94  \n",
      "1996          0.046          0.037     Heinz28     555  \n",
      "1997          0.039          0.030     Heinz28     807  \n",
      "1998          0.043          0.034     Heinz32    1589  \n",
      "1999          0.050          0.041     Heinz32    2050  \n",
      "\n",
      "[2000 rows x 19 columns]>\n",
      "<class 'pandas.core.frame.DataFrame'>\n",
      "RangeIndex: 2000 entries, 0 to 1999\n",
      "Data columns (total 19 columns):\n",
      " #   Column           Non-Null Count  Dtype  \n",
      "---  ------           --------------  -----  \n",
      " 0   Unnamed: 0       2000 non-null   int64  \n",
      " 1   Heinz40          2000 non-null   int64  \n",
      " 2   Heinz32          2000 non-null   int64  \n",
      " 3   Heinz28          2000 non-null   int64  \n",
      " 4   Hunts32          2000 non-null   int64  \n",
      " 5   dis_Heinz40      2000 non-null   int64  \n",
      " 6   dis_Heinz32      2000 non-null   int64  \n",
      " 7   dis_Heinz28      2000 non-null   int64  \n",
      " 8   dis_Hunts32      2000 non-null   int64  \n",
      " 9   feature_Heinz40  2000 non-null   int64  \n",
      " 10  feature_Heinz32  2000 non-null   int64  \n",
      " 11  feature_Heinz28  2000 non-null   int64  \n",
      " 12  feature_Hunts32  2000 non-null   int64  \n",
      " 13  price_Heinz40    2000 non-null   float64\n",
      " 14  price_Heinz32    2000 non-null   float64\n",
      " 15  price_Heinz28    2000 non-null   float64\n",
      " 16  price_Hunts32    2000 non-null   float64\n",
      " 17  brandsize_f      2000 non-null   object \n",
      " 18  obs_id           2000 non-null   int64  \n",
      "dtypes: float64(4), int64(14), object(1)\n",
      "memory usage: 297.0+ KB\n"
     ]
    }
   ],
   "source": [
    "ketchup = pd.read_csv(\"datasets/dataset02.csv\")\n",
    "print(ketchup.head)\n",
    "ketchup.info()"
   ]
  },
  {
   "cell_type": "code",
   "execution_count": null,
   "metadata": {},
   "outputs": [],
   "source": []
  },
  {
   "cell_type": "code",
   "execution_count": null,
   "metadata": {},
   "outputs": [],
   "source": []
  }
 ],
 "metadata": {
  "interpreter": {
   "hash": "b9500a0ea3c6d33e1cd6e290946f433c40e96403952e31e314c5859d05f428a8"
  },
  "kernelspec": {
   "display_name": "Python 3.9.7 (conda)",
   "language": "python",
   "name": "python3"
  },
  "language_info": {
   "codemirror_mode": {
    "name": "ipython",
    "version": 3
   },
   "file_extension": ".py",
   "mimetype": "text/x-python",
   "name": "python",
   "nbconvert_exporter": "python",
   "pygments_lexer": "ipython3",
   "version": "3.9.7"
  },
  "orig_nbformat": 4
 },
 "nbformat": 4,
 "nbformat_minor": 2
}
