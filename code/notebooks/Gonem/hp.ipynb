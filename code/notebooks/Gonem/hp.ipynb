{
 "cells": [
  {
   "cell_type": "code",
   "execution_count": 1,
   "metadata": {
    "tags": []
   },
   "outputs": [
    {
     "name": "stderr",
     "output_type": "stream",
     "text": [
      "2023-03-10 13:09:37.921219: I tensorflow/core/platform/cpu_feature_guard.cc:193] This TensorFlow binary is optimized with oneAPI Deep Neural Network Library (oneDNN) to use the following CPU instructions in performance-critical operations:  AVX2 FMA\n",
      "To enable them in other operations, rebuild TensorFlow with the appropriate compiler flags.\n"
     ]
    }
   ],
   "source": [
    "import tensorflow as tf\n",
    "import keras_tuner\n",
    "import numpy as np\n",
    "\n",
    "\n",
    "import pandas as pd\n",
    "import openpyxl # Needed for reading excel\n",
    "import pathlib\n",
    "\n",
    "import decomposition\n",
    "import models\n",
    "import data\n",
    "from metrics import smape\n",
    "from windower import WindowGenerator\n",
    "import hp_training\n",
    "import results"
   ]
  },
  {
   "cell_type": "code",
   "execution_count": 157,
   "metadata": {
    "tags": []
   },
   "outputs": [],
   "source": [
    "cwd = pathlib.Path.cwd()\n",
    "\n",
    "code_directory = cwd.parents[1]\n",
    "gonem_directory = code_directory / \"notebooks\" / \"Gonem\"\n",
    "model_directory = gonem_directory / 'models'\n",
    "\n",
    "model = 'ARF'\n",
    "product = 'wheat'\n",
    "model_path =  model_directory / f\"{model}_{product}_in_sample\"\n",
    "checkpoint_path = model_path / f\"{model}_{product}\"\n"
   ]
  },
  {
   "cell_type": "code",
   "execution_count": 158,
   "metadata": {
    "tags": []
   },
   "outputs": [
    {
     "data": {
      "text/html": [
       "<div>\n",
       "<style scoped>\n",
       "    .dataframe tbody tr th:only-of-type {\n",
       "        vertical-align: middle;\n",
       "    }\n",
       "\n",
       "    .dataframe tbody tr th {\n",
       "        vertical-align: top;\n",
       "    }\n",
       "\n",
       "    .dataframe thead tr th {\n",
       "        text-align: left;\n",
       "    }\n",
       "</style>\n",
       "<table border=\"1\" class=\"dataframe\">\n",
       "  <thead>\n",
       "    <tr>\n",
       "      <th></th>\n",
       "      <th colspan=\"5\" halign=\"left\">AVG_TAVG</th>\n",
       "      <th colspan=\"5\" halign=\"left\">MAX_TMAX</th>\n",
       "      <th>...</th>\n",
       "      <th colspan=\"5\" halign=\"left\">renewable_energy_consumption_perc_of_total</th>\n",
       "      <th colspan=\"5\" halign=\"left\">unemployment_total</th>\n",
       "    </tr>\n",
       "    <tr>\n",
       "      <th>PARTNER_Labels</th>\n",
       "      <th>Belgium</th>\n",
       "      <th>France</th>\n",
       "      <th>Germany</th>\n",
       "      <th>Romania</th>\n",
       "      <th>United Kingdom</th>\n",
       "      <th>Belgium</th>\n",
       "      <th>France</th>\n",
       "      <th>Germany</th>\n",
       "      <th>Romania</th>\n",
       "      <th>United Kingdom</th>\n",
       "      <th>...</th>\n",
       "      <th>Belgium</th>\n",
       "      <th>France</th>\n",
       "      <th>Germany</th>\n",
       "      <th>Romania</th>\n",
       "      <th>United Kingdom</th>\n",
       "      <th>Belgium</th>\n",
       "      <th>France</th>\n",
       "      <th>Germany</th>\n",
       "      <th>Romania</th>\n",
       "      <th>United Kingdom</th>\n",
       "    </tr>\n",
       "  </thead>\n",
       "  <tbody>\n",
       "    <tr>\n",
       "      <th>count</th>\n",
       "      <td>214.000000</td>\n",
       "      <td>214.000000</td>\n",
       "      <td>214.000000</td>\n",
       "      <td>214.000000</td>\n",
       "      <td>214.000000</td>\n",
       "      <td>214.000000</td>\n",
       "      <td>214.000000</td>\n",
       "      <td>214.000000</td>\n",
       "      <td>214.000000</td>\n",
       "      <td>214.000000</td>\n",
       "      <td>...</td>\n",
       "      <td>214.000000</td>\n",
       "      <td>214.000000</td>\n",
       "      <td>214.000000</td>\n",
       "      <td>214.000000</td>\n",
       "      <td>214.000000</td>\n",
       "      <td>214.000000</td>\n",
       "      <td>214.000000</td>\n",
       "      <td>214.000000</td>\n",
       "      <td>214.000000</td>\n",
       "      <td>214.000000</td>\n",
       "    </tr>\n",
       "    <tr>\n",
       "      <th>mean</th>\n",
       "      <td>111.302520</td>\n",
       "      <td>125.494113</td>\n",
       "      <td>104.143755</td>\n",
       "      <td>105.397067</td>\n",
       "      <td>96.544608</td>\n",
       "      <td>215.733645</td>\n",
       "      <td>225.531663</td>\n",
       "      <td>218.804582</td>\n",
       "      <td>224.761987</td>\n",
       "      <td>168.507655</td>\n",
       "      <td>...</td>\n",
       "      <td>7.672173</td>\n",
       "      <td>12.883762</td>\n",
       "      <td>13.639136</td>\n",
       "      <td>22.297593</td>\n",
       "      <td>7.120444</td>\n",
       "      <td>7.272757</td>\n",
       "      <td>8.969860</td>\n",
       "      <td>5.587944</td>\n",
       "      <td>6.091075</td>\n",
       "      <td>5.505070</td>\n",
       "    </tr>\n",
       "    <tr>\n",
       "      <th>std</th>\n",
       "      <td>57.100073</td>\n",
       "      <td>55.456797</td>\n",
       "      <td>65.178828</td>\n",
       "      <td>81.500731</td>\n",
       "      <td>39.315210</td>\n",
       "      <td>79.022190</td>\n",
       "      <td>67.153277</td>\n",
       "      <td>81.278888</td>\n",
       "      <td>81.711107</td>\n",
       "      <td>50.004673</td>\n",
       "      <td>...</td>\n",
       "      <td>2.698506</td>\n",
       "      <td>2.273139</td>\n",
       "      <td>2.851412</td>\n",
       "      <td>2.019432</td>\n",
       "      <td>3.915944</td>\n",
       "      <td>0.994389</td>\n",
       "      <td>0.867082</td>\n",
       "      <td>2.216610</td>\n",
       "      <td>0.996584</td>\n",
       "      <td>1.547705</td>\n",
       "    </tr>\n",
       "    <tr>\n",
       "      <th>min</th>\n",
       "      <td>-0.733333</td>\n",
       "      <td>20.168095</td>\n",
       "      <td>-29.860742</td>\n",
       "      <td>-65.129397</td>\n",
       "      <td>7.340256</td>\n",
       "      <td>59.000000</td>\n",
       "      <td>107.622222</td>\n",
       "      <td>36.388889</td>\n",
       "      <td>47.000000</td>\n",
       "      <td>74.500000</td>\n",
       "      <td>...</td>\n",
       "      <td>2.460000</td>\n",
       "      <td>8.520000</td>\n",
       "      <td>7.280000</td>\n",
       "      <td>17.390000</td>\n",
       "      <td>1.350000</td>\n",
       "      <td>5.360000</td>\n",
       "      <td>7.390000</td>\n",
       "      <td>3.140000</td>\n",
       "      <td>3.910000</td>\n",
       "      <td>3.740000</td>\n",
       "    </tr>\n",
       "    <tr>\n",
       "      <th>25%</th>\n",
       "      <td>63.525974</td>\n",
       "      <td>77.127932</td>\n",
       "      <td>48.280935</td>\n",
       "      <td>29.836943</td>\n",
       "      <td>61.896038</td>\n",
       "      <td>147.500000</td>\n",
       "      <td>163.656487</td>\n",
       "      <td>140.181174</td>\n",
       "      <td>157.733333</td>\n",
       "      <td>124.583333</td>\n",
       "      <td>...</td>\n",
       "      <td>5.438125</td>\n",
       "      <td>11.155000</td>\n",
       "      <td>11.109375</td>\n",
       "      <td>21.416250</td>\n",
       "      <td>3.506875</td>\n",
       "      <td>6.260000</td>\n",
       "      <td>8.086250</td>\n",
       "      <td>3.646250</td>\n",
       "      <td>5.508333</td>\n",
       "      <td>3.918750</td>\n",
       "    </tr>\n",
       "    <tr>\n",
       "      <th>50%</th>\n",
       "      <td>104.345960</td>\n",
       "      <td>121.548459</td>\n",
       "      <td>102.466712</td>\n",
       "      <td>104.869216</td>\n",
       "      <td>96.188597</td>\n",
       "      <td>223.000000</td>\n",
       "      <td>228.556851</td>\n",
       "      <td>226.650735</td>\n",
       "      <td>229.750000</td>\n",
       "      <td>164.437500</td>\n",
       "      <td>...</td>\n",
       "      <td>9.016250</td>\n",
       "      <td>13.286667</td>\n",
       "      <td>13.971250</td>\n",
       "      <td>23.290833</td>\n",
       "      <td>7.192500</td>\n",
       "      <td>7.460000</td>\n",
       "      <td>9.068750</td>\n",
       "      <td>5.011250</td>\n",
       "      <td>6.412083</td>\n",
       "      <td>5.278750</td>\n",
       "    </tr>\n",
       "    <tr>\n",
       "      <th>75%</th>\n",
       "      <td>163.724856</td>\n",
       "      <td>177.640994</td>\n",
       "      <td>163.845330</td>\n",
       "      <td>182.880379</td>\n",
       "      <td>131.974731</td>\n",
       "      <td>281.000000</td>\n",
       "      <td>284.822581</td>\n",
       "      <td>287.334967</td>\n",
       "      <td>300.500000</td>\n",
       "      <td>208.409091</td>\n",
       "      <td>...</td>\n",
       "      <td>10.210000</td>\n",
       "      <td>15.310000</td>\n",
       "      <td>16.448125</td>\n",
       "      <td>23.540000</td>\n",
       "      <td>11.380625</td>\n",
       "      <td>8.149583</td>\n",
       "      <td>9.789167</td>\n",
       "      <td>7.403125</td>\n",
       "      <td>6.926250</td>\n",
       "      <td>7.140625</td>\n",
       "    </tr>\n",
       "    <tr>\n",
       "      <th>max</th>\n",
       "      <td>239.666667</td>\n",
       "      <td>231.747995</td>\n",
       "      <td>229.864177</td>\n",
       "      <td>243.079179</td>\n",
       "      <td>178.133333</td>\n",
       "      <td>397.000000</td>\n",
       "      <td>362.382979</td>\n",
       "      <td>371.823529</td>\n",
       "      <td>367.750000</td>\n",
       "      <td>300.562500</td>\n",
       "      <td>...</td>\n",
       "      <td>10.660000</td>\n",
       "      <td>15.530000</td>\n",
       "      <td>17.170000</td>\n",
       "      <td>24.400000</td>\n",
       "      <td>12.240000</td>\n",
       "      <td>8.520000</td>\n",
       "      <td>10.350000</td>\n",
       "      <td>11.170000</td>\n",
       "      <td>7.270000</td>\n",
       "      <td>8.040000</td>\n",
       "    </tr>\n",
       "  </tbody>\n",
       "</table>\n",
       "<p>8 rows × 63 columns</p>\n",
       "</div>"
      ],
      "text/plain": [
       "                  AVG_TAVG                                                     \\\n",
       "PARTNER_Labels     Belgium      France     Germany     Romania United Kingdom   \n",
       "count           214.000000  214.000000  214.000000  214.000000     214.000000   \n",
       "mean            111.302520  125.494113  104.143755  105.397067      96.544608   \n",
       "std              57.100073   55.456797   65.178828   81.500731      39.315210   \n",
       "min              -0.733333   20.168095  -29.860742  -65.129397       7.340256   \n",
       "25%              63.525974   77.127932   48.280935   29.836943      61.896038   \n",
       "50%             104.345960  121.548459  102.466712  104.869216      96.188597   \n",
       "75%             163.724856  177.640994  163.845330  182.880379     131.974731   \n",
       "max             239.666667  231.747995  229.864177  243.079179     178.133333   \n",
       "\n",
       "                  MAX_TMAX                                                     \\\n",
       "PARTNER_Labels     Belgium      France     Germany     Romania United Kingdom   \n",
       "count           214.000000  214.000000  214.000000  214.000000     214.000000   \n",
       "mean            215.733645  225.531663  218.804582  224.761987     168.507655   \n",
       "std              79.022190   67.153277   81.278888   81.711107      50.004673   \n",
       "min              59.000000  107.622222   36.388889   47.000000      74.500000   \n",
       "25%             147.500000  163.656487  140.181174  157.733333     124.583333   \n",
       "50%             223.000000  228.556851  226.650735  229.750000     164.437500   \n",
       "75%             281.000000  284.822581  287.334967  300.500000     208.409091   \n",
       "max             397.000000  362.382979  371.823529  367.750000     300.562500   \n",
       "\n",
       "                ... renewable_energy_consumption_perc_of_total              \\\n",
       "PARTNER_Labels  ...                                    Belgium      France   \n",
       "count           ...                                 214.000000  214.000000   \n",
       "mean            ...                                   7.672173   12.883762   \n",
       "std             ...                                   2.698506    2.273139   \n",
       "min             ...                                   2.460000    8.520000   \n",
       "25%             ...                                   5.438125   11.155000   \n",
       "50%             ...                                   9.016250   13.286667   \n",
       "75%             ...                                  10.210000   15.310000   \n",
       "max             ...                                  10.660000   15.530000   \n",
       "\n",
       "                                                      unemployment_total  \\\n",
       "PARTNER_Labels     Germany     Romania United Kingdom            Belgium   \n",
       "count           214.000000  214.000000     214.000000         214.000000   \n",
       "mean             13.639136   22.297593       7.120444           7.272757   \n",
       "std               2.851412    2.019432       3.915944           0.994389   \n",
       "min               7.280000   17.390000       1.350000           5.360000   \n",
       "25%              11.109375   21.416250       3.506875           6.260000   \n",
       "50%              13.971250   23.290833       7.192500           7.460000   \n",
       "75%              16.448125   23.540000      11.380625           8.149583   \n",
       "max              17.170000   24.400000      12.240000           8.520000   \n",
       "\n",
       "                                                                   \n",
       "PARTNER_Labels      France     Germany     Romania United Kingdom  \n",
       "count           214.000000  214.000000  214.000000     214.000000  \n",
       "mean              8.969860    5.587944    6.091075       5.505070  \n",
       "std               0.867082    2.216610    0.996584       1.547705  \n",
       "min               7.390000    3.140000    3.910000       3.740000  \n",
       "25%               8.086250    3.646250    5.508333       3.918750  \n",
       "50%               9.068750    5.011250    6.412083       5.278750  \n",
       "75%               9.789167    7.403125    6.926250       7.140625  \n",
       "max              10.350000   11.170000    7.270000       8.040000  \n",
       "\n",
       "[8 rows x 63 columns]"
      ]
     },
     "execution_count": 158,
     "metadata": {},
     "output_type": "execute_result"
    }
   ],
   "source": [
    "df = data.get_data(directory_path=gonem_directory, product=product)\n",
    "df = df.iloc[:-2]\n",
    "df.describe()"
   ]
  },
  {
   "cell_type": "code",
   "execution_count": 159,
   "metadata": {
    "tags": []
   },
   "outputs": [
    {
     "data": {
      "text/plain": [
       "[('price', 'Belgium'),\n",
       " ('price', 'France'),\n",
       " ('price', 'Germany'),\n",
       " ('price', 'Global'),\n",
       " ('price', 'Romania'),\n",
       " ('price', 'United Kingdom')]"
      ]
     },
     "execution_count": 159,
     "metadata": {},
     "output_type": "execute_result"
    }
   ],
   "source": [
    "label_columns = ['price']\n",
    "label_columns = df.columns[df.columns.get_level_values(0).isin(label_columns)].tolist()\n",
    "label_columns"
   ]
  },
  {
   "cell_type": "code",
   "execution_count": 160,
   "metadata": {
    "tags": []
   },
   "outputs": [],
   "source": [
    "stl = decomposition.STLDecomposer(labels=label_columns, period=12)\n",
    "log = decomposition.Logger(labels=label_columns)\n",
    "std = decomposition.Standardizer()\n",
    "\n",
    "preproc = decomposition.Processor().add(stl).add(log).add(std)"
   ]
  },
  {
   "cell_type": "code",
   "execution_count": 161,
   "metadata": {
    "tags": []
   },
   "outputs": [
    {
     "data": {
      "text/plain": [
       "Total window size: 30\n",
       "Input indices: [ 0  1  2  3  4  5  6  7  8  9 10 11 12 13 14 15 16 17 18 19 20 21 22 23]\n",
       "Label indices: [24 25 26 27 28 29]\n",
       "Label column name(s): [('price', 'Belgium'), ('price', 'France'), ('price', 'Germany'), ('price', 'Global'), ('price', 'Romania'), ('price', 'United Kingdom')]"
      ]
     },
     "execution_count": 161,
     "metadata": {},
     "output_type": "execute_result"
    }
   ],
   "source": [
    "width = 24\n",
    "label_width = 6\n",
    "shift = 6\n",
    "\n",
    "window = WindowGenerator(input_width=width, label_width=label_width, shift=shift, data=df, \n",
    "                    # train_begin=0, train_end=.9, val_begin=None, val_end=.96,\n",
    "                    train_begin=0, train_end=.97, val_begin=None, val_end=None,\n",
    "                    # train_begin=0, train_end=.5, val_begin=None, val_end=.8,\n",
    "                    test_begin=0., test_end=1., connect=True, remove_labels=True, label_columns=label_columns)\n",
    "window.preprocess(preproc)\n",
    "window"
   ]
  },
  {
   "cell_type": "code",
   "execution_count": 162,
   "metadata": {
    "tags": []
   },
   "outputs": [],
   "source": [
    "label_std = decomposition.Standardizer(mean=std.mean[window.label_columns], std=std.std[window.label_columns])\n",
    "label_log = decomposition.Logger(label_indices=range(len(window.label_columns)))\n",
    "postproc = decomposition.Processor().add(label_std).add(label_log)\n",
    "window.add_label_postprocess(postproc)"
   ]
  },
  {
   "cell_type": "code",
   "execution_count": 163,
   "metadata": {
    "tags": []
   },
   "outputs": [
    {
     "name": "stdout",
     "output_type": "stream",
     "text": [
      "INFO:tensorflow:Reloading Tuner from /code/notebooks/Gonem/hp/ARF/tuner0.json\n"
     ]
    }
   ],
   "source": [
    "tuner = hp_training.get_tuner(model, gonem_directory/'hp', window)"
   ]
  },
  {
   "cell_type": "code",
   "execution_count": 164,
   "metadata": {
    "tags": []
   },
   "outputs": [],
   "source": [
    "# hp_training.run(tuner, window)"
   ]
  },
  {
   "cell_type": "code",
   "execution_count": 165,
   "metadata": {
    "tags": []
   },
   "outputs": [
    {
     "data": {
      "text/plain": [
       "{'lstm_units': 224,\n",
       " 'lstm_layers': 1,\n",
       " 'prediction_units': 64,\n",
       " 'prediction_layers': 6,\n",
       " 'feature_units': 416,\n",
       " 'feature_layers': 8,\n",
       " 'heads': 5,\n",
       " 'dropout': 0.18732635985077017,\n",
       " 'key_dim': 112,\n",
       " 'l1': 0.0009003172160791668,\n",
       " 'l2': 0.00010979313621486196,\n",
       " 'learning_rate': 0.000291383964865669,\n",
       " 'tuner/epochs': 200,\n",
       " 'tuner/initial_epoch': 67,\n",
       " 'tuner/bracket': 2,\n",
       " 'tuner/round': 2,\n",
       " 'tuner/trial_id': '0200'}"
      ]
     },
     "execution_count": 165,
     "metadata": {},
     "output_type": "execute_result"
    }
   ],
   "source": [
    "best_hps = tuner.get_best_hyperparameters()[0]\n",
    "best_hps.values"
   ]
  },
  {
   "cell_type": "code",
   "execution_count": 166,
   "metadata": {
    "tags": []
   },
   "outputs": [
    {
     "name": "stdout",
     "output_type": "stream",
     "text": [
      "Epoch 1/200\n",
      "WARNING:tensorflow:Detecting that an object or model or tf.train.Checkpoint is being deleted with unrestored values. See the following logs for the specific values in question. To silence these warnings, use `status.expect_partial()`. See https://www.tensorflow.org/api_docs/python/tf/train/Checkpoint#restorefor details about the status object returned by the restore function.\n",
      "WARNING:tensorflow:Value in checkpoint could not be found in the restored object: (root).optimizer._variables.1\n",
      "WARNING:tensorflow:Value in checkpoint could not be found in the restored object: (root).optimizer._variables.2\n",
      "WARNING:tensorflow:Value in checkpoint could not be found in the restored object: (root).optimizer._variables.3\n",
      "WARNING:tensorflow:Value in checkpoint could not be found in the restored object: (root).optimizer._variables.4\n",
      "WARNING:tensorflow:Value in checkpoint could not be found in the restored object: (root).optimizer._variables.5\n",
      "WARNING:tensorflow:Value in checkpoint could not be found in the restored object: (root).optimizer._variables.6\n",
      "WARNING:tensorflow:Value in checkpoint could not be found in the restored object: (root).optimizer._variables.7\n",
      "WARNING:tensorflow:Value in checkpoint could not be found in the restored object: (root).optimizer._variables.8\n",
      "WARNING:tensorflow:Value in checkpoint could not be found in the restored object: (root).optimizer._variables.9\n",
      "WARNING:tensorflow:Value in checkpoint could not be found in the restored object: (root).optimizer._variables.10\n",
      "WARNING:tensorflow:Value in checkpoint could not be found in the restored object: (root).optimizer._variables.11\n",
      "WARNING:tensorflow:Value in checkpoint could not be found in the restored object: (root).optimizer._variables.12\n",
      "WARNING:tensorflow:Value in checkpoint could not be found in the restored object: (root).optimizer._variables.13\n",
      "WARNING:tensorflow:Value in checkpoint could not be found in the restored object: (root).optimizer._variables.14\n",
      "WARNING:tensorflow:Value in checkpoint could not be found in the restored object: (root).optimizer._variables.15\n",
      "WARNING:tensorflow:Value in checkpoint could not be found in the restored object: (root).optimizer._variables.16\n",
      "WARNING:tensorflow:Value in checkpoint could not be found in the restored object: (root).optimizer._variables.17\n",
      "WARNING:tensorflow:Value in checkpoint could not be found in the restored object: (root).optimizer._variables.18\n",
      "WARNING:tensorflow:Value in checkpoint could not be found in the restored object: (root).optimizer._variables.19\n",
      "WARNING:tensorflow:Value in checkpoint could not be found in the restored object: (root).optimizer._variables.20\n",
      "WARNING:tensorflow:Value in checkpoint could not be found in the restored object: (root).optimizer._variables.21\n",
      "WARNING:tensorflow:Value in checkpoint could not be found in the restored object: (root).optimizer._variables.22\n",
      "WARNING:tensorflow:Detecting that an object or model or tf.train.Checkpoint is being deleted with unrestored values. See the following logs for the specific values in question. To silence these warnings, use `status.expect_partial()`. See https://www.tensorflow.org/api_docs/python/tf/train/Checkpoint#restorefor details about the status object returned by the restore function.\n",
      "WARNING:tensorflow:Value in checkpoint could not be found in the restored object: (root).optimizer._variables.1\n",
      "WARNING:tensorflow:Value in checkpoint could not be found in the restored object: (root).optimizer._variables.2\n",
      "WARNING:tensorflow:Value in checkpoint could not be found in the restored object: (root).optimizer._variables.3\n",
      "WARNING:tensorflow:Value in checkpoint could not be found in the restored object: (root).optimizer._variables.4\n",
      "WARNING:tensorflow:Value in checkpoint could not be found in the restored object: (root).optimizer._variables.5\n",
      "WARNING:tensorflow:Value in checkpoint could not be found in the restored object: (root).optimizer._variables.6\n",
      "WARNING:tensorflow:Value in checkpoint could not be found in the restored object: (root).optimizer._variables.7\n",
      "WARNING:tensorflow:Value in checkpoint could not be found in the restored object: (root).optimizer._variables.8\n",
      "WARNING:tensorflow:Value in checkpoint could not be found in the restored object: (root).optimizer._variables.9\n",
      "WARNING:tensorflow:Value in checkpoint could not be found in the restored object: (root).optimizer._variables.10\n",
      "WARNING:tensorflow:Value in checkpoint could not be found in the restored object: (root).optimizer._variables.11\n",
      "WARNING:tensorflow:Value in checkpoint could not be found in the restored object: (root).optimizer._variables.12\n",
      "WARNING:tensorflow:Value in checkpoint could not be found in the restored object: (root).optimizer._variables.13\n",
      "WARNING:tensorflow:Value in checkpoint could not be found in the restored object: (root).optimizer._variables.14\n",
      "WARNING:tensorflow:Value in checkpoint could not be found in the restored object: (root).optimizer._variables.15\n",
      "WARNING:tensorflow:Value in checkpoint could not be found in the restored object: (root).optimizer._variables.16\n",
      "WARNING:tensorflow:Value in checkpoint could not be found in the restored object: (root).optimizer._variables.17\n",
      "WARNING:tensorflow:Value in checkpoint could not be found in the restored object: (root).optimizer._variables.18\n",
      "WARNING:tensorflow:Value in checkpoint could not be found in the restored object: (root).optimizer._variables.19\n",
      "WARNING:tensorflow:Value in checkpoint could not be found in the restored object: (root).optimizer._variables.20\n",
      "WARNING:tensorflow:Value in checkpoint could not be found in the restored object: (root).optimizer._variables.21\n",
      "WARNING:tensorflow:Value in checkpoint could not be found in the restored object: (root).optimizer._variables.22\n",
      "WARNING:tensorflow:Value in checkpoint could not be found in the restored object: (root).optimizer._variables.23\n",
      "WARNING:tensorflow:Value in checkpoint could not be found in the restored object: (root).optimizer._variables.24\n",
      "WARNING:tensorflow:Value in checkpoint could not be found in the restored object: (root).optimizer._variables.25\n",
      "WARNING:tensorflow:Value in checkpoint could not be found in the restored object: (root).optimizer._variables.26\n",
      "WARNING:tensorflow:Value in checkpoint could not be found in the restored object: (root).optimizer._variables.27\n",
      "WARNING:tensorflow:Value in checkpoint could not be found in the restored object: (root).optimizer._variables.28\n",
      "WARNING:tensorflow:Value in checkpoint could not be found in the restored object: (root).optimizer._variables.29\n",
      "WARNING:tensorflow:Value in checkpoint could not be found in the restored object: (root).optimizer._variables.30\n",
      "WARNING:tensorflow:Value in checkpoint could not be found in the restored object: (root).optimizer._variables.31\n",
      "WARNING:tensorflow:Value in checkpoint could not be found in the restored object: (root).optimizer._variables.32\n",
      "WARNING:tensorflow:Value in checkpoint could not be found in the restored object: (root).optimizer._variables.33\n",
      "WARNING:tensorflow:Value in checkpoint could not be found in the restored object: (root).optimizer._variables.34\n",
      "WARNING:tensorflow:Value in checkpoint could not be found in the restored object: (root).optimizer._variables.35\n",
      "WARNING:tensorflow:Value in checkpoint could not be found in the restored object: (root).optimizer._variables.36\n",
      "WARNING:tensorflow:Value in checkpoint could not be found in the restored object: (root).optimizer._variables.37\n",
      "WARNING:tensorflow:Value in checkpoint could not be found in the restored object: (root).optimizer._variables.38\n",
      "WARNING:tensorflow:Value in checkpoint could not be found in the restored object: (root).optimizer._variables.39\n",
      "WARNING:tensorflow:Value in checkpoint could not be found in the restored object: (root).optimizer._variables.40\n",
      "WARNING:tensorflow:Value in checkpoint could not be found in the restored object: (root).optimizer._variables.41\n",
      "WARNING:tensorflow:Value in checkpoint could not be found in the restored object: (root).optimizer._variables.42\n",
      "WARNING:tensorflow:Value in checkpoint could not be found in the restored object: (root).optimizer._variables.43\n",
      "WARNING:tensorflow:Value in checkpoint could not be found in the restored object: (root).optimizer._variables.44\n",
      "WARNING:tensorflow:Value in checkpoint could not be found in the restored object: (root).optimizer._variables.45\n",
      "WARNING:tensorflow:Value in checkpoint could not be found in the restored object: (root).optimizer._variables.46\n",
      "WARNING:tensorflow:Value in checkpoint could not be found in the restored object: (root).optimizer._variables.47\n",
      "WARNING:tensorflow:Value in checkpoint could not be found in the restored object: (root).optimizer._variables.48\n",
      "WARNING:tensorflow:Value in checkpoint could not be found in the restored object: (root).optimizer._variables.49\n",
      "WARNING:tensorflow:Value in checkpoint could not be found in the restored object: (root).optimizer._variables.50\n",
      "WARNING:tensorflow:Value in checkpoint could not be found in the restored object: (root).optimizer._variables.51\n",
      "WARNING:tensorflow:Value in checkpoint could not be found in the restored object: (root).optimizer._variables.52\n",
      "WARNING:tensorflow:Value in checkpoint could not be found in the restored object: (root).optimizer._variables.53\n",
      "WARNING:tensorflow:Value in checkpoint could not be found in the restored object: (root).optimizer._variables.54\n",
      "WARNING:tensorflow:Value in checkpoint could not be found in the restored object: (root).optimizer._variables.55\n",
      "WARNING:tensorflow:Value in checkpoint could not be found in the restored object: (root).optimizer._variables.56\n",
      "WARNING:tensorflow:Value in checkpoint could not be found in the restored object: (root).optimizer._variables.57\n",
      "WARNING:tensorflow:Value in checkpoint could not be found in the restored object: (root).optimizer._variables.58\n",
      "WARNING:tensorflow:Value in checkpoint could not be found in the restored object: (root).optimizer._variables.59\n",
      "WARNING:tensorflow:Value in checkpoint could not be found in the restored object: (root).optimizer._variables.60\n",
      "WARNING:tensorflow:Value in checkpoint could not be found in the restored object: (root).optimizer._variables.61\n",
      "WARNING:tensorflow:Value in checkpoint could not be found in the restored object: (root).optimizer._variables.62\n",
      "WARNING:tensorflow:Value in checkpoint could not be found in the restored object: (root).optimizer._variables.63\n",
      "WARNING:tensorflow:Value in checkpoint could not be found in the restored object: (root).optimizer._variables.64\n",
      "WARNING:tensorflow:Value in checkpoint could not be found in the restored object: (root).optimizer._variables.65\n",
      "WARNING:tensorflow:Value in checkpoint could not be found in the restored object: (root).optimizer._variables.66\n",
      "6/6 - 12s - loss: 215.2585 - mae: 0.7864 - mse: 0.9938 - mape: 140.5968 - smape: 160.5841 - val_loss: 166.5733 - val_mae: 0.7571 - val_mse: 0.9659 - val_mape: 263.0664 - val_smape: 113.4517 - 12s/epoch - 2s/step\n",
      "Epoch 2/200\n",
      "6/6 - 2s - loss: 176.2173 - mae: 0.7821 - mse: 1.0068 - mape: 247.9312 - smape: 122.5480 - val_loss: 125.0605 - val_mae: 0.5064 - val_mse: 0.6103 - val_mape: 205.3901 - val_smape: 72.0818 - 2s/epoch - 392ms/step\n",
      "Epoch 3/200\n",
      "6/6 - 2s - loss: 159.0959 - mae: 0.6678 - mse: 0.8443 - mape: 221.2731 - smape: 106.0408 - val_loss: 127.8707 - val_mae: 0.5695 - val_mse: 0.7326 - val_mape: 197.5930 - val_smape: 74.2263 - 2s/epoch - 342ms/step\n",
      "Epoch 4/200\n",
      "6/6 - 2s - loss: 160.4147 - mae: 0.6224 - mse: 0.7672 - mape: 196.1225 - smape: 107.4844 - val_loss: 129.8403 - val_mae: 0.6384 - val_mse: 0.8046 - val_mape: 295.0892 - val_smape: 77.0163 - 2s/epoch - 339ms/step\n",
      "Epoch 5/200\n",
      "6/6 - 2s - loss: 157.0121 - mae: 0.7388 - mse: 0.9774 - mape: 293.7535 - smape: 104.7738 - val_loss: 125.2911 - val_mae: 0.5910 - val_mse: 0.7409 - val_mape: 321.7555 - val_smape: 73.0080 - 2s/epoch - 359ms/step\n"
     ]
    },
    {
     "data": {
      "text/plain": [
       "<models.AutoregressiveFeedback at 0x7fa499e57880>"
      ]
     },
     "execution_count": 166,
     "metadata": {},
     "output_type": "execute_result"
    }
   ],
   "source": [
    "hp_training.final_train(tuner, window, checkpoint_path)"
   ]
  },
  {
   "cell_type": "code",
   "execution_count": 167,
   "metadata": {
    "tags": []
   },
   "outputs": [
    {
     "name": "stdout",
     "output_type": "stream",
     "text": [
      "6/6 [==============================] - 2s 89ms/step - loss: 128.9904 - mae: 0.5178 - mse: 0.6161 - mape: 222.8627 - smape: 76.8236\n"
     ]
    },
    {
     "data": {
      "text/plain": [
       "[128.99041748046875,\n",
       " 0.5177812576293945,\n",
       " 0.6160849928855896,\n",
       " 222.86273193359375,\n",
       " 76.82357025146484]"
      ]
     },
     "execution_count": 167,
     "metadata": {},
     "output_type": "execute_result"
    }
   ],
   "source": [
    "m = tuner.hypermodel.build(best_hps)\n",
    "m.load_weights(checkpoint_path)\n",
    "m.evaluate(window.test)"
   ]
  },
  {
   "cell_type": "code",
   "execution_count": 168,
   "metadata": {
    "tags": []
   },
   "outputs": [],
   "source": [
    "# w.test\n",
    "\n",
    "# # val_performance['1'] = m.evaluate(w.val)\n",
    "# for i in range(6):\n",
    "\n",
    "#     label = label_columns[i]\n",
    "#     print(label)\n",
    "#     # performance['1'] = m.evaluate(w.test)\n",
    "#     w.plot(m, plot_col=label, max_subplots=7)\n"
   ]
  },
  {
   "cell_type": "code",
   "execution_count": 169,
   "metadata": {
    "tags": []
   },
   "outputs": [],
   "source": [
    "inputs, labels, predictions, weights, mcds = [], [], [], [], []\n",
    "for x, y in window.test.take(40):\n",
    "    inputs.append(x)\n",
    "    lab = y\n",
    "    lab = window.label_postprocessor.reverse(lab)\n",
    "    labels.append(lab)\n",
    "    \n",
    "    pred = m(x)\n",
    "    pred = window.label_postprocessor.reverse(pred)\n",
    "    predictions.append(pred)\n",
    "    \n",
    "    weight = m.attention_layer(x, return_weights=True)[1]\n",
    "    weights.append(weight)\n",
    "    \n",
    "    mcd = results.monte_carlo_dropout(x, m, 100, window.label_postprocessor.reverse, return_weight=False)\n",
    "    mcds.append(mcd)\n",
    "    weights.append(weight)\n",
    "    \n",
    "inputs = tf.concat(inputs, axis=0)\n",
    "labels = tf.concat(labels, axis=0)\n",
    "weights = tf.concat(weights, axis=0)\n",
    "weights = tf.reduce_mean(weights, axis=0)\n",
    "predictions = tf.concat(predictions, axis=0)\n",
    "mcds = tf.concat(mcds, axis=1)"
   ]
  },
  {
   "cell_type": "code",
   "execution_count": 170,
   "metadata": {
    "tags": []
   },
   "outputs": [],
   "source": [
    "np.save(model_path / f\"{product}_inputs\", inputs.numpy())\n",
    "np.save(model_path / f\"{product}_labels\", labels.numpy())\n",
    "np.save(model_path / f\"{product}_weights\", weights.numpy())\n",
    "np.save(model_path / f\"{product}_predictions\", predictions.numpy())\n",
    "np.save(model_path / f\"{product}_mcd_predictions\", mcds.numpy())\n"
   ]
  },
  {
   "cell_type": "code",
   "execution_count": 100,
   "metadata": {},
   "outputs": [
    {
     "data": {
      "text/plain": [
       "TensorShape([185, 6, 6])"
      ]
     },
     "execution_count": 100,
     "metadata": {},
     "output_type": "execute_result"
    }
   ],
   "source": [
    "predictions.shape"
   ]
  },
  {
   "cell_type": "code",
   "execution_count": null,
   "metadata": {},
   "outputs": [],
   "source": []
  }
 ],
 "metadata": {
  "kernelspec": {
   "display_name": "Python 3 (ipykernel)",
   "language": "python",
   "name": "python3"
  },
  "language_info": {
   "codemirror_mode": {
    "name": "ipython",
    "version": 3
   },
   "file_extension": ".py",
   "mimetype": "text/x-python",
   "name": "python",
   "nbconvert_exporter": "python",
   "pygments_lexer": "ipython3",
   "version": "3.8.10"
  },
  "vscode": {
   "interpreter": {
    "hash": "18e074677d39952796133ff6b8faa8a2f37c9c99b6d1afd7ec75658d1c00e599"
   }
  }
 },
 "nbformat": 4,
 "nbformat_minor": 4
}
