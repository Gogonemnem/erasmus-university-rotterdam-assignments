{
 "cells": [
  {
   "cell_type": "code",
   "execution_count": 1,
   "metadata": {
    "tags": []
   },
   "outputs": [
    {
     "name": "stderr",
     "output_type": "stream",
     "text": [
      "2023-03-10 11:38:45.989448: I tensorflow/core/platform/cpu_feature_guard.cc:193] This TensorFlow binary is optimized with oneAPI Deep Neural Network Library (oneDNN) to use the following CPU instructions in performance-critical operations:  AVX2 FMA\n",
      "To enable them in other operations, rebuild TensorFlow with the appropriate compiler flags.\n"
     ]
    }
   ],
   "source": [
    "import tensorflow as tf\n",
    "import keras_tuner\n",
    "import numpy as np\n",
    "\n",
    "\n",
    "import pandas as pd\n",
    "import openpyxl # Needed for reading excel\n",
    "import pathlib\n",
    "\n",
    "import decomposition\n",
    "import models\n",
    "import data\n",
    "from metrics import smape\n",
    "from windower import WindowGenerator\n",
    "import hp_training\n",
    "import results"
   ]
  },
  {
   "cell_type": "code",
   "execution_count": 2,
   "metadata": {
    "tags": []
   },
   "outputs": [],
   "source": [
    "cwd = pathlib.Path.cwd()\n",
    "\n",
    "code_directory = cwd.parents[1]\n",
    "gonem_directory = code_directory / \"notebooks\" / \"Gonem\"\n",
    "model_directory = gonem_directory / 'models'\n",
    "\n",
    "model = 'SS'\n",
    "product = 'maize'\n",
    "model_path =  model_directory / f\"{model}_{product}\"\n",
    "checkpoint_path = model_path / f\"{model}_{product}\"\n"
   ]
  },
  {
   "cell_type": "code",
   "execution_count": 3,
   "metadata": {
    "tags": []
   },
   "outputs": [
    {
     "data": {
      "text/html": [
       "<div>\n",
       "<style scoped>\n",
       "    .dataframe tbody tr th:only-of-type {\n",
       "        vertical-align: middle;\n",
       "    }\n",
       "\n",
       "    .dataframe tbody tr th {\n",
       "        vertical-align: top;\n",
       "    }\n",
       "\n",
       "    .dataframe thead tr th {\n",
       "        text-align: left;\n",
       "    }\n",
       "</style>\n",
       "<table border=\"1\" class=\"dataframe\">\n",
       "  <thead>\n",
       "    <tr>\n",
       "      <th></th>\n",
       "      <th colspan=\"5\" halign=\"left\">AVG_TAVG</th>\n",
       "      <th>Corn Price Futures</th>\n",
       "      <th colspan=\"4\" halign=\"left\">MAX_TMAX</th>\n",
       "      <th>...</th>\n",
       "      <th colspan=\"5\" halign=\"left\">renewable_energy_consumption_perc_of_total</th>\n",
       "      <th colspan=\"5\" halign=\"left\">unemployment_total</th>\n",
       "    </tr>\n",
       "    <tr>\n",
       "      <th>PARTNER_Labels</th>\n",
       "      <th>Brazil</th>\n",
       "      <th>France</th>\n",
       "      <th>Germany</th>\n",
       "      <th>Hungary</th>\n",
       "      <th>Ukraine</th>\n",
       "      <th>Global</th>\n",
       "      <th>Brazil</th>\n",
       "      <th>France</th>\n",
       "      <th>Germany</th>\n",
       "      <th>Hungary</th>\n",
       "      <th>...</th>\n",
       "      <th>Brazil</th>\n",
       "      <th>France</th>\n",
       "      <th>Germany</th>\n",
       "      <th>Hungary</th>\n",
       "      <th>Ukraine</th>\n",
       "      <th>Brazil</th>\n",
       "      <th>France</th>\n",
       "      <th>Germany</th>\n",
       "      <th>Hungary</th>\n",
       "      <th>Ukraine</th>\n",
       "    </tr>\n",
       "  </thead>\n",
       "  <tbody>\n",
       "    <tr>\n",
       "      <th>count</th>\n",
       "      <td>214.000000</td>\n",
       "      <td>214.000000</td>\n",
       "      <td>214.000000</td>\n",
       "      <td>214.000000</td>\n",
       "      <td>214.000000</td>\n",
       "      <td>214.000000</td>\n",
       "      <td>214.000000</td>\n",
       "      <td>214.000000</td>\n",
       "      <td>214.000000</td>\n",
       "      <td>214.000000</td>\n",
       "      <td>...</td>\n",
       "      <td>214.000000</td>\n",
       "      <td>214.000000</td>\n",
       "      <td>214.000000</td>\n",
       "      <td>214.000000</td>\n",
       "      <td>214.000000</td>\n",
       "      <td>214.000000</td>\n",
       "      <td>214.000000</td>\n",
       "      <td>214.000000</td>\n",
       "      <td>214.000000</td>\n",
       "      <td>214.000000</td>\n",
       "    </tr>\n",
       "    <tr>\n",
       "      <th>mean</th>\n",
       "      <td>238.152301</td>\n",
       "      <td>125.494113</td>\n",
       "      <td>104.143755</td>\n",
       "      <td>116.576205</td>\n",
       "      <td>96.484903</td>\n",
       "      <td>449.422897</td>\n",
       "      <td>345.918892</td>\n",
       "      <td>225.531663</td>\n",
       "      <td>218.804582</td>\n",
       "      <td>238.560202</td>\n",
       "      <td>...</td>\n",
       "      <td>45.976355</td>\n",
       "      <td>12.883762</td>\n",
       "      <td>13.639136</td>\n",
       "      <td>13.302453</td>\n",
       "      <td>4.538575</td>\n",
       "      <td>10.125584</td>\n",
       "      <td>8.969860</td>\n",
       "      <td>5.587944</td>\n",
       "      <td>6.981075</td>\n",
       "      <td>8.363902</td>\n",
       "    </tr>\n",
       "    <tr>\n",
       "      <th>std</th>\n",
       "      <td>24.100760</td>\n",
       "      <td>55.456797</td>\n",
       "      <td>65.178828</td>\n",
       "      <td>79.286625</td>\n",
       "      <td>90.200095</td>\n",
       "      <td>151.626084</td>\n",
       "      <td>24.273653</td>\n",
       "      <td>67.153277</td>\n",
       "      <td>81.278888</td>\n",
       "      <td>85.984321</td>\n",
       "      <td>...</td>\n",
       "      <td>1.906558</td>\n",
       "      <td>2.273139</td>\n",
       "      <td>2.851412</td>\n",
       "      <td>2.688740</td>\n",
       "      <td>2.132976</td>\n",
       "      <td>2.288750</td>\n",
       "      <td>0.867082</td>\n",
       "      <td>2.216610</td>\n",
       "      <td>2.708968</td>\n",
       "      <td>1.103329</td>\n",
       "    </tr>\n",
       "    <tr>\n",
       "      <th>min</th>\n",
       "      <td>146.692308</td>\n",
       "      <td>20.168095</td>\n",
       "      <td>-29.860742</td>\n",
       "      <td>-50.419892</td>\n",
       "      <td>-98.247057</td>\n",
       "      <td>201.750000</td>\n",
       "      <td>282.000000</td>\n",
       "      <td>107.622222</td>\n",
       "      <td>36.388889</td>\n",
       "      <td>43.666667</td>\n",
       "      <td>...</td>\n",
       "      <td>41.710000</td>\n",
       "      <td>8.520000</td>\n",
       "      <td>7.280000</td>\n",
       "      <td>7.290000</td>\n",
       "      <td>1.270000</td>\n",
       "      <td>6.760000</td>\n",
       "      <td>7.390000</td>\n",
       "      <td>3.140000</td>\n",
       "      <td>3.420000</td>\n",
       "      <td>6.350000</td>\n",
       "    </tr>\n",
       "    <tr>\n",
       "      <th>25%</th>\n",
       "      <td>227.991548</td>\n",
       "      <td>77.127932</td>\n",
       "      <td>48.280935</td>\n",
       "      <td>44.350331</td>\n",
       "      <td>16.710027</td>\n",
       "      <td>356.500000</td>\n",
       "      <td>331.000000</td>\n",
       "      <td>163.656487</td>\n",
       "      <td>140.181174</td>\n",
       "      <td>163.500000</td>\n",
       "      <td>...</td>\n",
       "      <td>44.876250</td>\n",
       "      <td>11.155000</td>\n",
       "      <td>11.109375</td>\n",
       "      <td>12.801875</td>\n",
       "      <td>2.810000</td>\n",
       "      <td>8.205833</td>\n",
       "      <td>8.086250</td>\n",
       "      <td>3.646250</td>\n",
       "      <td>4.070833</td>\n",
       "      <td>7.477500</td>\n",
       "    </tr>\n",
       "    <tr>\n",
       "      <th>50%</th>\n",
       "      <td>245.982781</td>\n",
       "      <td>121.548459</td>\n",
       "      <td>102.466712</td>\n",
       "      <td>122.246111</td>\n",
       "      <td>92.398763</td>\n",
       "      <td>390.125000</td>\n",
       "      <td>345.000000</td>\n",
       "      <td>228.556851</td>\n",
       "      <td>226.650735</td>\n",
       "      <td>243.400000</td>\n",
       "      <td>...</td>\n",
       "      <td>46.697083</td>\n",
       "      <td>13.286667</td>\n",
       "      <td>13.971250</td>\n",
       "      <td>13.640000</td>\n",
       "      <td>3.498750</td>\n",
       "      <td>9.536250</td>\n",
       "      <td>9.068750</td>\n",
       "      <td>5.011250</td>\n",
       "      <td>7.343333</td>\n",
       "      <td>8.522083</td>\n",
       "    </tr>\n",
       "    <tr>\n",
       "      <th>75%</th>\n",
       "      <td>254.746595</td>\n",
       "      <td>177.640994</td>\n",
       "      <td>163.845330</td>\n",
       "      <td>190.244695</td>\n",
       "      <td>183.040152</td>\n",
       "      <td>562.312500</td>\n",
       "      <td>360.425000</td>\n",
       "      <td>284.822581</td>\n",
       "      <td>287.334967</td>\n",
       "      <td>316.700000</td>\n",
       "      <td>...</td>\n",
       "      <td>47.570000</td>\n",
       "      <td>15.310000</td>\n",
       "      <td>16.448125</td>\n",
       "      <td>15.377917</td>\n",
       "      <td>7.082500</td>\n",
       "      <td>12.473750</td>\n",
       "      <td>9.789167</td>\n",
       "      <td>7.403125</td>\n",
       "      <td>9.545000</td>\n",
       "      <td>9.293125</td>\n",
       "    </tr>\n",
       "    <tr>\n",
       "      <th>max</th>\n",
       "      <td>276.134483</td>\n",
       "      <td>231.747995</td>\n",
       "      <td>229.864177</td>\n",
       "      <td>242.571429</td>\n",
       "      <td>239.800437</td>\n",
       "      <td>818.250000</td>\n",
       "      <td>401.000000</td>\n",
       "      <td>362.382979</td>\n",
       "      <td>371.823529</td>\n",
       "      <td>392.500000</td>\n",
       "      <td>...</td>\n",
       "      <td>48.920000</td>\n",
       "      <td>15.530000</td>\n",
       "      <td>17.170000</td>\n",
       "      <td>17.180000</td>\n",
       "      <td>7.440000</td>\n",
       "      <td>13.700000</td>\n",
       "      <td>10.350000</td>\n",
       "      <td>11.170000</td>\n",
       "      <td>11.170000</td>\n",
       "      <td>9.830000</td>\n",
       "    </tr>\n",
       "  </tbody>\n",
       "</table>\n",
       "<p>8 rows × 63 columns</p>\n",
       "</div>"
      ],
      "text/plain": [
       "                  AVG_TAVG                                                  \\\n",
       "PARTNER_Labels      Brazil      France     Germany     Hungary     Ukraine   \n",
       "count           214.000000  214.000000  214.000000  214.000000  214.000000   \n",
       "mean            238.152301  125.494113  104.143755  116.576205   96.484903   \n",
       "std              24.100760   55.456797   65.178828   79.286625   90.200095   \n",
       "min             146.692308   20.168095  -29.860742  -50.419892  -98.247057   \n",
       "25%             227.991548   77.127932   48.280935   44.350331   16.710027   \n",
       "50%             245.982781  121.548459  102.466712  122.246111   92.398763   \n",
       "75%             254.746595  177.640994  163.845330  190.244695  183.040152   \n",
       "max             276.134483  231.747995  229.864177  242.571429  239.800437   \n",
       "\n",
       "               Corn Price Futures    MAX_TMAX                          \\\n",
       "PARTNER_Labels             Global      Brazil      France     Germany   \n",
       "count                  214.000000  214.000000  214.000000  214.000000   \n",
       "mean                   449.422897  345.918892  225.531663  218.804582   \n",
       "std                    151.626084   24.273653   67.153277   81.278888   \n",
       "min                    201.750000  282.000000  107.622222   36.388889   \n",
       "25%                    356.500000  331.000000  163.656487  140.181174   \n",
       "50%                    390.125000  345.000000  228.556851  226.650735   \n",
       "75%                    562.312500  360.425000  284.822581  287.334967   \n",
       "max                    818.250000  401.000000  362.382979  371.823529   \n",
       "\n",
       "                            ... renewable_energy_consumption_perc_of_total  \\\n",
       "PARTNER_Labels     Hungary  ...                                     Brazil   \n",
       "count           214.000000  ...                                 214.000000   \n",
       "mean            238.560202  ...                                  45.976355   \n",
       "std              85.984321  ...                                   1.906558   \n",
       "min              43.666667  ...                                  41.710000   \n",
       "25%             163.500000  ...                                  44.876250   \n",
       "50%             243.400000  ...                                  46.697083   \n",
       "75%             316.700000  ...                                  47.570000   \n",
       "max             392.500000  ...                                  48.920000   \n",
       "\n",
       "                                                                \\\n",
       "PARTNER_Labels      France     Germany     Hungary     Ukraine   \n",
       "count           214.000000  214.000000  214.000000  214.000000   \n",
       "mean             12.883762   13.639136   13.302453    4.538575   \n",
       "std               2.273139    2.851412    2.688740    2.132976   \n",
       "min               8.520000    7.280000    7.290000    1.270000   \n",
       "25%              11.155000   11.109375   12.801875    2.810000   \n",
       "50%              13.286667   13.971250   13.640000    3.498750   \n",
       "75%              15.310000   16.448125   15.377917    7.082500   \n",
       "max              15.530000   17.170000   17.180000    7.440000   \n",
       "\n",
       "               unemployment_total                                      \\\n",
       "PARTNER_Labels             Brazil      France     Germany     Hungary   \n",
       "count                  214.000000  214.000000  214.000000  214.000000   \n",
       "mean                    10.125584    8.969860    5.587944    6.981075   \n",
       "std                      2.288750    0.867082    2.216610    2.708968   \n",
       "min                      6.760000    7.390000    3.140000    3.420000   \n",
       "25%                      8.205833    8.086250    3.646250    4.070833   \n",
       "50%                      9.536250    9.068750    5.011250    7.343333   \n",
       "75%                     12.473750    9.789167    7.403125    9.545000   \n",
       "max                     13.700000   10.350000   11.170000   11.170000   \n",
       "\n",
       "                            \n",
       "PARTNER_Labels     Ukraine  \n",
       "count           214.000000  \n",
       "mean              8.363902  \n",
       "std               1.103329  \n",
       "min               6.350000  \n",
       "25%               7.477500  \n",
       "50%               8.522083  \n",
       "75%               9.293125  \n",
       "max               9.830000  \n",
       "\n",
       "[8 rows x 63 columns]"
      ]
     },
     "execution_count": 3,
     "metadata": {},
     "output_type": "execute_result"
    }
   ],
   "source": [
    "df = data.get_data(directory_path=gonem_directory, product=product)\n",
    "df = df.iloc[:-2]\n",
    "df.describe()"
   ]
  },
  {
   "cell_type": "code",
   "execution_count": 4,
   "metadata": {
    "tags": []
   },
   "outputs": [
    {
     "data": {
      "text/plain": [
       "[('price', 'Brazil'),\n",
       " ('price', 'France'),\n",
       " ('price', 'Germany'),\n",
       " ('price', 'Global'),\n",
       " ('price', 'Hungary'),\n",
       " ('price', 'Ukraine')]"
      ]
     },
     "execution_count": 4,
     "metadata": {},
     "output_type": "execute_result"
    }
   ],
   "source": [
    "label_columns = ['price']\n",
    "label_columns = df.columns[df.columns.get_level_values(0).isin(label_columns)].tolist()\n",
    "label_columns"
   ]
  },
  {
   "cell_type": "code",
   "execution_count": 5,
   "metadata": {
    "tags": []
   },
   "outputs": [],
   "source": [
    "stl = decomposition.STLDecomposer(labels=label_columns, period=12)\n",
    "log = decomposition.Logger(labels=label_columns)\n",
    "std = decomposition.Standardizer()\n",
    "\n",
    "preproc = decomposition.Processor().add(stl).add(log).add(std)"
   ]
  },
  {
   "cell_type": "code",
   "execution_count": 6,
   "metadata": {
    "tags": []
   },
   "outputs": [
    {
     "data": {
      "text/plain": [
       "Total window size: 30\n",
       "Input indices: [ 0  1  2  3  4  5  6  7  8  9 10 11 12 13 14 15 16 17 18 19 20 21 22 23]\n",
       "Label indices: [24 25 26 27 28 29]\n",
       "Label column name(s): [('price', 'Brazil'), ('price', 'France'), ('price', 'Germany'), ('price', 'Global'), ('price', 'Hungary'), ('price', 'Ukraine')]"
      ]
     },
     "execution_count": 6,
     "metadata": {},
     "output_type": "execute_result"
    }
   ],
   "source": [
    "width = 24\n",
    "label_width = 6\n",
    "shift = 6\n",
    "\n",
    "window = WindowGenerator(input_width=width, label_width=label_width, shift=shift, data=df, \n",
    "                    # train_begin=0, train_end=.9, val_begin=None, val_end=.96,\n",
    "                    train_begin=0, train_end=.97, val_begin=None, val_end=None,\n",
    "                    # train_begin=0, train_end=.5, val_begin=None, val_end=.8,\n",
    "                    test_begin=None, test_end=1., connect=True, remove_labels=True, label_columns=label_columns)\n",
    "window.preprocess(preproc)\n",
    "window"
   ]
  },
  {
   "cell_type": "code",
   "execution_count": 7,
   "metadata": {
    "tags": []
   },
   "outputs": [],
   "source": [
    "label_std = decomposition.Standardizer(mean=std.mean[window.label_columns], std=std.std[window.label_columns])\n",
    "label_log = decomposition.Logger(label_indices=range(len(window.label_columns)))\n",
    "postproc = decomposition.Processor().add(label_std).add(label_log)\n",
    "window.add_label_postprocess(postproc)"
   ]
  },
  {
   "cell_type": "code",
   "execution_count": 8,
   "metadata": {
    "tags": []
   },
   "outputs": [
    {
     "name": "stderr",
     "output_type": "stream",
     "text": [
      "2023-03-10 11:38:49.764976: I tensorflow/compiler/xla/stream_executor/cuda/cuda_gpu_executor.cc:967] could not open file to read NUMA node: /sys/bus/pci/devices/0000:01:00.0/numa_node\n",
      "Your kernel may have been built without NUMA support.\n",
      "2023-03-10 11:38:49.769445: I tensorflow/compiler/xla/stream_executor/cuda/cuda_gpu_executor.cc:967] could not open file to read NUMA node: /sys/bus/pci/devices/0000:01:00.0/numa_node\n",
      "Your kernel may have been built without NUMA support.\n",
      "2023-03-10 11:38:49.769780: I tensorflow/compiler/xla/stream_executor/cuda/cuda_gpu_executor.cc:967] could not open file to read NUMA node: /sys/bus/pci/devices/0000:01:00.0/numa_node\n",
      "Your kernel may have been built without NUMA support.\n",
      "2023-03-10 11:38:49.770864: I tensorflow/core/platform/cpu_feature_guard.cc:193] This TensorFlow binary is optimized with oneAPI Deep Neural Network Library (oneDNN) to use the following CPU instructions in performance-critical operations:  AVX2 FMA\n",
      "To enable them in other operations, rebuild TensorFlow with the appropriate compiler flags.\n",
      "2023-03-10 11:38:49.773596: I tensorflow/compiler/xla/stream_executor/cuda/cuda_gpu_executor.cc:967] could not open file to read NUMA node: /sys/bus/pci/devices/0000:01:00.0/numa_node\n",
      "Your kernel may have been built without NUMA support.\n",
      "2023-03-10 11:38:49.773932: I tensorflow/compiler/xla/stream_executor/cuda/cuda_gpu_executor.cc:967] could not open file to read NUMA node: /sys/bus/pci/devices/0000:01:00.0/numa_node\n",
      "Your kernel may have been built without NUMA support.\n",
      "2023-03-10 11:38:49.774296: I tensorflow/compiler/xla/stream_executor/cuda/cuda_gpu_executor.cc:967] could not open file to read NUMA node: /sys/bus/pci/devices/0000:01:00.0/numa_node\n",
      "Your kernel may have been built without NUMA support.\n",
      "2023-03-10 11:38:50.698079: I tensorflow/compiler/xla/stream_executor/cuda/cuda_gpu_executor.cc:967] could not open file to read NUMA node: /sys/bus/pci/devices/0000:01:00.0/numa_node\n",
      "Your kernel may have been built without NUMA support.\n",
      "2023-03-10 11:38:50.698457: I tensorflow/compiler/xla/stream_executor/cuda/cuda_gpu_executor.cc:967] could not open file to read NUMA node: /sys/bus/pci/devices/0000:01:00.0/numa_node\n",
      "Your kernel may have been built without NUMA support.\n",
      "2023-03-10 11:38:50.698477: I tensorflow/core/common_runtime/gpu/gpu_device.cc:1700] Could not identify NUMA node of platform GPU id 0, defaulting to 0.  Your kernel may not have been built with NUMA support.\n",
      "2023-03-10 11:38:50.698766: I tensorflow/compiler/xla/stream_executor/cuda/cuda_gpu_executor.cc:967] could not open file to read NUMA node: /sys/bus/pci/devices/0000:01:00.0/numa_node\n",
      "Your kernel may have been built without NUMA support.\n",
      "2023-03-10 11:38:50.698820: I tensorflow/core/common_runtime/gpu/gpu_device.cc:1613] Created device /job:localhost/replica:0/task:0/device:GPU:0 with 3417 MB memory:  -> device: 0, name: NVIDIA GeForce RTX 3060 Laptop GPU, pci bus id: 0000:01:00.0, compute capability: 8.6\n"
     ]
    },
    {
     "name": "stdout",
     "output_type": "stream",
     "text": [
      "WARNING:tensorflow:From /usr/local/lib/python3.8/dist-packages/tensorflow/python/autograph/pyct/static_analysis/liveness.py:83: Analyzer.lamba_check (from tensorflow.python.autograph.pyct.static_analysis.liveness) is deprecated and will be removed after 2023-09-23.\n",
      "Instructions for updating:\n",
      "Lambda fuctions will be no more assumed to be used in the statement where they are used, or at least in the same block. https://github.com/tensorflow/tensorflow/issues/56089\n",
      "INFO:tensorflow:Reloading Tuner from /code/notebooks/Gonem/hp/SS/tuner0.json\n"
     ]
    }
   ],
   "source": [
    "tuner = hp_training.get_tuner(model, gonem_directory/'hp', window)"
   ]
  },
  {
   "cell_type": "code",
   "execution_count": 9,
   "metadata": {
    "tags": []
   },
   "outputs": [],
   "source": [
    "# hp_training.run(tuner, window)"
   ]
  },
  {
   "cell_type": "code",
   "execution_count": 10,
   "metadata": {
    "tags": []
   },
   "outputs": [
    {
     "data": {
      "text/plain": [
       "{'lstm_units': 416,\n",
       " 'lstm_layers': 0,\n",
       " 'dense_units': 416,\n",
       " 'dense_layers': 0,\n",
       " 'heads': 2,\n",
       " 'dropout': 0.38972766578190643,\n",
       " 'key_dim': 128,\n",
       " 'l1': 0.0009215140300448076,\n",
       " 'l2': 0.0002556079498371441,\n",
       " 'learning_rate': 0.0012848169081952467,\n",
       " 'tuner/epochs': 200,\n",
       " 'tuner/initial_epoch': 67,\n",
       " 'tuner/bracket': 3,\n",
       " 'tuner/round': 3,\n",
       " 'tuner/trial_id': '0203'}"
      ]
     },
     "execution_count": 10,
     "metadata": {},
     "output_type": "execute_result"
    }
   ],
   "source": [
    "best_hps = tuner.get_best_hyperparameters()[0]\n",
    "best_hps.values"
   ]
  },
  {
   "cell_type": "code",
   "execution_count": 11,
   "metadata": {
    "tags": []
   },
   "outputs": [
    {
     "name": "stdout",
     "output_type": "stream",
     "text": [
      "Epoch 1/200\n"
     ]
    },
    {
     "name": "stderr",
     "output_type": "stream",
     "text": [
      "2023-03-10 11:38:59.047423: I tensorflow/compiler/xla/stream_executor/cuda/cuda_blas.cc:630] TensorFloat-32 will be used for the matrix multiplication. This will only be logged once.\n",
      "2023-03-10 11:39:01.522140: I tensorflow/compiler/xla/stream_executor/cuda/cuda_dnn.cc:428] Loaded cuDNN version 8100\n",
      "2023-03-10 11:39:01.866029: I tensorflow/compiler/xla/service/service.cc:173] XLA service 0x7fee80048e40 initialized for platform CUDA (this does not guarantee that XLA will be used). Devices:\n",
      "2023-03-10 11:39:01.866070: I tensorflow/compiler/xla/service/service.cc:181]   StreamExecutor device (0): NVIDIA GeForce RTX 3060 Laptop GPU, Compute Capability 8.6\n",
      "2023-03-10 11:39:01.898313: I tensorflow/compiler/mlir/tensorflow/utils/dump_mlir_util.cc:268] disabling MLIR crash reproducer, set env var `MLIR_CRASH_REPRODUCER_DIRECTORY` to enable.\n",
      "2023-03-10 11:39:02.276938: I tensorflow/compiler/jit/xla_compilation_cache.cc:477] Compiled cluster using XLA!  This line is logged at most once for the lifetime of the process.\n"
     ]
    },
    {
     "name": "stdout",
     "output_type": "stream",
     "text": [
      "6/6 - 11s - loss: 157.1254 - mae: 0.7837 - mse: 1.0568 - mape: 347.0849 - smape: 152.3220 - val_loss: 141.8907 - val_mae: 0.9841 - val_mse: 1.6261 - val_mape: 684.7963 - val_smape: 137.1299 - 11s/epoch - 2s/step\n",
      "Epoch 2/200\n",
      "6/6 - 0s - loss: 141.5849 - mae: 1.1230 - mse: 2.0402 - mape: 953.1991 - smape: 136.2771 - val_loss: 138.1488 - val_mae: 1.0942 - val_mse: 1.9190 - val_mape: 965.2861 - val_smape: 132.7905 - 388ms/epoch - 65ms/step\n",
      "Epoch 3/200\n",
      "6/6 - 0s - loss: 138.5153 - mae: 1.0946 - mse: 1.9477 - mape: 893.2922 - smape: 133.0176 - val_loss: 131.1284 - val_mae: 0.9213 - val_mse: 1.4654 - val_mape: 762.3817 - val_smape: 125.7709 - 382ms/epoch - 64ms/step\n",
      "Epoch 4/200\n",
      "6/6 - 0s - loss: 128.5859 - mae: 0.8831 - mse: 1.3688 - mape: 774.8044 - smape: 122.6349 - val_loss: 121.3675 - val_mae: 0.7601 - val_mse: 1.0749 - val_mape: 623.0065 - val_smape: 115.7356 - 383ms/epoch - 64ms/step\n",
      "Epoch 5/200\n",
      "6/6 - 0s - loss: 123.0312 - mae: 0.7845 - mse: 1.1217 - mape: 729.3643 - smape: 117.5150 - val_loss: 114.1383 - val_mae: 0.7252 - val_mse: 1.0270 - val_mape: 705.7808 - val_smape: 108.8771 - 388ms/epoch - 65ms/step\n",
      "Epoch 6/200\n",
      "6/6 - 0s - loss: 115.5914 - mae: 0.7456 - mse: 1.0841 - mape: 759.3655 - smape: 109.8859 - val_loss: 107.6261 - val_mae: 0.6728 - val_mse: 0.9275 - val_mape: 810.3339 - val_smape: 102.1033 - 438ms/epoch - 73ms/step\n",
      "Epoch 7/200\n",
      "6/6 - 0s - loss: 113.5722 - mae: 0.7469 - mse: 1.0681 - mape: 935.4017 - smape: 108.0074 - val_loss: 104.9206 - val_mae: 0.6684 - val_mse: 0.9154 - val_mape: 947.5844 - val_smape: 99.3607 - 343ms/epoch - 57ms/step\n",
      "Epoch 8/200\n",
      "6/6 - 0s - loss: 109.1434 - mae: 0.6960 - mse: 0.9598 - mape: 933.6393 - smape: 103.5364 - val_loss: 100.3548 - val_mae: 0.6251 - val_mse: 0.8250 - val_mape: 853.5151 - val_smape: 94.8069 - 286ms/epoch - 48ms/step\n",
      "Epoch 9/200\n",
      "6/6 - 0s - loss: 104.8979 - mae: 0.6445 - mse: 0.8559 - mape: 686.4518 - smape: 99.2934 - val_loss: 93.7380 - val_mae: 0.5552 - val_mse: 0.7262 - val_mape: 547.6876 - val_smape: 88.4598 - 292ms/epoch - 49ms/step\n",
      "Epoch 10/200\n",
      "6/6 - 0s - loss: 100.7749 - mae: 0.6064 - mse: 0.8075 - mape: 481.7904 - smape: 95.7194 - val_loss: 93.1702 - val_mae: 0.5500 - val_mse: 0.7107 - val_mape: 528.6428 - val_smape: 87.7634 - 311ms/epoch - 52ms/step\n",
      "Epoch 11/200\n",
      "6/6 - 0s - loss: 101.8652 - mae: 0.6314 - mse: 0.8123 - mape: 722.3305 - smape: 96.7754 - val_loss: 93.3630 - val_mae: 0.5613 - val_mse: 0.7261 - val_mape: 758.5427 - val_smape: 88.4259 - 232ms/epoch - 39ms/step\n",
      "Epoch 12/200\n",
      "6/6 - 0s - loss: 98.0549 - mae: 0.5875 - mse: 0.7728 - mape: 646.2648 - smape: 92.9260 - val_loss: 89.6602 - val_mae: 0.5117 - val_mse: 0.6645 - val_mape: 569.1273 - val_smape: 84.6741 - 293ms/epoch - 49ms/step\n",
      "Epoch 13/200\n",
      "6/6 - 0s - loss: 93.7794 - mae: 0.5412 - mse: 0.7021 - mape: 537.6826 - smape: 88.4267 - val_loss: 85.7150 - val_mae: 0.4864 - val_mse: 0.6292 - val_mape: 510.2893 - val_smape: 80.5765 - 422ms/epoch - 70ms/step\n",
      "Epoch 14/200\n",
      "6/6 - 0s - loss: 91.7753 - mae: 0.5276 - mse: 0.6703 - mape: 487.6917 - smape: 86.6516 - val_loss: 81.7176 - val_mae: 0.4609 - val_mse: 0.5961 - val_mape: 480.5144 - val_smape: 76.6503 - 385ms/epoch - 64ms/step\n",
      "Epoch 15/200\n",
      "6/6 - 0s - loss: 88.2563 - mae: 0.5046 - mse: 0.6533 - mape: 452.1316 - smape: 83.1166 - val_loss: 81.7724 - val_mae: 0.4597 - val_mse: 0.6093 - val_mape: 423.9379 - val_smape: 76.4697 - 390ms/epoch - 65ms/step\n",
      "Epoch 16/200\n",
      "6/6 - 0s - loss: 89.7581 - mae: 0.5167 - mse: 0.6854 - mape: 419.8777 - smape: 84.9744 - val_loss: 81.4989 - val_mae: 0.4534 - val_mse: 0.6008 - val_mape: 366.2797 - val_smape: 76.2843 - 383ms/epoch - 64ms/step\n",
      "Epoch 17/200\n",
      "6/6 - 0s - loss: 88.9053 - mae: 0.5015 - mse: 0.6387 - mape: 413.2173 - smape: 84.1433 - val_loss: 80.6755 - val_mae: 0.4494 - val_mse: 0.5792 - val_mape: 397.2714 - val_smape: 76.2555 - 356ms/epoch - 59ms/step\n",
      "Epoch 18/200\n",
      "6/6 - 0s - loss: 87.1895 - mae: 0.4930 - mse: 0.6264 - mape: 426.8415 - smape: 82.2116 - val_loss: 79.7463 - val_mae: 0.4398 - val_mse: 0.5665 - val_mape: 353.6707 - val_smape: 74.8681 - 367ms/epoch - 61ms/step\n",
      "Epoch 19/200\n",
      "6/6 - 0s - loss: 85.2574 - mae: 0.4810 - mse: 0.6097 - mape: 355.3083 - smape: 80.0318 - val_loss: 80.4288 - val_mae: 0.4460 - val_mse: 0.5674 - val_mape: 396.9908 - val_smape: 75.1196 - 308ms/epoch - 51ms/step\n",
      "Epoch 20/200\n",
      "6/6 - 0s - loss: 86.1393 - mae: 0.4808 - mse: 0.5985 - mape: 414.4325 - smape: 80.8048 - val_loss: 80.1036 - val_mae: 0.4420 - val_mse: 0.5677 - val_mape: 399.0003 - val_smape: 74.7340 - 367ms/epoch - 61ms/step\n",
      "Epoch 21/200\n",
      "6/6 - 0s - loss: 86.9578 - mae: 0.4956 - mse: 0.6374 - mape: 405.3438 - smape: 81.4555 - val_loss: 79.9345 - val_mae: 0.4460 - val_mse: 0.5778 - val_mape: 432.7510 - val_smape: 74.4246 - 379ms/epoch - 63ms/step\n"
     ]
    },
    {
     "data": {
      "text/plain": [
       "<models.SingleShot at 0x7fef6005a130>"
      ]
     },
     "execution_count": 11,
     "metadata": {},
     "output_type": "execute_result"
    }
   ],
   "source": [
    "hp_training.final_train(tuner, window, checkpoint_path)"
   ]
  },
  {
   "cell_type": "code",
   "execution_count": 12,
   "metadata": {
    "tags": []
   },
   "outputs": [
    {
     "name": "stdout",
     "output_type": "stream",
     "text": [
      "1/1 [==============================] - 1s 964ms/step - loss: 53.3032 - mae: 0.9734 - mse: 2.0474 - mape: 78.9494 - smape: 49.2516\n"
     ]
    },
    {
     "data": {
      "text/plain": [
       "[53.30322265625,\n",
       " 0.9734498858451843,\n",
       " 2.047431230545044,\n",
       " 78.94940185546875,\n",
       " 49.251590728759766]"
      ]
     },
     "execution_count": 12,
     "metadata": {},
     "output_type": "execute_result"
    }
   ],
   "source": [
    "m = tuner.hypermodel.build(best_hps)\n",
    "m.load_weights(checkpoint_path)\n",
    "m.evaluate(window.test)"
   ]
  },
  {
   "cell_type": "code",
   "execution_count": 13,
   "metadata": {
    "tags": []
   },
   "outputs": [],
   "source": [
    "# w.test\n",
    "\n",
    "# # val_performance['1'] = m.evaluate(w.val)\n",
    "# for i in range(6):\n",
    "\n",
    "#     label = label_columns[i]\n",
    "#     print(label)\n",
    "#     # performance['1'] = m.evaluate(w.test)\n",
    "#     w.plot(m, plot_col=label, max_subplots=7)\n"
   ]
  },
  {
   "cell_type": "code",
   "execution_count": 14,
   "metadata": {
    "tags": []
   },
   "outputs": [],
   "source": [
    "inputs, labels, predictions, weights, mcds = [], [], [], [], []\n",
    "for x, y in window.test.take(40):\n",
    "    inputs.append(x)\n",
    "    lab = y\n",
    "    lab = window.label_postprocessor.reverse(lab)\n",
    "    labels.append(lab)\n",
    "    \n",
    "    pred = m(x)\n",
    "    pred = window.label_postprocessor.reverse(pred)\n",
    "    predictions.append(pred)\n",
    "    \n",
    "    weight = m.attention_layer(x, return_weights=True)[1]\n",
    "    weights.append(weight)\n",
    "    \n",
    "    mcd = results.monte_carlo_dropout(x, m, 100, window.label_postprocessor.reverse)\n",
    "    mcds.append(mcd)\n",
    "    \n",
    "inputs = tf.concat(inputs, axis=0)\n",
    "labels = tf.concat(labels, axis=0)\n",
    "weights = tf.concat(weights, axis=0)\n",
    "weights = tf.reduce_mean(weights, axis=0)\n",
    "predictions = tf.concat(predictions, axis=0)\n",
    "mcds = tf.concat(mcds, axis=1)"
   ]
  },
  {
   "cell_type": "code",
   "execution_count": 15,
   "metadata": {
    "tags": []
   },
   "outputs": [],
   "source": [
    "np.save(model_path / f\"{product}_inputs\", inputs.numpy())\n",
    "np.save(model_path / f\"{product}_labels\", labels.numpy())\n",
    "np.save(model_path / f\"{product}_weights\", weights.numpy())\n",
    "np.save(model_path / f\"{product}_predictions\", predictions.numpy())\n",
    "np.save(model_path / f\"{product}_mcd_predictions\", mcds.numpy())\n"
   ]
  },
  {
   "cell_type": "code",
   "execution_count": null,
   "metadata": {},
   "outputs": [],
   "source": []
  }
 ],
 "metadata": {
  "kernelspec": {
   "display_name": "Python 3 (ipykernel)",
   "language": "python",
   "name": "python3"
  },
  "language_info": {
   "codemirror_mode": {
    "name": "ipython",
    "version": 3
   },
   "file_extension": ".py",
   "mimetype": "text/x-python",
   "name": "python",
   "nbconvert_exporter": "python",
   "pygments_lexer": "ipython3",
   "version": "3.8.10"
  },
  "vscode": {
   "interpreter": {
    "hash": "18e074677d39952796133ff6b8faa8a2f37c9c99b6d1afd7ec75658d1c00e599"
   }
  }
 },
 "nbformat": 4,
 "nbformat_minor": 4
}
