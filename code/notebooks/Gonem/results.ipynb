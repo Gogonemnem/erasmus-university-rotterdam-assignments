{
 "cells": [
  {
   "cell_type": "code",
   "execution_count": 1,
   "id": "4d6b9af4-5b8a-45d7-8033-7e16ce5912b1",
   "metadata": {
    "tags": []
   },
   "outputs": [
    {
     "name": "stderr",
     "output_type": "stream",
     "text": [
      "2023-03-10 22:30:42.496665: I tensorflow/core/platform/cpu_feature_guard.cc:193] This TensorFlow binary is optimized with oneAPI Deep Neural Network Library (oneDNN) to use the following CPU instructions in performance-critical operations:  AVX2 FMA\n",
      "To enable them in other operations, rebuild TensorFlow with the appropriate compiler flags.\n"
     ]
    }
   ],
   "source": [
    "import tensorflow as tf\n",
    "import keras_tuner\n",
    "import numpy as np\n",
    "\n",
    "\n",
    "import pandas as pd\n",
    "import openpyxl # Needed for reading excel\n",
    "import pathlib\n",
    "\n",
    "import decomposition\n",
    "import models\n",
    "import data\n",
    "from metrics import smape\n",
    "from windower import WindowGenerator\n",
    "import hp_training\n",
    "import results"
   ]
  },
  {
   "cell_type": "code",
   "execution_count": 2,
   "id": "dc8bc844-a762-4486-8b84-a0346d0d3187",
   "metadata": {
    "tags": []
   },
   "outputs": [],
   "source": [
    "cwd = pathlib.Path.cwd()\n",
    "\n",
    "code_directory = cwd.parents[1]\n",
    "gonem_directory = code_directory / \"notebooks\" / \"Gonem\"\n",
    "data_directory = code_directory / \"data\"\n",
    "hp_directory = code_directory / \"hp\"\n",
    "scenario_directory = code_directory / \"scenarios\"\n",
    "model_directory = code_directory / 'models'\n",
    "\n",
    "model = 'ARF' # SS, ARF or ED\n",
    "product = 'maize' # maize, sunflower or wheat \n",
    "\n",
    "data_type = 'in_sample' # in_sample or out_sample\n",
    "scenario = 2 # 0: the normal setting, 1 or 2\n",
    "\n",
    "\n",
    "model_path =  model_directory / f\"{model}_{product}\"\n",
    "checkpoint_path = model_path / f\"{model}_{product}\"\n",
    "\n",
    "results_path = model_directory / f\"{model}_{product}\"\n",
    "\n",
    "results_path\n",
    "\n",
    "scenario_files = []\n",
    "for path in pathlib.Path(scenario_directory).iterdir():\n",
    "    if path.is_file():\n",
    "        scenario_files.append(path.name)"
   ]
  },
  {
   "cell_type": "code",
   "execution_count": 10,
   "id": "c3710881-90e7-46df-bcea-01e364dc56c9",
   "metadata": {
    "tags": []
   },
   "outputs": [],
   "source": [
    "if scenario:\n",
    "    data_type = f\"{scenario_files[scenario-1]}\"\n",
    "    print(data_type)\n",
    "    df = data.get_data(scenario_directory / scenario_files[scenario-1])\n",
    "else:\n",
    "    df = data.get_data(directory_path=data_directory, product=product)\n",
    "\n",
    "\n",
    "df = df.iloc[:-2]\n",
    "df.describe()"
   ]
  },
  {
   "cell_type": "code",
   "execution_count": 11,
   "id": "f517759a-99b3-4a3e-847a-7880a2fe74f1",
   "metadata": {
    "tags": []
   },
   "outputs": [
    {
     "data": {
      "text/plain": [
       "[('price', 'Brazil'),\n",
       " ('price', 'France'),\n",
       " ('price', 'Germany'),\n",
       " ('price', 'Global'),\n",
       " ('price', 'Hungary'),\n",
       " ('price', 'Ukraine')]"
      ]
     },
     "execution_count": 11,
     "metadata": {},
     "output_type": "execute_result"
    }
   ],
   "source": [
    "label_columns = ['price']\n",
    "label_columns = df.columns[df.columns.get_level_values(0).isin(label_columns)].tolist()\n",
    "label_columns"
   ]
  },
  {
   "cell_type": "code",
   "execution_count": 12,
   "id": "c79bcc92-ad2e-4670-98c3-fe1a0f1a815b",
   "metadata": {
    "tags": []
   },
   "outputs": [],
   "source": [
    "stl = decomposition.STLDecomposer(labels=label_columns, period=12)\n",
    "log = decomposition.Logger(labels=label_columns)\n",
    "std = decomposition.Standardizer()\n",
    "\n",
    "preproc = decomposition.Processor().add(stl).add(log).add(std)"
   ]
  },
  {
   "cell_type": "code",
   "execution_count": 13,
   "id": "4b2d8902-ab51-42d6-9bd9-6344953c3dfd",
   "metadata": {
    "tags": []
   },
   "outputs": [
    {
     "data": {
      "text/plain": [
       "Total window size: 30\n",
       "Input indices: [ 0  1  2  3  4  5  6  7  8  9 10 11 12 13 14 15 16 17 18 19 20 21 22 23]\n",
       "Label indices: [24 25 26 27 28 29]\n",
       "Label column name(s): [('price', 'Brazil'), ('price', 'France'), ('price', 'Germany'), ('price', 'Global'), ('price', 'Hungary'), ('price', 'Ukraine')]"
      ]
     },
     "execution_count": 13,
     "metadata": {},
     "output_type": "execute_result"
    }
   ],
   "source": [
    "width = 24\n",
    "label_width = 6\n",
    "shift = 6\n",
    "\n",
    "if data_type == 'in_sample':\n",
    "    test_begin = None\n",
    "else:\n",
    "    test_begin = 0.\n",
    "    \n",
    "window = WindowGenerator(input_width=width, label_width=label_width, shift=shift, data=df, \n",
    "                    # train_begin=0, train_end=.9, val_begin=None, val_end=.96,\n",
    "                    train_begin=0., train_end=.97, val_begin=None, val_end=None,\n",
    "                    # train_begin=0, train_end=.5, val_begin=None, val_end=.8,\n",
    "                    test_begin=test_begin, test_end=1., connect=True, remove_labels=True, label_columns=label_columns)\n",
    "window.preprocess(preproc)\n",
    "window"
   ]
  },
  {
   "cell_type": "code",
   "execution_count": 14,
   "id": "42436880-11ec-4c24-b07c-cd5934d290ee",
   "metadata": {
    "tags": []
   },
   "outputs": [],
   "source": [
    "label_std = decomposition.Standardizer(mean=std.mean[window.label_columns], std=std.std[window.label_columns])\n",
    "label_log = decomposition.Logger(label_indices=range(len(window.label_columns)))\n",
    "postproc = decomposition.Processor().add(label_std).add(label_log)\n",
    "window.add_label_postprocess(postproc)"
   ]
  },
  {
   "cell_type": "code",
   "execution_count": 80,
   "id": "2ed52801-8350-4bf8-89b0-59a6dd4a5c13",
   "metadata": {
    "tags": []
   },
   "outputs": [],
   "source": [
    "inputs = tf.convert_to_tensor(np.load(model_path /  f\"{product}_inputs_{data_type}.npy\"))\n",
    "labels = tf.convert_to_tensor(np.load(model_path /  f\"{product}_labels.npy\"))\n",
    "weights = tf.convert_to_tensor(np.load(model_path / f\"{product}_weights.npy\"))\n",
    "predictions = tf.convert_to_tensor(np.load(model_path / f\"{product}_predictions.npy\"))\n",
    "mcds = tf.convert_to_tensor(np.load(model_path / f\"{product}_mcd_predictions.npy\"))"
   ]
  },
  {
   "cell_type": "code",
   "execution_count": 83,
   "id": "e8360a8c-d4d9-45ff-8b74-bbf24a247e2d",
   "metadata": {
    "tags": []
   },
   "outputs": [
    {
     "data": {
      "text/plain": [
       "(TensorShape([7, 24, 75]),\n",
       " TensorShape([7, 6, 6]),\n",
       " TensorShape([1, 75]),\n",
       " TensorShape([7, 6, 6]),\n",
       " TensorShape([100, 7, 6, 6]))"
      ]
     },
     "execution_count": 83,
     "metadata": {},
     "output_type": "execute_result"
    }
   ],
   "source": [
    "inputs.shape, labels.shape, weights.shape, predictions.shape, mcds.shape"
   ]
  },
  {
   "cell_type": "code",
   "execution_count": 81,
   "id": "d5ca294c-1053-484f-a87a-275fed31f2ff",
   "metadata": {
    "tags": []
   },
   "outputs": [
    {
     "data": {
      "text/html": [
       "<div>\n",
       "<style scoped>\n",
       "    .dataframe tbody tr th:only-of-type {\n",
       "        vertical-align: middle;\n",
       "    }\n",
       "\n",
       "    .dataframe tbody tr th {\n",
       "        vertical-align: top;\n",
       "    }\n",
       "\n",
       "    .dataframe thead th {\n",
       "        text-align: right;\n",
       "    }\n",
       "</style>\n",
       "<table border=\"1\" class=\"dataframe\">\n",
       "  <thead>\n",
       "    <tr style=\"text-align: right;\">\n",
       "      <th></th>\n",
       "      <th>country</th>\n",
       "      <th>price_trend</th>\n",
       "      <th>price_seasonal</th>\n",
       "      <th>price_residual</th>\n",
       "      <th>AVG_TAVG</th>\n",
       "      <th>Corn Price Futures</th>\n",
       "      <th>MAX_TMAX</th>\n",
       "      <th>MIN_TMIN</th>\n",
       "      <th>OBS_VALUE_QUANTITY_TON</th>\n",
       "      <th>OIL_PRICE $/bbl</th>\n",
       "      <th>agricultural_land</th>\n",
       "      <th>energy_use_kg_of_oil_equivalent_per_capita</th>\n",
       "      <th>fossil_fuel_energy_consumption_perc_of_total</th>\n",
       "      <th>gdp_current_us</th>\n",
       "      <th>population_total</th>\n",
       "      <th>renewable_energy_consumption_perc_of_total</th>\n",
       "      <th>unemployment_total</th>\n",
       "      <th>price</th>\n",
       "    </tr>\n",
       "  </thead>\n",
       "  <tbody>\n",
       "    <tr>\n",
       "      <th>0</th>\n",
       "      <td>Brazil</td>\n",
       "      <td>0.494678</td>\n",
       "      <td>0.739065</td>\n",
       "      <td>0.500782</td>\n",
       "      <td>0.254973</td>\n",
       "      <td>NaN</td>\n",
       "      <td>0.988430</td>\n",
       "      <td>0.168805</td>\n",
       "      <td>0.529142</td>\n",
       "      <td>NaN</td>\n",
       "      <td>0.020744</td>\n",
       "      <td>0.507422</td>\n",
       "      <td>0.107799</td>\n",
       "      <td>0.122484</td>\n",
       "      <td>0.079451</td>\n",
       "      <td>0.437595</td>\n",
       "      <td>0.042050</td>\n",
       "      <td>NaN</td>\n",
       "    </tr>\n",
       "    <tr>\n",
       "      <th>1</th>\n",
       "      <td>France</td>\n",
       "      <td>0.993519</td>\n",
       "      <td>0.720823</td>\n",
       "      <td>0.991954</td>\n",
       "      <td>0.413029</td>\n",
       "      <td>NaN</td>\n",
       "      <td>0.035834</td>\n",
       "      <td>0.150684</td>\n",
       "      <td>0.116774</td>\n",
       "      <td>NaN</td>\n",
       "      <td>0.175720</td>\n",
       "      <td>0.073418</td>\n",
       "      <td>0.244538</td>\n",
       "      <td>0.526178</td>\n",
       "      <td>0.305757</td>\n",
       "      <td>0.033009</td>\n",
       "      <td>0.084799</td>\n",
       "      <td>NaN</td>\n",
       "    </tr>\n",
       "    <tr>\n",
       "      <th>2</th>\n",
       "      <td>Germany</td>\n",
       "      <td>0.481186</td>\n",
       "      <td>0.879754</td>\n",
       "      <td>0.846405</td>\n",
       "      <td>0.062893</td>\n",
       "      <td>NaN</td>\n",
       "      <td>0.558997</td>\n",
       "      <td>0.544435</td>\n",
       "      <td>0.811979</td>\n",
       "      <td>NaN</td>\n",
       "      <td>0.975717</td>\n",
       "      <td>0.421624</td>\n",
       "      <td>0.045476</td>\n",
       "      <td>0.941260</td>\n",
       "      <td>0.026491</td>\n",
       "      <td>0.005236</td>\n",
       "      <td>0.481805</td>\n",
       "      <td>NaN</td>\n",
       "    </tr>\n",
       "    <tr>\n",
       "      <th>3</th>\n",
       "      <td>Global</td>\n",
       "      <td>0.913110</td>\n",
       "      <td>0.940519</td>\n",
       "      <td>0.987832</td>\n",
       "      <td>NaN</td>\n",
       "      <td>0.455777</td>\n",
       "      <td>NaN</td>\n",
       "      <td>NaN</td>\n",
       "      <td>NaN</td>\n",
       "      <td>0.510973</td>\n",
       "      <td>NaN</td>\n",
       "      <td>NaN</td>\n",
       "      <td>NaN</td>\n",
       "      <td>NaN</td>\n",
       "      <td>NaN</td>\n",
       "      <td>NaN</td>\n",
       "      <td>NaN</td>\n",
       "      <td>NaN</td>\n",
       "    </tr>\n",
       "    <tr>\n",
       "      <th>4</th>\n",
       "      <td>Hungary</td>\n",
       "      <td>0.075148</td>\n",
       "      <td>0.995326</td>\n",
       "      <td>0.310927</td>\n",
       "      <td>0.334205</td>\n",
       "      <td>NaN</td>\n",
       "      <td>0.572407</td>\n",
       "      <td>0.007502</td>\n",
       "      <td>0.002124</td>\n",
       "      <td>NaN</td>\n",
       "      <td>0.021501</td>\n",
       "      <td>0.220700</td>\n",
       "      <td>0.783732</td>\n",
       "      <td>0.487172</td>\n",
       "      <td>0.002497</td>\n",
       "      <td>0.442570</td>\n",
       "      <td>0.506175</td>\n",
       "      <td>NaN</td>\n",
       "    </tr>\n",
       "    <tr>\n",
       "      <th>5</th>\n",
       "      <td>Ukraine</td>\n",
       "      <td>0.501829</td>\n",
       "      <td>0.404425</td>\n",
       "      <td>0.505124</td>\n",
       "      <td>0.059433</td>\n",
       "      <td>NaN</td>\n",
       "      <td>0.732472</td>\n",
       "      <td>0.559622</td>\n",
       "      <td>0.723768</td>\n",
       "      <td>NaN</td>\n",
       "      <td>0.587294</td>\n",
       "      <td>0.317992</td>\n",
       "      <td>0.052708</td>\n",
       "      <td>0.991868</td>\n",
       "      <td>0.525882</td>\n",
       "      <td>0.061814</td>\n",
       "      <td>0.993148</td>\n",
       "      <td>NaN</td>\n",
       "    </tr>\n",
       "  </tbody>\n",
       "</table>\n",
       "</div>"
      ],
      "text/plain": [
       "   country  price_trend  price_seasonal  price_residual  AVG_TAVG  \\\n",
       "0   Brazil     0.494678        0.739065        0.500782  0.254973   \n",
       "1   France     0.993519        0.720823        0.991954  0.413029   \n",
       "2  Germany     0.481186        0.879754        0.846405  0.062893   \n",
       "3   Global     0.913110        0.940519        0.987832       NaN   \n",
       "4  Hungary     0.075148        0.995326        0.310927  0.334205   \n",
       "5  Ukraine     0.501829        0.404425        0.505124  0.059433   \n",
       "\n",
       "   Corn Price Futures  MAX_TMAX  MIN_TMIN  OBS_VALUE_QUANTITY_TON  \\\n",
       "0                 NaN  0.988430  0.168805                0.529142   \n",
       "1                 NaN  0.035834  0.150684                0.116774   \n",
       "2                 NaN  0.558997  0.544435                0.811979   \n",
       "3            0.455777       NaN       NaN                     NaN   \n",
       "4                 NaN  0.572407  0.007502                0.002124   \n",
       "5                 NaN  0.732472  0.559622                0.723768   \n",
       "\n",
       "   OIL_PRICE $/bbl  agricultural_land  \\\n",
       "0              NaN           0.020744   \n",
       "1              NaN           0.175720   \n",
       "2              NaN           0.975717   \n",
       "3         0.510973                NaN   \n",
       "4              NaN           0.021501   \n",
       "5              NaN           0.587294   \n",
       "\n",
       "   energy_use_kg_of_oil_equivalent_per_capita  \\\n",
       "0                                    0.507422   \n",
       "1                                    0.073418   \n",
       "2                                    0.421624   \n",
       "3                                         NaN   \n",
       "4                                    0.220700   \n",
       "5                                    0.317992   \n",
       "\n",
       "   fossil_fuel_energy_consumption_perc_of_total  gdp_current_us  \\\n",
       "0                                      0.107799        0.122484   \n",
       "1                                      0.244538        0.526178   \n",
       "2                                      0.045476        0.941260   \n",
       "3                                           NaN             NaN   \n",
       "4                                      0.783732        0.487172   \n",
       "5                                      0.052708        0.991868   \n",
       "\n",
       "   population_total  renewable_energy_consumption_perc_of_total  \\\n",
       "0          0.079451                                    0.437595   \n",
       "1          0.305757                                    0.033009   \n",
       "2          0.026491                                    0.005236   \n",
       "3               NaN                                         NaN   \n",
       "4          0.002497                                    0.442570   \n",
       "5          0.525882                                    0.061814   \n",
       "\n",
       "   unemployment_total  price  \n",
       "0            0.042050    NaN  \n",
       "1            0.084799    NaN  \n",
       "2            0.481805    NaN  \n",
       "3                 NaN    NaN  \n",
       "4            0.506175    NaN  \n",
       "5            0.993148    NaN  "
      ]
     },
     "execution_count": 81,
     "metadata": {},
     "output_type": "execute_result"
    }
   ],
   "source": [
    "results.weight_results(weights[0], window.train_df.columns)"
   ]
  },
  {
   "cell_type": "code",
   "execution_count": 82,
   "id": "699864d1-5731-4c52-8f76-a2e1fa7a4685",
   "metadata": {
    "tags": []
   },
   "outputs": [],
   "source": [
    "intervals = results.forecast_interval(mcds, 0.1)"
   ]
  },
  {
   "cell_type": "code",
   "execution_count": 72,
   "id": "18364d54-8993-4af0-b1c2-cfd2a4f89312",
   "metadata": {
    "tags": []
   },
   "outputs": [
    {
     "name": "stdout",
     "output_type": "stream",
     "text": [
      "tf.Tensor(14.429292, shape=(), dtype=float32)\n",
      "tf.Tensor(11.13741, shape=(), dtype=float32)\n",
      "tf.Tensor(26.910423, shape=(), dtype=float32)\n",
      "tf.Tensor(12.702807, shape=(), dtype=float32)\n",
      "tf.Tensor(7.5614967, shape=(), dtype=float32)\n",
      "tf.Tensor(14.304833, shape=(), dtype=float32)\n"
     ]
    }
   ],
   "source": [
    "import metrics\n",
    "for i in range(6):\n",
    "    print(metrics.smape(predictions[:, 5, i], labels[:, 5, i])/2)"
   ]
  },
  {
   "cell_type": "code",
   "execution_count": null,
   "id": "e994be1d-4cbb-468c-9a00-891ebcc43801",
   "metadata": {},
   "outputs": [],
   "source": []
  },
  {
   "cell_type": "code",
   "execution_count": null,
   "id": "d344be25-19ed-4ab3-a63e-d0690cb219ad",
   "metadata": {},
   "outputs": [],
   "source": []
  }
 ],
 "metadata": {
  "kernelspec": {
   "display_name": "Python 3 (ipykernel)",
   "language": "python",
   "name": "python3"
  },
  "language_info": {
   "codemirror_mode": {
    "name": "ipython",
    "version": 3
   },
   "file_extension": ".py",
   "mimetype": "text/x-python",
   "name": "python",
   "nbconvert_exporter": "python",
   "pygments_lexer": "ipython3",
   "version": "3.8.10"
  }
 },
 "nbformat": 4,
 "nbformat_minor": 5
}
