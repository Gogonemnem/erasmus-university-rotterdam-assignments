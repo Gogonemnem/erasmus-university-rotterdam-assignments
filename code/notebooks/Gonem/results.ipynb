{
 "cells": [
  {
   "cell_type": "code",
   "execution_count": 12,
   "id": "4d6b9af4-5b8a-45d7-8033-7e16ce5912b1",
   "metadata": {
    "tags": []
   },
   "outputs": [],
   "source": [
    "import tensorflow as tf\n",
    "import keras_tuner\n",
    "import numpy as np\n",
    "\n",
    "\n",
    "import pandas as pd\n",
    "import openpyxl # Needed for reading excel\n",
    "import pathlib\n",
    "\n",
    "import decomposition\n",
    "import models\n",
    "import data\n",
    "from metrics import smape\n",
    "from windower import WindowGenerator\n",
    "import hp_training\n",
    "import results"
   ]
  },
  {
   "cell_type": "code",
   "execution_count": 13,
   "id": "dc8bc844-a762-4486-8b84-a0346d0d3187",
   "metadata": {
    "tags": []
   },
   "outputs": [],
   "source": [
    "cwd = pathlib.Path.cwd()\n",
    "\n",
    "code_directory = cwd.parents[1]\n",
    "gonem_directory = code_directory / \"notebooks\" / \"Gonem\"\n",
    "model_directory = gonem_directory / 'models'\n",
    "\n",
    "model = 'SS'\n",
    "product = 'maize'\n",
    "model_path =  model_directory / f\"{model}_{product}\"\n",
    "checkpoint_path = model_path / f\"{model}_{product}\"\n"
   ]
  },
  {
   "cell_type": "code",
   "execution_count": 14,
   "id": "c3710881-90e7-46df-bcea-01e364dc56c9",
   "metadata": {
    "tags": []
   },
   "outputs": [],
   "source": [
    "df = data.get_data(directory_path=gonem_directory, product=product)\n",
    "df = df.iloc[:-2]"
   ]
  },
  {
   "cell_type": "code",
   "execution_count": 15,
   "id": "f517759a-99b3-4a3e-847a-7880a2fe74f1",
   "metadata": {
    "tags": []
   },
   "outputs": [
    {
     "data": {
      "text/plain": [
       "[('price', 'Brazil'),\n",
       " ('price', 'France'),\n",
       " ('price', 'Germany'),\n",
       " ('price', 'Global'),\n",
       " ('price', 'Hungary'),\n",
       " ('price', 'Ukraine')]"
      ]
     },
     "execution_count": 15,
     "metadata": {},
     "output_type": "execute_result"
    }
   ],
   "source": [
    "label_columns = ['price']\n",
    "label_columns = df.columns[df.columns.get_level_values(0).isin(label_columns)].tolist()\n",
    "label_columns"
   ]
  },
  {
   "cell_type": "code",
   "execution_count": 16,
   "id": "c79bcc92-ad2e-4670-98c3-fe1a0f1a815b",
   "metadata": {
    "tags": []
   },
   "outputs": [],
   "source": [
    "stl = decomposition.STLDecomposer(labels=label_columns, period=12)\n",
    "log = decomposition.Logger(labels=label_columns)\n",
    "std = decomposition.Standardizer()\n",
    "\n",
    "preproc = decomposition.Processor().add(stl).add(log).add(std)"
   ]
  },
  {
   "cell_type": "code",
   "execution_count": 17,
   "id": "4b2d8902-ab51-42d6-9bd9-6344953c3dfd",
   "metadata": {
    "tags": []
   },
   "outputs": [
    {
     "data": {
      "text/plain": [
       "Total window size: 30\n",
       "Input indices: [ 0  1  2  3  4  5  6  7  8  9 10 11 12 13 14 15 16 17 18 19 20 21 22 23]\n",
       "Label indices: [24 25 26 27 28 29]\n",
       "Label column name(s): [('price', 'Brazil'), ('price', 'France'), ('price', 'Germany'), ('price', 'Global'), ('price', 'Hungary'), ('price', 'Ukraine')]"
      ]
     },
     "execution_count": 17,
     "metadata": {},
     "output_type": "execute_result"
    }
   ],
   "source": [
    "width = 24\n",
    "label_width = 6\n",
    "shift = 6\n",
    "\n",
    "window = WindowGenerator(input_width=width, label_width=label_width, shift=shift, data=df, \n",
    "                    # train_begin=0, train_end=.9, val_begin=None, val_end=.96,\n",
    "                    train_begin=0, train_end=.97, val_begin=None, val_end=None,\n",
    "                    # train_begin=0, train_end=.5, val_begin=None, val_end=.8,\n",
    "                    test_begin=None, test_end=1., connect=True, remove_labels=True, label_columns=label_columns)\n",
    "window.preprocess(preproc)\n",
    "window"
   ]
  },
  {
   "cell_type": "code",
   "execution_count": 21,
   "id": "42436880-11ec-4c24-b07c-cd5934d290ee",
   "metadata": {
    "tags": []
   },
   "outputs": [],
   "source": [
    "label_std = decomposition.Standardizer(mean=std.mean[window.label_columns], std=std.std[window.label_columns])\n",
    "label_log = decomposition.Logger(label_indices=range(len(window.label_columns)))\n",
    "postproc = decomposition.Processor().add(label_std).add(label_log)\n",
    "window.add_label_postprocess(postproc)"
   ]
  },
  {
   "cell_type": "code",
   "execution_count": 22,
   "id": "2ed52801-8350-4bf8-89b0-59a6dd4a5c13",
   "metadata": {
    "tags": []
   },
   "outputs": [],
   "source": [
    "inputs = tf.convert_to_tensor(np.load(model_path /  f\"{product}_inputs.npy\"))\n",
    "labels = tf.convert_to_tensor(np.load(model_path /  f\"{product}_labels.npy\"))\n",
    "weights = tf.convert_to_tensor(np.load(model_path / f\"{product}_weights.npy\"))\n",
    "predictions = tf.convert_to_tensor(np.load(model_path / f\"{product}_predictions.npy\"))\n",
    "mcds = tf.convert_to_tensor(np.load(model_path / f\"{product}_mcd_predictions.npy\"))"
   ]
  },
  {
   "cell_type": "code",
   "execution_count": 23,
   "id": "8b6ccb1b-1749-4388-9dd6-b7673415f18c",
   "metadata": {
    "tags": []
   },
   "outputs": [
    {
     "data": {
      "text/html": [
       "<div>\n",
       "<style scoped>\n",
       "    .dataframe tbody tr th:only-of-type {\n",
       "        vertical-align: middle;\n",
       "    }\n",
       "\n",
       "    .dataframe tbody tr th {\n",
       "        vertical-align: top;\n",
       "    }\n",
       "\n",
       "    .dataframe thead th {\n",
       "        text-align: right;\n",
       "    }\n",
       "</style>\n",
       "<table border=\"1\" class=\"dataframe\">\n",
       "  <thead>\n",
       "    <tr style=\"text-align: right;\">\n",
       "      <th></th>\n",
       "      <th>country</th>\n",
       "      <th>price_trend</th>\n",
       "      <th>price_seasonal</th>\n",
       "      <th>price_residual</th>\n",
       "      <th>AVG_TAVG</th>\n",
       "      <th>Corn Price Futures</th>\n",
       "      <th>MAX_TMAX</th>\n",
       "      <th>MIN_TMIN</th>\n",
       "      <th>OBS_VALUE_QUANTITY_TON</th>\n",
       "      <th>OIL_PRICE $/bbl</th>\n",
       "      <th>agricultural_land</th>\n",
       "      <th>energy_use_kg_of_oil_equivalent_per_capita</th>\n",
       "      <th>fossil_fuel_energy_consumption_perc_of_total</th>\n",
       "      <th>gdp_current_us</th>\n",
       "      <th>population_total</th>\n",
       "      <th>renewable_energy_consumption_perc_of_total</th>\n",
       "      <th>unemployment_total</th>\n",
       "      <th>price</th>\n",
       "    </tr>\n",
       "  </thead>\n",
       "  <tbody>\n",
       "    <tr>\n",
       "      <th>0</th>\n",
       "      <td>Brazil</td>\n",
       "      <td>0.392538</td>\n",
       "      <td>9.824404e-01</td>\n",
       "      <td>0.999798</td>\n",
       "      <td>0.999947</td>\n",
       "      <td>NaN</td>\n",
       "      <td>9.849353e-01</td>\n",
       "      <td>0.500000</td>\n",
       "      <td>0.528138</td>\n",
       "      <td>NaN</td>\n",
       "      <td>0.294489</td>\n",
       "      <td>0.500000</td>\n",
       "      <td>0.002461</td>\n",
       "      <td>0.055568</td>\n",
       "      <td>5.000000e-01</td>\n",
       "      <td>0.499983</td>\n",
       "      <td>0.500000</td>\n",
       "      <td>NaN</td>\n",
       "    </tr>\n",
       "    <tr>\n",
       "      <th>1</th>\n",
       "      <td>France</td>\n",
       "      <td>1.000000</td>\n",
       "      <td>1.766272e-10</td>\n",
       "      <td>1.000000</td>\n",
       "      <td>0.216082</td>\n",
       "      <td>NaN</td>\n",
       "      <td>5.000130e-01</td>\n",
       "      <td>0.542473</td>\n",
       "      <td>0.500000</td>\n",
       "      <td>NaN</td>\n",
       "      <td>0.000537</td>\n",
       "      <td>0.000108</td>\n",
       "      <td>0.004323</td>\n",
       "      <td>0.499991</td>\n",
       "      <td>3.430957e-07</td>\n",
       "      <td>0.456903</td>\n",
       "      <td>0.992554</td>\n",
       "      <td>NaN</td>\n",
       "    </tr>\n",
       "    <tr>\n",
       "      <th>2</th>\n",
       "      <td>Germany</td>\n",
       "      <td>0.438094</td>\n",
       "      <td>9.999728e-01</td>\n",
       "      <td>0.500061</td>\n",
       "      <td>0.005002</td>\n",
       "      <td>NaN</td>\n",
       "      <td>5.654812e-08</td>\n",
       "      <td>0.508717</td>\n",
       "      <td>0.209303</td>\n",
       "      <td>NaN</td>\n",
       "      <td>0.586533</td>\n",
       "      <td>0.500084</td>\n",
       "      <td>0.000016</td>\n",
       "      <td>0.487185</td>\n",
       "      <td>4.998086e-01</td>\n",
       "      <td>0.000617</td>\n",
       "      <td>0.500517</td>\n",
       "      <td>NaN</td>\n",
       "    </tr>\n",
       "    <tr>\n",
       "      <th>3</th>\n",
       "      <td>Global</td>\n",
       "      <td>0.998352</td>\n",
       "      <td>9.620469e-01</td>\n",
       "      <td>0.577049</td>\n",
       "      <td>NaN</td>\n",
       "      <td>0.499208</td>\n",
       "      <td>NaN</td>\n",
       "      <td>NaN</td>\n",
       "      <td>NaN</td>\n",
       "      <td>0.000087</td>\n",
       "      <td>NaN</td>\n",
       "      <td>NaN</td>\n",
       "      <td>NaN</td>\n",
       "      <td>NaN</td>\n",
       "      <td>NaN</td>\n",
       "      <td>NaN</td>\n",
       "      <td>NaN</td>\n",
       "      <td>NaN</td>\n",
       "    </tr>\n",
       "    <tr>\n",
       "      <th>4</th>\n",
       "      <td>Hungary</td>\n",
       "      <td>0.993907</td>\n",
       "      <td>9.998809e-01</td>\n",
       "      <td>0.270154</td>\n",
       "      <td>0.367875</td>\n",
       "      <td>NaN</td>\n",
       "      <td>9.975214e-01</td>\n",
       "      <td>0.500003</td>\n",
       "      <td>0.075880</td>\n",
       "      <td>NaN</td>\n",
       "      <td>0.999868</td>\n",
       "      <td>0.500008</td>\n",
       "      <td>0.000003</td>\n",
       "      <td>0.452855</td>\n",
       "      <td>1.182533e-08</td>\n",
       "      <td>0.079961</td>\n",
       "      <td>0.000263</td>\n",
       "      <td>NaN</td>\n",
       "    </tr>\n",
       "    <tr>\n",
       "      <th>5</th>\n",
       "      <td>Ukraine</td>\n",
       "      <td>0.999954</td>\n",
       "      <td>8.915747e-01</td>\n",
       "      <td>0.485885</td>\n",
       "      <td>0.499999</td>\n",
       "      <td>NaN</td>\n",
       "      <td>1.852136e-02</td>\n",
       "      <td>0.499998</td>\n",
       "      <td>0.500001</td>\n",
       "      <td>NaN</td>\n",
       "      <td>0.991953</td>\n",
       "      <td>0.500000</td>\n",
       "      <td>0.499970</td>\n",
       "      <td>0.999142</td>\n",
       "      <td>5.001532e-01</td>\n",
       "      <td>0.497066</td>\n",
       "      <td>0.073851</td>\n",
       "      <td>NaN</td>\n",
       "    </tr>\n",
       "  </tbody>\n",
       "</table>\n",
       "</div>"
      ],
      "text/plain": [
       "   country  price_trend  price_seasonal  price_residual  AVG_TAVG  \\\n",
       "0   Brazil     0.392538    9.824404e-01        0.999798  0.999947   \n",
       "1   France     1.000000    1.766272e-10        1.000000  0.216082   \n",
       "2  Germany     0.438094    9.999728e-01        0.500061  0.005002   \n",
       "3   Global     0.998352    9.620469e-01        0.577049       NaN   \n",
       "4  Hungary     0.993907    9.998809e-01        0.270154  0.367875   \n",
       "5  Ukraine     0.999954    8.915747e-01        0.485885  0.499999   \n",
       "\n",
       "   Corn Price Futures      MAX_TMAX  MIN_TMIN  OBS_VALUE_QUANTITY_TON  \\\n",
       "0                 NaN  9.849353e-01  0.500000                0.528138   \n",
       "1                 NaN  5.000130e-01  0.542473                0.500000   \n",
       "2                 NaN  5.654812e-08  0.508717                0.209303   \n",
       "3            0.499208           NaN       NaN                     NaN   \n",
       "4                 NaN  9.975214e-01  0.500003                0.075880   \n",
       "5                 NaN  1.852136e-02  0.499998                0.500001   \n",
       "\n",
       "   OIL_PRICE $/bbl  agricultural_land  \\\n",
       "0              NaN           0.294489   \n",
       "1              NaN           0.000537   \n",
       "2              NaN           0.586533   \n",
       "3         0.000087                NaN   \n",
       "4              NaN           0.999868   \n",
       "5              NaN           0.991953   \n",
       "\n",
       "   energy_use_kg_of_oil_equivalent_per_capita  \\\n",
       "0                                    0.500000   \n",
       "1                                    0.000108   \n",
       "2                                    0.500084   \n",
       "3                                         NaN   \n",
       "4                                    0.500008   \n",
       "5                                    0.500000   \n",
       "\n",
       "   fossil_fuel_energy_consumption_perc_of_total  gdp_current_us  \\\n",
       "0                                      0.002461        0.055568   \n",
       "1                                      0.004323        0.499991   \n",
       "2                                      0.000016        0.487185   \n",
       "3                                           NaN             NaN   \n",
       "4                                      0.000003        0.452855   \n",
       "5                                      0.499970        0.999142   \n",
       "\n",
       "   population_total  renewable_energy_consumption_perc_of_total  \\\n",
       "0      5.000000e-01                                    0.499983   \n",
       "1      3.430957e-07                                    0.456903   \n",
       "2      4.998086e-01                                    0.000617   \n",
       "3               NaN                                         NaN   \n",
       "4      1.182533e-08                                    0.079961   \n",
       "5      5.001532e-01                                    0.497066   \n",
       "\n",
       "   unemployment_total  price  \n",
       "0            0.500000    NaN  \n",
       "1            0.992554    NaN  \n",
       "2            0.500517    NaN  \n",
       "3                 NaN    NaN  \n",
       "4            0.000263    NaN  \n",
       "5            0.073851    NaN  "
      ]
     },
     "execution_count": 23,
     "metadata": {},
     "output_type": "execute_result"
    }
   ],
   "source": [
    "results.weight_results(weights[0], window.train_df.columns)"
   ]
  },
  {
   "cell_type": "code",
   "execution_count": 24,
   "id": "699864d1-5731-4c52-8f76-a2e1fa7a4685",
   "metadata": {
    "tags": []
   },
   "outputs": [],
   "source": [
    "intervals = results.forecast_interval(mcds, 0.1)"
   ]
  },
  {
   "cell_type": "code",
   "execution_count": 25,
   "id": "18364d54-8993-4af0-b1c2-cfd2a4f89312",
   "metadata": {
    "tags": []
   },
   "outputs": [
    {
     "name": "stdout",
     "output_type": "stream",
     "text": [
      "tf.Tensor(15.3990345, shape=(), dtype=float32)\n",
      "tf.Tensor(9.173777, shape=(), dtype=float32)\n",
      "tf.Tensor(23.208067, shape=(), dtype=float32)\n",
      "tf.Tensor(9.676351, shape=(), dtype=float32)\n",
      "tf.Tensor(8.310388, shape=(), dtype=float32)\n",
      "tf.Tensor(9.810068, shape=(), dtype=float32)\n"
     ]
    }
   ],
   "source": [
    "import metrics\n",
    "for i in range(6):\n",
    "    print(metrics.smape(predictions[:, 5, i], labels[:, 5, i])/2)"
   ]
  },
  {
   "cell_type": "code",
   "execution_count": null,
   "id": "e994be1d-4cbb-468c-9a00-891ebcc43801",
   "metadata": {},
   "outputs": [],
   "source": []
  },
  {
   "cell_type": "code",
   "execution_count": null,
   "id": "d344be25-19ed-4ab3-a63e-d0690cb219ad",
   "metadata": {},
   "outputs": [],
   "source": []
  }
 ],
 "metadata": {
  "kernelspec": {
   "display_name": "Python 3 (ipykernel)",
   "language": "python",
   "name": "python3"
  },
  "language_info": {
   "codemirror_mode": {
    "name": "ipython",
    "version": 3
   },
   "file_extension": ".py",
   "mimetype": "text/x-python",
   "name": "python",
   "nbconvert_exporter": "python",
   "pygments_lexer": "ipython3",
   "version": "3.8.10"
  }
 },
 "nbformat": 4,
 "nbformat_minor": 5
}
