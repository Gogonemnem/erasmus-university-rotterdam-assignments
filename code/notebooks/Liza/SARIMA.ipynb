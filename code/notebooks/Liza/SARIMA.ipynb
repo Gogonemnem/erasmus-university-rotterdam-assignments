{
 "cells": [
  {
   "cell_type": "code",
   "execution_count": null,
   "metadata": {
    "collapsed": true,
    "pycharm": {
     "is_executing": true
    }
   },
   "outputs": [],
   "source": [
    "#Allow to install random packages\n",
    "import sys\n",
    "!{sys.executable} -m pip install pandas-datareader"
   ]
  },
  {
   "cell_type": "markdown",
   "source": [],
   "metadata": {
    "collapsed": false
   }
  },
  {
   "cell_type": "code",
   "execution_count": null,
   "outputs": [],
   "source": [
    "#Import our data\n",
    "import pathlib\n",
    "import pandas as pd\n",
    "cwd = pathlib.Path.cwd()\n",
    "\n",
    "code_directory = cwd.parents[1]\n",
    "\n",
    "bas_directory = code_directory / \"notebooks\" / \"Bas\"\n",
    "data_file = bas_directory / \"df_filtered_maize_trade_oil_weather_futures.xlsx\"\n",
    "data_file\n",
    "\n",
    "df = pd.read_excel(data_file, header=[0, 1], index_col=0)\n",
    "df.head(5)"
   ],
   "metadata": {
    "collapsed": false,
    "pycharm": {
     "is_executing": true
    }
   }
  },
  {
   "cell_type": "code",
   "execution_count": null,
   "outputs": [],
   "source": [
    "#Split dataset into test 20% and train 80%\n",
    "n = len(df)\n",
    "df_train = df[0:int(n*0.8)]\n",
    "#val_df = df[int(n*0.7):int(n*0.9)]\n",
    "df_test = df[int(n*0.8):]\n",
    "print(df_train.head(5))"
   ],
   "metadata": {
    "collapsed": false,
    "pycharm": {
     "is_executing": true
    }
   }
  },
  {
   "cell_type": "markdown",
   "source": [],
   "metadata": {
    "collapsed": false
   }
  },
  {
   "cell_type": "code",
   "execution_count": null,
   "outputs": [],
   "source": [
    "df_train.dtypes"
   ],
   "metadata": {
    "collapsed": false,
    "pycharm": {
     "is_executing": true
    }
   }
  },
  {
   "cell_type": "code",
   "execution_count": 121,
   "outputs": [
    {
     "name": "stdout",
     "output_type": "stream",
     "text": [
      "         rgnp_x  pgnp_x   ulc_x  gdfco_x   gdf_x  gdfim_x  gdfcf_x  gdfce_x\n",
      "rgnp_y   1.0000  0.1849  0.0081   0.0360  0.0093   0.2181   0.6115   0.2297\n",
      "pgnp_y   0.0000  1.0000  0.0000   0.0000  0.0000   0.0000   0.0000   0.0000\n",
      "ulc_y    0.0000  0.0000  1.0000   0.0002  0.0000   0.0000   0.0000   0.0949\n",
      "gdfco_y  0.0000  0.0000  0.0000   1.0000  0.0000   0.0000   0.0000   0.0000\n",
      "gdf_y    0.0000  0.0000  0.0000   0.0000  1.0000   0.0000   0.0000   0.0090\n",
      "gdfim_y  0.0011  0.0067  0.0014   0.0083  0.0019   1.0000   0.0150   0.0000\n",
      "gdfcf_y  0.0000  0.0000  0.0008   0.0008  0.0000   0.0057   1.0000   0.0030\n",
      "gdfce_y  0.0673  0.0485  0.0017   0.0002  0.0000   0.0000   0.0042   1.0000\n"
     ]
    }
   ],
   "source": [
    "#Apply Granger causality to test if lagged variables\n",
    "from statsmodels.tsa.stattools import grangercausalitytests\n",
    "\n",
    "maxlag = 2\n",
    "variables= df.columns[0:(len(df.columns)-1)] #Ensure timecolumn is removed from data\n",
    "matrix = pd.DataFrame(np.zeros((len(variables), len(variables))), columns=variables, index=variables)\n",
    "for col in matrix.columns:\n",
    "    for row in matrix.index:\n",
    "        test_result = grangercausalitytests(df[[row, col]], maxlag=20, verbose=False)\n",
    "        p_values = [round(test_result[i+1][0]['ssr_chi2test'][1],4) for i in range(maxlag)]\n",
    "        min_p_value = np.min(p_values)\n",
    "        matrix.loc[row, col] = min_p_value\n",
    "matrix.columns = [var + '_x' for var in variables]\n",
    "matrix.index = [var + '_y' for var in variables]\n",
    "print(matrix)"
   ],
   "metadata": {
    "collapsed": false
   }
  },
  {
   "cell_type": "code",
   "execution_count": null,
   "outputs": [],
   "source": [
    "#Stationary testing by using Augmented Dickey-Fuller Test we might need to do decomposition ?? DUH weather is trendy?\n",
    "from statsmodels.tsa.stattools import adfuller\n",
    "\n",
    "def adfuller_test(series, sig=0.05, name=''):\n",
    "    res = adfuller(series, autolag='AIC')\n",
    "    p_value = round(res[1], 3)\n",
    "\n",
    "    if p_value <= sig:\n",
    "        print(f\" {name} : P-Value = {p_value} => Stationary. \")\n",
    "    else:\n",
    "        print(f\" {name} : P-Value = {p_value} => Non-stationary.\")\n",
    "\n",
    "for name, column in df.iteritems():\n",
    "    adfuller_test(column, name=column.name)"
   ],
   "metadata": {
    "collapsed": false
   }
  },
  {
   "cell_type": "code",
   "execution_count": 128,
   "outputs": [
    {
     "name": "stdout",
     "output_type": "stream",
     "text": [
      "              rgnp    pgnp   ulc  gdfco   gdf  gdfim  gdfcf  gdfce\n",
      "date                                                              \n",
      "1956-04-01  1606.4  1608.3  47.5   36.9  37.4   26.9   32.3   23.1\n",
      "1956-07-01  1637.0  1622.2  47.5   37.4  37.5   27.0   32.2   23.4\n",
      "1956-10-01  1629.5  1636.2  48.7   37.6  37.6   27.1   32.4   23.4\n",
      "1957-01-01  1643.4  1650.3  48.8   37.7  37.8   27.1   32.5   23.8\n",
      "1957-04-01  1671.6  1664.6  49.1   37.8  37.8   27.2   32.4   23.8\n",
      "1957-07-01  1666.8  1679.0  49.6   38.0  38.0   27.4   32.8   23.9\n",
      "1957-10-01  1668.4  1693.5  50.0   38.1  38.1   27.4   32.9   24.1\n",
      "1958-01-01  1654.1  1708.2  50.2   38.2  38.2   27.2   33.2   24.2\n",
      "1958-04-01  1671.3  1722.9  50.1   38.2  38.2   27.2   33.2   24.2\n",
      "1958-07-01  1692.1  1737.8  49.8   38.3  38.2   27.2   33.2   24.2\n"
     ]
    }
   ],
   "source": [
    "#Import test data\n",
    "import pandas as pd\n",
    "import numpy as np\n",
    "import statsmodels.api as sm\n",
    "\n",
    "df = pd.read_excel('Raotbl6.xlsx', index_col='date', parse_dates=True)\n",
    "print(df.head(10))"
   ],
   "metadata": {
    "collapsed": false
   }
  },
  {
   "cell_type": "code",
   "execution_count": 130,
   "outputs": [],
   "source": [
    "# Define the seasonal cycle length\n",
    "s = 12 # for monthly data\n",
    "\n",
    "# Define the model order and seasonal order\n",
    "p = 2 # AR order\n",
    "q = 2 # MA order\n",
    "P = 1 # seasonal AR order\n",
    "Q = 1 # seasonal MA order"
   ],
   "metadata": {
    "collapsed": false
   }
  },
  {
   "cell_type": "code",
   "execution_count": 133,
   "outputs": [
    {
     "name": "stdout",
     "output_type": "stream",
     "text": [
      "              rgnp    pgnp\n",
      "date                      \n",
      "1956-04-01  1606.4  1608.3\n",
      "1956-07-01  1637.0  1622.2\n",
      "1956-10-01  1629.5  1636.2\n",
      "1957-01-01  1643.4  1650.3\n",
      "1957-04-01  1671.6  1664.6\n",
      "             ulc  gdfco   gdf  gdfim  gdfcf  gdfce\n",
      "date                                              \n",
      "1956-04-01  47.5   36.9  37.4   26.9   32.3   23.1\n",
      "1956-07-01  47.5   37.4  37.5   27.0   32.2   23.4\n",
      "1956-10-01  48.7   37.6  37.6   27.1   32.4   23.4\n",
      "1957-01-01  48.8   37.7  37.8   27.1   32.5   23.8\n",
      "1957-04-01  49.1   37.8  37.8   27.2   32.4   23.8\n"
     ]
    }
   ],
   "source": [
    "# Create the multivariate seasonal ARMA model\n",
    "\n",
    "Y = df[['rgnp', 'pgnp']]\n",
    "X = df.loc[:, df.columns != 'rgnp']\n",
    "X = X.loc[:, X.columns != 'pgnp']\n",
    "print(Y.head(5))\n",
    "print(X.head(5))"
   ],
   "metadata": {
    "collapsed": false
   }
  },
  {
   "cell_type": "code",
   "execution_count": 138,
   "outputs": [
    {
     "name": "stderr",
     "output_type": "stream",
     "text": [
      "/opt/anaconda3/lib/python3.8/site-packages/statsmodels/tsa/statespace/varmax.py:161: EstimationWarning: Estimation of VARMA(p,q) models is not generically robust, due especially to identification issues.\n",
      "  warn('Estimation of VARMA(p,q) models is not generically robust,'\n",
      "/opt/anaconda3/lib/python3.8/site-packages/statsmodels/tsa/base/tsa_model.py:524: ValueWarning: No frequency information was provided, so inferred frequency QS-OCT will be used.\n",
      "  warnings.warn('No frequency information was'\n"
     ]
    }
   ],
   "source": [
    "from statsmodels.tsa.statespace.varmax import VARMAX\n",
    "\n",
    "#model = sm.tsa.statespace.SARIMAX(endog, order=(p,0,q), seasonal_order=(P,0,Q,s), trend='c')\n",
    "model = VARMAX(endog = df, order=(p,q), trend='c')\n"
   ],
   "metadata": {
    "collapsed": false
   }
  },
  {
   "cell_type": "code",
   "execution_count": 137,
   "outputs": [
    {
     "name": "stderr",
     "output_type": "stream",
     "text": [
      "/opt/anaconda3/lib/python3.8/site-packages/statsmodels/base/model.py:566: ConvergenceWarning: Maximum Likelihood optimization failed to converge. Check mle_retvals\n",
      "  warnings.warn(\"Maximum Likelihood optimization failed to \"\n"
     ]
    },
    {
     "name": "stdout",
     "output_type": "stream",
     "text": [
      "                           Statespace Model Results                           \n",
      "==============================================================================\n",
      "Dep. Variable:       ['rgnp', 'pgnp']   No. Observations:                  123\n",
      "Model:                    VARMAX(2,2)   Log Likelihood               -1157.021\n",
      "                          + intercept   AIC                           2380.043\n",
      "Date:                Fri, 17 Feb 2023   BIC                           2472.845\n",
      "Time:                        12:26:13   HQIC                          2417.739\n",
      "Sample:                    04-01-1956                                         \n",
      "                         - 10-01-1986                                         \n",
      "Covariance Type:                  opg                                         \n",
      "===================================================================================\n",
      "Ljung-Box (L1) (Q):             3.48, 1.26   Jarque-Bera (JB):           2.55, 8.52\n",
      "Prob(Q):                        0.06, 0.26   Prob(JB):                   0.28, 0.01\n",
      "Heteroskedasticity (H):         1.59, 2.62   Skew:                      -0.18, 0.09\n",
      "Prob(H) (two-sided):            0.14, 0.00   Kurtosis:                   3.61, 4.28\n",
      "                          Results for equation rgnp                           \n",
      "==============================================================================\n",
      "                 coef    std err          z      P>|z|      [0.025      0.975]\n",
      "------------------------------------------------------------------------------\n",
      "intercept     66.1414    730.710      0.091      0.928   -1366.024    1498.307\n",
      "L1.rgnp        1.2712      5.416      0.235      0.814      -9.344      11.886\n",
      "L1.pgnp        0.1464      5.527      0.026      0.979     -10.687      10.980\n",
      "L2.rgnp       -0.3984      4.747     -0.084      0.933      -9.701       8.905\n",
      "L2.pgnp       -0.1670      4.904     -0.034      0.973      -9.779       9.445\n",
      "L1.e(rgnp)    -0.3156      5.394     -0.059      0.953     -10.888      10.257\n",
      "L1.e(pgnp)     1.0253      4.960      0.207      0.836      -8.696      10.746\n",
      "L2.e(rgnp)     0.3175      1.283      0.247      0.805      -2.198       2.833\n",
      "L2.e(pgnp)    -0.1912      3.175     -0.060      0.952      -6.414       6.032\n",
      "beta.ulc       0.1699     39.149      0.004      0.997     -76.560      76.900\n",
      "beta.gdfco   -21.5228     62.213     -0.346      0.729    -143.457     100.412\n",
      "beta.gdf      29.9863    118.038      0.254      0.799    -201.363     261.336\n",
      "beta.gdfim     2.0858     26.094      0.080      0.936     -49.057      53.228\n",
      "beta.gdfcf    -0.9603     60.472     -0.016      0.987    -119.484     117.563\n",
      "beta.gdfce    -5.4998     16.775     -0.328      0.743     -38.378      27.378\n",
      "                          Results for equation pgnp                           \n",
      "==============================================================================\n",
      "                 coef    std err          z      P>|z|      [0.025      0.975]\n",
      "------------------------------------------------------------------------------\n",
      "intercept     88.9109    728.756      0.122      0.903   -1339.425    1517.247\n",
      "L1.rgnp        0.0004      5.313   8.23e-05      1.000     -10.413      10.414\n",
      "L1.pgnp        1.3485      6.361      0.212      0.832     -11.120      13.817\n",
      "L2.rgnp        0.0206      4.654      0.004      0.996      -9.101       9.143\n",
      "L2.pgnp       -0.5490      5.787     -0.095      0.924     -11.892      10.794\n",
      "L1.e(rgnp)     0.0713      5.298      0.013      0.989     -10.312      10.455\n",
      "L1.e(pgnp)     0.6233      4.753      0.131      0.896      -8.693       9.940\n",
      "L2.e(rgnp)     0.1553      1.176      0.132      0.895      -2.150       2.461\n",
      "L2.e(pgnp)    -0.0183      3.060     -0.006      0.995      -6.015       5.979\n",
      "beta.ulc       3.5303     38.617      0.091      0.927     -72.158      79.219\n",
      "beta.gdfco   -27.6964     53.558     -0.517      0.605    -132.668      77.275\n",
      "beta.gdf      34.1492     99.918      0.342      0.733    -161.686     229.984\n",
      "beta.gdfim     2.6909     24.292      0.111      0.912     -44.921      50.303\n",
      "beta.gdfcf    -2.4173     57.579     -0.042      0.967    -115.271     110.436\n",
      "beta.gdfce    -6.6354     15.099     -0.439      0.660     -36.230      22.959\n",
      "                               Error covariance matrix                                \n",
      "======================================================================================\n",
      "                         coef    std err          z      P>|z|      [0.025      0.975]\n",
      "--------------------------------------------------------------------------------------\n",
      "sqrt.var.rgnp         58.8477     46.097      1.277      0.202     -31.500     149.195\n",
      "sqrt.cov.rgnp.pgnp    47.8930      9.258      5.173      0.000      29.748      66.038\n",
      "sqrt.var.pgnp         17.1102     13.118      1.304      0.192      -8.600      42.820\n",
      "======================================================================================\n",
      "\n",
      "Warnings:\n",
      "[1] Covariance matrix calculated using the outer product of gradients (complex-step).\n"
     ]
    },
    {
     "ename": "ValueError",
     "evalue": "Out-of-sample operations in a model with a regression component require additional exogenous values via the `exog` argument.",
     "output_type": "error",
     "traceback": [
      "\u001B[0;31m---------------------------------------------------------------------------\u001B[0m",
      "\u001B[0;31mValueError\u001B[0m                                Traceback (most recent call last)",
      "\u001B[0;32m<ipython-input-137-aa93f4d49861>\u001B[0m in \u001B[0;36m<module>\u001B[0;34m\u001B[0m\n\u001B[1;32m      6\u001B[0m \u001B[0;34m\u001B[0m\u001B[0m\n\u001B[1;32m      7\u001B[0m \u001B[0;31m# Make a forecast for the next 12 months\u001B[0m\u001B[0;34m\u001B[0m\u001B[0;34m\u001B[0m\u001B[0;34m\u001B[0m\u001B[0m\n\u001B[0;32m----> 8\u001B[0;31m \u001B[0mforecast\u001B[0m \u001B[0;34m=\u001B[0m \u001B[0mresults\u001B[0m\u001B[0;34m.\u001B[0m\u001B[0mforecast\u001B[0m\u001B[0;34m(\u001B[0m\u001B[0msteps\u001B[0m\u001B[0;34m=\u001B[0m\u001B[0;36m12\u001B[0m\u001B[0;34m)\u001B[0m\u001B[0;34m\u001B[0m\u001B[0;34m\u001B[0m\u001B[0m\n\u001B[0m\u001B[1;32m      9\u001B[0m \u001B[0;34m\u001B[0m\u001B[0m\n\u001B[1;32m     10\u001B[0m \u001B[0;31m# Plot the forecast\u001B[0m\u001B[0;34m\u001B[0m\u001B[0;34m\u001B[0m\u001B[0;34m\u001B[0m\u001B[0m\n",
      "\u001B[0;32m/opt/anaconda3/lib/python3.8/site-packages/statsmodels/base/wrapper.py\u001B[0m in \u001B[0;36mwrapper\u001B[0;34m(self, *args, **kwargs)\u001B[0m\n\u001B[1;32m    111\u001B[0m             \u001B[0mobj\u001B[0m \u001B[0;34m=\u001B[0m \u001B[0mdata\u001B[0m\u001B[0;34m.\u001B[0m\u001B[0mwrap_output\u001B[0m\u001B[0;34m(\u001B[0m\u001B[0mfunc\u001B[0m\u001B[0;34m(\u001B[0m\u001B[0mresults\u001B[0m\u001B[0;34m,\u001B[0m \u001B[0;34m*\u001B[0m\u001B[0margs\u001B[0m\u001B[0;34m,\u001B[0m \u001B[0;34m**\u001B[0m\u001B[0mkwargs\u001B[0m\u001B[0;34m)\u001B[0m\u001B[0;34m,\u001B[0m \u001B[0mhow\u001B[0m\u001B[0;34m[\u001B[0m\u001B[0;36m0\u001B[0m\u001B[0;34m]\u001B[0m\u001B[0;34m,\u001B[0m \u001B[0mhow\u001B[0m\u001B[0;34m[\u001B[0m\u001B[0;36m1\u001B[0m\u001B[0;34m:\u001B[0m\u001B[0;34m]\u001B[0m\u001B[0;34m)\u001B[0m\u001B[0;34m\u001B[0m\u001B[0;34m\u001B[0m\u001B[0m\n\u001B[1;32m    112\u001B[0m         \u001B[0;32melif\u001B[0m \u001B[0mhow\u001B[0m\u001B[0;34m:\u001B[0m\u001B[0;34m\u001B[0m\u001B[0;34m\u001B[0m\u001B[0m\n\u001B[0;32m--> 113\u001B[0;31m             \u001B[0mobj\u001B[0m \u001B[0;34m=\u001B[0m \u001B[0mdata\u001B[0m\u001B[0;34m.\u001B[0m\u001B[0mwrap_output\u001B[0m\u001B[0;34m(\u001B[0m\u001B[0mfunc\u001B[0m\u001B[0;34m(\u001B[0m\u001B[0mresults\u001B[0m\u001B[0;34m,\u001B[0m \u001B[0;34m*\u001B[0m\u001B[0margs\u001B[0m\u001B[0;34m,\u001B[0m \u001B[0;34m**\u001B[0m\u001B[0mkwargs\u001B[0m\u001B[0;34m)\u001B[0m\u001B[0;34m,\u001B[0m \u001B[0mhow\u001B[0m\u001B[0;34m)\u001B[0m\u001B[0;34m\u001B[0m\u001B[0;34m\u001B[0m\u001B[0m\n\u001B[0m\u001B[1;32m    114\u001B[0m         \u001B[0;32mreturn\u001B[0m \u001B[0mobj\u001B[0m\u001B[0;34m\u001B[0m\u001B[0;34m\u001B[0m\u001B[0m\n\u001B[1;32m    115\u001B[0m \u001B[0;34m\u001B[0m\u001B[0m\n",
      "\u001B[0;32m/opt/anaconda3/lib/python3.8/site-packages/statsmodels/tsa/statespace/mlemodel.py\u001B[0m in \u001B[0;36mforecast\u001B[0;34m(self, steps, **kwargs)\u001B[0m\n\u001B[1;32m   3414\u001B[0m         \u001B[0;32melse\u001B[0m\u001B[0;34m:\u001B[0m\u001B[0;34m\u001B[0m\u001B[0;34m\u001B[0m\u001B[0m\n\u001B[1;32m   3415\u001B[0m             \u001B[0mend\u001B[0m \u001B[0;34m=\u001B[0m \u001B[0msteps\u001B[0m\u001B[0;34m\u001B[0m\u001B[0;34m\u001B[0m\u001B[0m\n\u001B[0;32m-> 3416\u001B[0;31m         \u001B[0;32mreturn\u001B[0m \u001B[0mself\u001B[0m\u001B[0;34m.\u001B[0m\u001B[0mpredict\u001B[0m\u001B[0;34m(\u001B[0m\u001B[0mstart\u001B[0m\u001B[0;34m=\u001B[0m\u001B[0mself\u001B[0m\u001B[0;34m.\u001B[0m\u001B[0mnobs\u001B[0m\u001B[0;34m,\u001B[0m \u001B[0mend\u001B[0m\u001B[0;34m=\u001B[0m\u001B[0mend\u001B[0m\u001B[0;34m,\u001B[0m \u001B[0;34m**\u001B[0m\u001B[0mkwargs\u001B[0m\u001B[0;34m)\u001B[0m\u001B[0;34m\u001B[0m\u001B[0;34m\u001B[0m\u001B[0m\n\u001B[0m\u001B[1;32m   3417\u001B[0m \u001B[0;34m\u001B[0m\u001B[0m\n\u001B[1;32m   3418\u001B[0m     def simulate(self, nsimulations, measurement_shocks=None,\n",
      "\u001B[0;32m/opt/anaconda3/lib/python3.8/site-packages/statsmodels/tsa/statespace/mlemodel.py\u001B[0m in \u001B[0;36mpredict\u001B[0;34m(self, start, end, dynamic, **kwargs)\u001B[0m\n\u001B[1;32m   3386\u001B[0m         \"\"\"\n\u001B[1;32m   3387\u001B[0m         \u001B[0;31m# Perform the prediction\u001B[0m\u001B[0;34m\u001B[0m\u001B[0;34m\u001B[0m\u001B[0;34m\u001B[0m\u001B[0m\n\u001B[0;32m-> 3388\u001B[0;31m         \u001B[0mprediction_results\u001B[0m \u001B[0;34m=\u001B[0m \u001B[0mself\u001B[0m\u001B[0;34m.\u001B[0m\u001B[0mget_prediction\u001B[0m\u001B[0;34m(\u001B[0m\u001B[0mstart\u001B[0m\u001B[0;34m,\u001B[0m \u001B[0mend\u001B[0m\u001B[0;34m,\u001B[0m \u001B[0mdynamic\u001B[0m\u001B[0;34m,\u001B[0m \u001B[0;34m**\u001B[0m\u001B[0mkwargs\u001B[0m\u001B[0;34m)\u001B[0m\u001B[0;34m\u001B[0m\u001B[0;34m\u001B[0m\u001B[0m\n\u001B[0m\u001B[1;32m   3389\u001B[0m         \u001B[0;32mreturn\u001B[0m \u001B[0mprediction_results\u001B[0m\u001B[0;34m.\u001B[0m\u001B[0mpredicted_mean\u001B[0m\u001B[0;34m\u001B[0m\u001B[0;34m\u001B[0m\u001B[0m\n\u001B[1;32m   3390\u001B[0m \u001B[0;34m\u001B[0m\u001B[0m\n",
      "\u001B[0;32m/opt/anaconda3/lib/python3.8/site-packages/statsmodels/tsa/statespace/varmax.py\u001B[0m in \u001B[0;36mget_prediction\u001B[0;34m(self, start, end, dynamic, index, exog, **kwargs)\u001B[0m\n\u001B[1;32m    979\u001B[0m \u001B[0;34m\u001B[0m\u001B[0m\n\u001B[1;32m    980\u001B[0m         \u001B[0;31m# Normalize `exog`\u001B[0m\u001B[0;34m\u001B[0m\u001B[0;34m\u001B[0m\u001B[0;34m\u001B[0m\u001B[0m\n\u001B[0;32m--> 981\u001B[0;31m         \u001B[0mexog\u001B[0m \u001B[0;34m=\u001B[0m \u001B[0mself\u001B[0m\u001B[0;34m.\u001B[0m\u001B[0mmodel\u001B[0m\u001B[0;34m.\u001B[0m\u001B[0m_validate_out_of_sample_exog\u001B[0m\u001B[0;34m(\u001B[0m\u001B[0mexog\u001B[0m\u001B[0;34m,\u001B[0m \u001B[0mout_of_sample\u001B[0m\u001B[0;34m)\u001B[0m\u001B[0;34m\u001B[0m\u001B[0;34m\u001B[0m\u001B[0m\n\u001B[0m\u001B[1;32m    982\u001B[0m \u001B[0;34m\u001B[0m\u001B[0m\n\u001B[1;32m    983\u001B[0m         \u001B[0;31m# Handle trend offset for extended model\u001B[0m\u001B[0;34m\u001B[0m\u001B[0;34m\u001B[0m\u001B[0;34m\u001B[0m\u001B[0m\n",
      "\u001B[0;32m/opt/anaconda3/lib/python3.8/site-packages/statsmodels/tsa/statespace/mlemodel.py\u001B[0m in \u001B[0;36m_validate_out_of_sample_exog\u001B[0;34m(self, exog, out_of_sample)\u001B[0m\n\u001B[1;32m   1749\u001B[0m         \u001B[0;32mif\u001B[0m \u001B[0mout_of_sample\u001B[0m \u001B[0;32mand\u001B[0m \u001B[0mself\u001B[0m\u001B[0;34m.\u001B[0m\u001B[0mk_exog\u001B[0m \u001B[0;34m>\u001B[0m \u001B[0;36m0\u001B[0m\u001B[0;34m:\u001B[0m\u001B[0;34m\u001B[0m\u001B[0;34m\u001B[0m\u001B[0m\n\u001B[1;32m   1750\u001B[0m             \u001B[0;32mif\u001B[0m \u001B[0mexog\u001B[0m \u001B[0;32mis\u001B[0m \u001B[0;32mNone\u001B[0m\u001B[0;34m:\u001B[0m\u001B[0;34m\u001B[0m\u001B[0;34m\u001B[0m\u001B[0m\n\u001B[0;32m-> 1751\u001B[0;31m                 raise ValueError('Out-of-sample operations in a model'\n\u001B[0m\u001B[1;32m   1752\u001B[0m                                  \u001B[0;34m' with a regression component require'\u001B[0m\u001B[0;34m\u001B[0m\u001B[0;34m\u001B[0m\u001B[0m\n\u001B[1;32m   1753\u001B[0m                                  \u001B[0;34m' additional exogenous values via the'\u001B[0m\u001B[0;34m\u001B[0m\u001B[0;34m\u001B[0m\u001B[0m\n",
      "\u001B[0;31mValueError\u001B[0m: Out-of-sample operations in a model with a regression component require additional exogenous values via the `exog` argument."
     ]
    }
   ],
   "source": [
    "\n",
    "# Fit the model to the data\n",
    "results = model.fit()\n",
    "\n",
    "# Print the model summary\n",
    "print(results.summary())\n",
    "\n",
    "# Make a forecast for the next 12 months\n",
    "forecast = results.forecast(steps=12)\n",
    "\n",
    "# Plot the forecast\n",
    "data.plot()\n",
    "forecast.plot()\n",
    "plt.show()"
   ],
   "metadata": {
    "collapsed": false
   }
  },
  {
   "cell_type": "code",
   "execution_count": null,
   "outputs": [],
   "source": [],
   "metadata": {
    "collapsed": false,
    "pycharm": {
     "is_executing": true
    }
   }
  },
  {
   "cell_type": "code",
   "execution_count": null,
   "outputs": [],
   "source": [],
   "metadata": {
    "collapsed": false
   }
  }
 ],
 "metadata": {
  "kernelspec": {
   "display_name": "Python 3",
   "language": "python",
   "name": "python3"
  },
  "language_info": {
   "codemirror_mode": {
    "name": "ipython",
    "version": 2
   },
   "file_extension": ".py",
   "mimetype": "text/x-python",
   "name": "python",
   "nbconvert_exporter": "python",
   "pygments_lexer": "ipython2",
   "version": "2.7.6"
  }
 },
 "nbformat": 4,
 "nbformat_minor": 0
}
