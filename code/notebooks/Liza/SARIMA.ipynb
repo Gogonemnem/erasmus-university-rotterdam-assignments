{
 "cells": [
  {
   "cell_type": "markdown",
   "source": [
    "Functions"
   ],
   "metadata": {
    "collapsed": false
   }
  },
  {
   "cell_type": "code",
   "execution_count": 281,
   "outputs": [],
   "source": [
    "#Function to test for stationarity\n",
    "def adfuller_test(series, sig=0.05, name=''):\n",
    "    res = adfuller(series, autolag='AIC')\n",
    "    p_value = round(res[1], 3)\n",
    "\n",
    "    if p_value <= sig:\n",
    "        print(f\" {name} : P-Value = {p_value} => Stationary. \")\n",
    "    else:\n",
    "        print(f\" {name} : P-Value = {p_value} => Non-stationary.\")"
   ],
   "metadata": {
    "collapsed": false
   }
  },
  {
   "cell_type": "code",
   "execution_count": 282,
   "outputs": [],
   "source": [
    "#Function to split dataset based on date selected\n",
    "def train_test_split(df, enddate_train,startdate_test):\n",
    "    df_train = df[:enddate_train]\n",
    "    df_test = df[startdate_test:]\n",
    "    return df_train, df_test"
   ],
   "metadata": {
    "collapsed": false
   }
  },
  {
   "cell_type": "code",
   "execution_count": 283,
   "outputs": [],
   "source": [
    "#Function extract X and Y from dataset ADJUST which X variables we want\n",
    "def X_Y_transform(df):\n",
    "    X = df[['Corn Price Futures','OIL_PRICE $/bbl','AVG_TAVG']]\n",
    "    Y = df['price']\n",
    "    return X, Y"
   ],
   "metadata": {
    "collapsed": false
   }
  },
  {
   "cell_type": "code",
   "execution_count": 284,
   "outputs": [],
   "source": [
    "#Function SARIMAX multi step forecast\n",
    "def sarimax_forecast(history, future, config, step_size):\n",
    "    order, sorder, trend = config\n",
    "    # define model\n",
    "    X_train,Y_train = X_Y_transform(history)\n",
    "    X_test,Y_test = X_Y_transform(future)\n",
    "    model = SARIMAX(endog = Y_train, exog = X_train, order=order, seasonal_order=sorder, trend=trend, enforce_stationarity=False, enforce_invertibility=False)\n",
    "    # fit model\n",
    "    model_fit = model.fit(disp=False)\n",
    "    # multistep forecast\n",
    "    y_hat = model_fit.predict(len(history), (len(history)+step_size-1) , exog=X_test)\n",
    "    return y_hat"
   ],
   "metadata": {
    "collapsed": false
   }
  },
  {
   "cell_type": "code",
   "execution_count": 285,
   "outputs": [],
   "source": [
    "#Function Moving window for univariate data\n",
    "def moving_window(df, step, cfg):\n",
    "    print(\"Fitting the combination\", cfg)\n",
    "    predictions = []\n",
    "    history_size, step_size = step\n",
    "    history = df[:history_size]\n",
    "    future = df[history_size:(history_size+step_size)]\n",
    "\n",
    "    # step over each time-step in the test set\n",
    "    for i in range(int(math.ceil((len(df)-history_size)/6))):\n",
    "        # fit model and make forecast for history\n",
    "        if len(future) < step_size:\n",
    "            step_size = len(future)\n",
    "\n",
    "        yhat = sarimax_forecast(history, future, cfg, step_size)\n",
    "        # store forecast in list of predictions\n",
    "        if i == 0:\n",
    "            predictions = yhat\n",
    "        else:\n",
    "            predictions = predictions.append(yhat)\n",
    "        # move the history and forecast window\n",
    "        history = history.append(future)\n",
    "        history = history[step_size:]\n",
    "        future = df[(history_size+(step_size*(i+1))):(history_size+(step_size*(i+2)))]\n",
    "\n",
    "    # estimate prediction error\n",
    "    future = df[history_size:]\n",
    "    X_test,Y_test = X_Y_transform(future)\n",
    "    score = evaluation_measures(Y_test, predictions)\n",
    "    return score, predictions"
   ],
   "metadata": {
    "collapsed": false
   }
  },
  {
   "cell_type": "code",
   "execution_count": 286,
   "outputs": [],
   "source": [
    "#Function performance measures\n",
    "def evaluation_measures(actual, predicted):\n",
    "    mse = np.square(np.subtract(actual, predicted)).mean()\n",
    "    return mse"
   ],
   "metadata": {
    "collapsed": false
   }
  },
  {
   "cell_type": "code",
   "execution_count": 299,
   "outputs": [],
   "source": [
    "#Function to  create a set of sarima configs to try\n",
    "def sarima_configs(seasonal=[4]):\n",
    "    models = list()\n",
    "    # define config lists\n",
    "    p_params = [1]\n",
    "    d_params = [1]\n",
    "    q_params = [1]\n",
    "    t_params = ['n','c']\n",
    "    P_params = [1]\n",
    "    D_params = [1]\n",
    "    Q_params = [1, 2]\n",
    "    m_params = seasonal\n",
    "    # create config instances\n",
    "    for p in p_params:\n",
    "        for d in d_params:\n",
    "            for q in q_params:\n",
    "                for t in t_params:\n",
    "                     for P in P_params:\n",
    "                        for D in D_params:\n",
    "                            for Q in Q_params:\n",
    "                                for m in m_params:\n",
    "                                    cfg = [(p,d,q), (P,D,Q,m), t]\n",
    "                                    models.append(cfg)\n",
    "    return models"
   ],
   "metadata": {
    "collapsed": false
   }
  },
  {
   "cell_type": "code",
   "execution_count": 288,
   "outputs": [],
   "source": [
    "#Function run grid search configs\n",
    "def grid_search(df, cfg_list, step):\n",
    "    scores = list()\n",
    "    filterwarnings(\"ignore\")\n",
    "    best_score = np.inf\n",
    "    #best_prediction = list()\n",
    "    best_cfg = list()\n",
    "\n",
    "    for cfg in cfg_list:\n",
    "        score, prediction = moving_window(df, step, cfg)\n",
    "        scores.append(score)\n",
    "\n",
    "        if score < best_score:\n",
    "            print(\"Found an improved score\", score,\"is better than\", best_score )\n",
    "            best_score = score\n",
    "            best_cfg = cfg\n",
    "            #best_prediction = prediction\n",
    "\n",
    "    return best_cfg, best_score"
   ],
   "metadata": {
    "collapsed": false
   }
  },
  {
   "cell_type": "code",
   "execution_count": 289,
   "outputs": [],
   "source": [
    "#Function take log of price and standardize\n",
    "def transform_data(df):\n",
    "    df.price = np.log(df.price)\n",
    "    scaler = StandardScaler()\n",
    "    all_cols = list(df.columns)\n",
    "    scaler.fit(df[all_cols])\n",
    "    df[all_cols] = scaler.transform(df[all_cols])\n",
    "    return df"
   ],
   "metadata": {
    "collapsed": false
   }
  },
  {
   "cell_type": "markdown",
   "source": [
    "Automatic main code"
   ],
   "metadata": {
    "collapsed": false
   }
  },
  {
   "cell_type": "code",
   "execution_count": 304,
   "outputs": [],
   "source": [
    "import pandas as pd\n",
    "from statsmodels.tsa.stattools import adfuller\n",
    "import numpy as np\n",
    "from warnings import filterwarnings\n",
    "import matplotlib.pyplot as plt\n",
    "from statsmodels.tsa.statespace.sarimax import SARIMAX\n",
    "import math\n",
    "from sklearn.preprocessing import StandardScaler\n",
    "from datetime import datetime"
   ],
   "metadata": {
    "collapsed": false
   }
  },
  {
   "cell_type": "code",
   "execution_count": 305,
   "outputs": [
    {
     "name": "stdout",
     "output_type": "stream",
     "text": [
      "Fitting the combination [(1, 1, 1), (1, 1, 1, 4), 'n']\n",
      "Found an improved score 1.3212412654045265 is better than inf\n",
      "Fitting the combination [(1, 1, 1), (1, 1, 2, 4), 'n']\n",
      "Fitting the combination [(1, 1, 1), (1, 1, 1, 4), 'c']\n",
      "Fitting the combination [(1, 1, 1), (1, 1, 2, 4), 'c']\n",
      "Gridsearch found with best parameters [(1, 1, 1), (1, 1, 1, 4), 'n'] with MSE equal to 1.3212412654045265\n"
     ]
    }
   ],
   "source": [
    "if __name__ == '__main__':\n",
    "    #Import data of the required product\n",
    "    df_maize = pd.read_excel('MAIZE_FILTERED_2023-02-25_19-36-41.xlsx', header=[0, 1], index_col=0) #ADJUST to product\n",
    "\n",
    "    #Select which country dataset you want to forcast\n",
    "    #variable_list = list(df_maize.columns.levels[0])\n",
    "    #country_list = list(df_maize.columns.levels[1])\n",
    "    country = 'France'\n",
    "    df = df_maize.xs(country, axis = 1, level =1 , drop_level=True) #ADJUST to country\n",
    "\n",
    "    #split the data in test and train\n",
    "    enddate_train = \"2022-04-01\"\n",
    "    startdate_test = \"2019-11-01\"\n",
    "    df_train_unedited, df_test_unedited = train_test_split(df, enddate_train,startdate_test )\n",
    "\n",
    "    #take log price and standardize the data\n",
    "    df_train = transform_data(df_train_unedited)\n",
    "    df_test = transform_data(df_test_unedited)\n",
    "\n",
    "    # model configs\n",
    "    cfg_list = sarima_configs()\n",
    "    step = [24,6] #history horizon and multistepforecast\n",
    "\n",
    "    # grid search on train dataset with minimum MSE\n",
    "    best_cfg, lowest_score = grid_search(df_train, cfg_list,step)\n",
    "    print('Gridsearch found with best parameters', best_cfg, \"with MSE equal to\", lowest_score )"
   ],
   "metadata": {
    "collapsed": false
   }
  },
  {
   "cell_type": "code",
   "execution_count": 306,
   "outputs": [
    {
     "name": "stdout",
     "output_type": "stream",
     "text": [
      "Fitting the combination [(1, 1, 1), (1, 1, 1, 4), 'n']\n"
     ]
    }
   ],
   "source": [
    "#Run test set\n",
    "score_test, predictions_test = moving_window(df_test, step, best_cfg)"
   ],
   "metadata": {
    "collapsed": false
   }
  },
  {
   "cell_type": "code",
   "execution_count": null,
   "outputs": [],
   "source": [
    "#Export the values\n",
    "now = datetime.now().strftime('%Y-%m-%d_%H-%M-%S')\n",
    "filename = f'{country}_SARIMAXpredictions_{now}.xlsx'\n",
    "predictions_test.to_excel(filename, index=True)"
   ],
   "metadata": {
    "collapsed": false
   }
  },
  {
   "cell_type": "code",
   "execution_count": 307,
   "outputs": [
    {
     "data": {
      "text/plain": "<Figure size 432x288 with 1 Axes>",
      "image/png": "[encoded data removed]"
     },
     "metadata": {
      "needs_background": "light"
     },
     "output_type": "display_data"
    },
    {
     "data": {
      "text/plain": "<Figure size 432x288 with 1 Axes>",
      "image/png": "[encoded data removed]"
     },
     "metadata": {
      "needs_background": "light"
     },
     "output_type": "display_data"
    }
   ],
   "source": [
    "#Visulaize the results\n",
    "\n",
    "#plot only forcast horizon\n",
    "plt.plot(df_test.price[step[0]:],label='True values')\n",
    "plt.plot(predictions_test,label='Forecasted values')\n",
    "plt.legend()\n",
    "plt.show()\n",
    "\n",
    "#plot on full period\n",
    "trueprices = df.price\n",
    "forecasted_prices = trueprices[:len(trueprices)-len(predictions_test)]\n",
    "forecasted_prices = forecasted_prices.append(predictions_test)\n",
    "\n",
    "plt.plot(forecasted_prices,label='Forecasted values')\n",
    "plt.plot(trueprices,label='True values')\n",
    "plt.legend()\n",
    "plt.show()"
   ],
   "metadata": {
    "collapsed": false
   }
  },
  {
   "cell_type": "code",
   "execution_count": null,
   "outputs": [],
   "source": [],
   "metadata": {
    "collapsed": false
   }
  }
 ],
 "metadata": {
  "kernelspec": {
   "display_name": "Python 3",
   "language": "python",
   "name": "python3"
  },
  "language_info": {
   "codemirror_mode": {
    "name": "ipython",
    "version": 2
   },
   "file_extension": ".py",
   "mimetype": "text/x-python",
   "name": "python",
   "nbconvert_exporter": "python",
   "pygments_lexer": "ipython2",
   "version": "2.7.6"
  }
 },
 "nbformat": 4,
 "nbformat_minor": 0
}
