{
 "cells": [
  {
   "cell_type": "markdown",
   "source": [
    "Real data input"
   ],
   "metadata": {
    "collapsed": false
   }
  },
  {
   "cell_type": "code",
   "execution_count": null,
   "metadata": {
    "collapsed": true,
    "pycharm": {
     "is_executing": true
    }
   },
   "outputs": [],
   "source": [
    "import pandas as pd\n",
    "import datetime\n",
    "\n",
    "def process_csv(filepath, product_index):\n",
    "    trade_data = pd.read_csv(filepath)\n",
    "\n",
    "    trade_data[\"TIME_PERIOD\"] = pd.to_datetime(trade_data[\"TIME_PERIOD\"], format = '%Y-%m').dt.date\n",
    "    trade_data = trade_data.rename(columns={\"partner\": \"PARTNER_codes\", \"declarant\": \"DECLARANT_codes\"})\n",
    "    trade_data = trade_data.drop_duplicates()\n",
    "    #trade_data = trade_data.dropna()\n",
    "\n",
    "    products = trade_data[\"product\"].drop_duplicates().to_list()\n",
    "    product_filter = products[product_index]\n",
    "\n",
    "    partner_countries = pd.read_csv(\"trade_data/partners.csv\", sep = \";\")\n",
    "\n",
    "    trade_data = pd.merge(trade_data, partner_countries, on = ['PARTNER_codes'], how = 'inner')\n",
    "\n",
    "    trade_data_pivot = trade_data.pivot(index=['PARTNER_Labels', 'TIME_PERIOD', 'product'],\n",
    "                                        columns='indicators',\n",
    "                                        values=['OBS_VALUE'])\n",
    "\n",
    "    trade_data_pivot.columns = trade_data_pivot.columns.map('_'.join)\n",
    "    trade_data_pivot = trade_data_pivot.reset_index()\n",
    "    trade_data_pivot = trade_data_pivot.dropna()\n",
    "\n",
    "    df = trade_data_pivot\n",
    "    df_product_filtered = df[df['product'] == product_filter]\n",
    "\n",
    "    return df_product_filtered\n",
    "\n",
    "#Declare DataFrames for all good/productcode combinations\n",
    "df_sunflower_oil_0 = process_csv(\"trade_data/sunflower_oil.csv\", 0)\n",
    "df_sunflower_oil_1 = process_csv(\"trade_data/sunflower_oil.csv\", 1)\n",
    "df_maize_corn_0 = process_csv(\"trade_data/maize_corn.csv\", 0)\n",
    "df_wheat_0 = process_csv(\"trade_data/wheat.csv\", 0)\n",
    "df_wheat_1 = process_csv(\"trade_data/wheat.csv\", 1)\n",
    "df_wheat_2 = process_csv(\"trade_data/wheat.csv\", 2)"
   ]
  },
  {
   "cell_type": "markdown",
   "source": [
    "Univariate series (test) data input with n-steps"
   ],
   "metadata": {
    "collapsed": false
   }
  },
  {
   "cell_type": "code",
   "execution_count": 1,
   "outputs": [],
   "source": [
    "# Import packages\n",
    "from numpy import array"
   ],
   "metadata": {
    "collapsed": false
   }
  },
  {
   "cell_type": "code",
   "execution_count": 6,
   "outputs": [],
   "source": [
    "# split a univariate sequence into samples\n",
    "def split_sequence(sequence, n_steps):\n",
    "    X = list()\n",
    "    for i in range(len(sequence)):\n",
    "        #find the end of this pattern\n",
    "        end_ix = i + n_steps\n",
    "        # check if we are beyond the sequence\n",
    "        if end_ix > len(sequence)-1:\n",
    "            break\n",
    "        # gather input and output parts of the pattern\n",
    "        seq_x = sequence[i:end_ix]\n",
    "        X.append(seq_x)\n",
    "    return array(X)"
   ],
   "metadata": {
    "collapsed": false
   }
  },
  {
   "cell_type": "code",
   "execution_count": 11,
   "outputs": [
    {
     "name": "stdout",
     "output_type": "stream",
     "text": [
      "[[10 20 30]\n",
      " [20 30 40]\n",
      " [30 40 50]\n",
      " [40 50 60]\n",
      " [50 60 70]\n",
      " [60 70 80]]\n"
     ]
    }
   ],
   "source": [
    "# define input sequence\n",
    "raw_seq = [10, 20, 30, 40, 50, 60, 70, 80, 90]\n",
    "# choose a number of time steps\n",
    "n_steps = 3\n",
    "# split into samples\n",
    "X = split_sequence(raw_seq, n_steps)\n",
    "# summarize the data\n",
    "print(X)"
   ],
   "metadata": {
    "collapsed": false
   }
  },
  {
   "cell_type": "code",
   "execution_count": 22,
   "outputs": [],
   "source": [
    "# split a multivariate sequence into samples\n",
    "def split_sequences(sequences, n_steps):\n",
    "    X = list()\n",
    "    for i in range(np.shape(sequences)[1]):\n",
    "        # find the end of this pattern\n",
    "        end_ix = i + n_steps\n",
    "        # check if we are beyond the dataset\n",
    "        if end_ix > np.shape(sequences)[1]:\n",
    "            break\n",
    "        # gather input and output parts of the pattern\n",
    "        bag_x= sequences[:,i:end_ix]\n",
    "        X.append(bag_x)\n",
    "    return array(X)"
   ],
   "metadata": {
    "collapsed": false
   }
  },
  {
   "cell_type": "code",
   "execution_count": 23,
   "outputs": [
    {
     "name": "stdout",
     "output_type": "stream",
     "text": [
      "[[8 2 4 2 3 9 3 3 1 9]\n",
      " [6 8 7 4 7 5 2 4 9 2]\n",
      " [6 5 3 1 3 9 5 6 7 2]]\n",
      "[[[8 2 4]\n",
      "  [6 8 7]\n",
      "  [6 5 3]]\n",
      "\n",
      " [[2 4 2]\n",
      "  [8 7 4]\n",
      "  [5 3 1]]\n",
      "\n",
      " [[4 2 3]\n",
      "  [7 4 7]\n",
      "  [3 1 3]]\n",
      "\n",
      " [[2 3 9]\n",
      "  [4 7 5]\n",
      "  [1 3 9]]\n",
      "\n",
      " [[3 9 3]\n",
      "  [7 5 2]\n",
      "  [3 9 5]]\n",
      "\n",
      " [[9 3 3]\n",
      "  [5 2 4]\n",
      "  [9 5 6]]\n",
      "\n",
      " [[3 3 1]\n",
      "  [2 4 9]\n",
      "  [5 6 7]]\n",
      "\n",
      " [[3 1 9]\n",
      "  [4 9 2]\n",
      "  [6 7 2]]]\n"
     ]
    }
   ],
   "source": [
    "import numpy as np\n",
    "# define input sequence\n",
    "A = np.random.randint(1,10,size = (3,10))\n",
    "# choose a number of time steps\n",
    "n_steps = 3\n",
    "print(A)\n",
    "# split into samples\n",
    "X = split_sequences(A, n_steps)\n",
    "# summarize the data\n",
    "print(X)"
   ],
   "metadata": {
    "collapsed": false
   }
  }
 ],
 "metadata": {
  "kernelspec": {
   "display_name": "Python 3",
   "language": "python",
   "name": "python3"
  },
  "language_info": {
   "codemirror_mode": {
    "name": "ipython",
    "version": 2
   },
   "file_extension": ".py",
   "mimetype": "text/x-python",
   "name": "python",
   "nbconvert_exporter": "python",
   "pygments_lexer": "ipython2",
   "version": "2.7.6"
  }
 },
 "nbformat": 4,
 "nbformat_minor": 0
}
