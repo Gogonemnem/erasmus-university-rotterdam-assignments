{
 "cells": [
  {
   "cell_type": "code",
   "execution_count": 1,
   "metadata": {},
   "outputs": [],
   "source": [
    "from typing import Union\n",
    "\n",
    "import numpy as np\n",
    "import pandas as pd\n",
    "from scipy.stats import norm"
   ]
  },
  {
   "cell_type": "code",
   "execution_count": 2,
   "metadata": {},
   "outputs": [],
   "source": [
    "np.random.seed(0) # set random seed\n",
    "\n",
    "nos = 50000            # number of valid simulations \n",
    "nob = 10000             # number of burn-in \n",
    "nod = 1                # consider every nod-th draw (thin value) \n",
    "simulations = nod*nos+nob\n",
    "\n",
    "beta_lb = 1\n",
    "beta = np.array([0, 1.5, 0, 0])\n",
    "nop = 5"
   ]
  },
  {
   "cell_type": "code",
   "execution_count": 3,
   "metadata": {},
   "outputs": [],
   "source": [
    "def load_data(nr=2, data_folder='data', vars=None):\n",
    "    if vars is None:\n",
    "        vars = ['sales', 'displ', 'coupon', 'price']\n",
    "\n",
    "    data = {var: pd.read_excel(f'{data_folder}/{var}.xls')[f'brand{nr}'] for var in vars}\n",
    "    df = pd.concat(data, axis = 1)\n",
    "\n",
    "    df['logsales'] = np.log(df['sales'])\n",
    "    df['logprice'] = np.log(df['price'])\n",
    "    df['const'] = 1\n",
    "\n",
    "    return df"
   ]
  },
  {
   "cell_type": "code",
   "execution_count": 4,
   "metadata": {},
   "outputs": [],
   "source": [
    "def sigma_conditional(beta, y, X):\n",
    "    res = y - X @ beta                  # residuals\n",
    "    u = np.random.normal(size=len(y))   # random draws\n",
    "    sigma2 = res.T @ res / (u.T @ u)    # simulate sigma^2\n",
    "    return sigma2\n"
   ]
  },
  {
   "cell_type": "code",
   "execution_count": 5,
   "metadata": {},
   "outputs": [],
   "source": [
    "def beta_conditional(sigma2, y, X):\n",
    "    bcov = np.linalg.inv(X.T @ X)               # (X'X)^{-1}\n",
    "    bhat = bcov @ X.T @ y                       # OLS estimate\n",
    "    stdev = np.linalg.cholesky(sigma2 * bcov)   # Sigma^{-1/2}\n",
    "    \n",
    "\n",
    "    beta = bhat + stdev @ np.random.normal(size=bhat.size) # simulate beta\n",
    "    return beta\n"
   ]
  },
  {
   "cell_type": "code",
   "execution_count": 6,
   "metadata": {},
   "outputs": [],
   "source": [
    "def restric_beta_conditional(sigma2, y, X, lb: Union[int, float]=None, ub: Union[int, float]=None):\n",
    "    bcov = np.linalg.inv(X.T @ X)[0][0]              # (X'X)^{-1}\n",
    "    bhat = bcov * X.T @ y                       # OLS estimate\n",
    "    stdev = np.sqrt(sigma2 * bcov)   # Sigma^{-1/2}\n",
    "    \n",
    "    if (lb is not None or ub is not None) and bhat.size != 1:\n",
    "        raise Exception('Only one restricted parameter at a time.')\n",
    "\n",
    "    min = norm.cdf((lb - bhat) / stdev) if lb is not None else 0\n",
    "    max = norm.cdf((ub - bhat) / stdev) if ub is not None else 1\n",
    "\n",
    "    beta = bhat + stdev * norm.ppf(min + (max - min) * np.random.uniform())\n",
    "\n",
    "    return beta"
   ]
  },
  {
   "cell_type": "code",
   "execution_count": 7,
   "metadata": {},
   "outputs": [],
   "source": [
    "def sample_param(df, beta, sigma2):\n",
    "    mask = np.ones(beta.shape, bool)\n",
    "    mask[1] = False\n",
    "\n",
    "    y = df['logsales']\n",
    "    X = df[['const', 'displ', 'coupon', 'logprice']]\n",
    "    sigma2 = sigma_conditional(beta, y, X)\n",
    "\n",
    "    y = df['logsales'] - beta[1] * df['displ']\n",
    "    X = df[['const', 'coupon', 'logprice']]\n",
    "    beta[mask] = beta_conditional(sigma2, y, X)\n",
    "\n",
    "    y = df['logsales'] - (beta[0] * df['const'] + beta[2] * df['coupon'] + beta[3] * df['logprice']) \n",
    "    X = df[['displ']]\n",
    "    beta[~mask] = restric_beta_conditional(sigma2, y, X, lb=beta_lb)\n",
    "\n",
    "    return beta, sigma2"
   ]
  },
  {
   "cell_type": "code",
   "execution_count": 8,
   "metadata": {},
   "outputs": [],
   "source": [
    "def get_draws(nr, beta=None, sigma2 = 1):\n",
    "    if beta is None:\n",
    "        beta=np.array([0, 1.5, 0, 0])\n",
    "        \n",
    "    df = load_data(nr)\n",
    "    drawpar = np.zeros((simulations, nop))\n",
    "\n",
    "    for i in range(simulations):\n",
    "        print(i) if i % 1000 == 0 else None\n",
    "        beta, sigma2 = sample_param(df, beta, sigma2)\n",
    "        drawpar[i] = [*beta, sigma2]\n",
    "    \n",
    "    # remove bur-in draws and apply thinning\n",
    "    drawpar = drawpar[nob:]\n",
    "    drawpar = drawpar[range(0,nos*nod,nod)]\n",
    "    \n",
    "    return drawpar\n"
   ]
  },
  {
   "cell_type": "code",
   "execution_count": 9,
   "metadata": {},
   "outputs": [],
   "source": [
    "def statistics(draws):\n",
    "    median = np.median(draws, axis=0)\n",
    "    tenp = np.percentile(draws, 10, axis=0)\n",
    "    ninetyp = np.percentile(draws, 90, axis=0)\n",
    "\n",
    "    stats = [tenp, median, ninetyp]\n",
    "    return stats"
   ]
  },
  {
   "cell_type": "code",
   "execution_count": 10,
   "metadata": {},
   "outputs": [],
   "source": [
    "def get_answers(nr):\n",
    "    ans = ['', '', '', '', nr, beta_lb, 'Python 3', simulations, nob, nod]\n",
    "    draws = get_draws(nr) # beta=beta\n",
    "    stats = statistics(draws)\n",
    "    for i in range(nop):\n",
    "        for stat in stats:\n",
    "            ans.append(stat[i])\n",
    "\n",
    "    ans.append(np.mean(np.log(draws[:, 4])))\n",
    "    return ans"
   ]
  },
  {
   "cell_type": "code",
   "execution_count": 11,
   "metadata": {},
   "outputs": [],
   "source": [
    "import csv\n",
    "import pdfrw\n",
    "\n",
    "ANNOT_KEY = '/Annots'\n",
    "ANNOT_FIELD_KEY = '/T'\n",
    "ANNOT_VAL_KEY = '/V'\n",
    "ANNOT_RECT_KEY = '/Rect'\n",
    "SUBTYPE_KEY = '/Subtype'\n",
    "WIDGET_SUBTYPE_KEY = '/Widget'\n",
    "\n",
    "template = \"answeringsheet.pdf\"\n",
    "\n",
    "def fill(nr, ans):\n",
    "        iter_ans = iter(ans)\n",
    "        template_pdf = pdfrw.PdfReader(template)\n",
    "\n",
    "        for page in template_pdf.pages:\n",
    "            annotations = page[ANNOT_KEY]\n",
    "            for annotation in annotations:\n",
    "                if annotation[SUBTYPE_KEY] == WIDGET_SUBTYPE_KEY:\n",
    "                    if annotation[ANNOT_FIELD_KEY]:\n",
    "                        key = annotation[ANNOT_FIELD_KEY][1:-1]\n",
    "                        # print(key)\n",
    "                        # print(next(reader))\n",
    "                        annotation.update(\n",
    "                                    pdfrw.PdfDict(V='{}'.format(next(iter_ans, '')))\n",
    "                                )\n",
    "                        annotation.update(pdfrw.PdfDict(AP=''))\n",
    "        template_pdf.Root.AcroForm.update(pdfrw.PdfDict(NeedAppearances=pdfrw.PdfObject('true')))\n",
    "        pdfrw.PdfWriter().write(f\"./answers/answeringsheet{nr}.pdf\", template_pdf)"
   ]
  },
  {
   "cell_type": "code",
   "execution_count": 69,
   "metadata": {},
   "outputs": [
    {
     "name": "stdout",
     "output_type": "stream",
     "text": [
      "0\n",
      "1000\n",
      "2000\n",
      "3000\n",
      "4000\n",
      "5000\n",
      "6000\n",
      "7000\n",
      "8000\n",
      "9000\n",
      "10000\n",
      "11000\n",
      "12000\n",
      "13000\n",
      "14000\n",
      "15000\n",
      "16000\n",
      "17000\n",
      "18000\n",
      "19000\n",
      "20000\n",
      "21000\n",
      "22000\n",
      "23000\n",
      "24000\n",
      "25000\n",
      "26000\n",
      "27000\n",
      "28000\n",
      "29000\n",
      "30000\n",
      "31000\n",
      "32000\n",
      "33000\n",
      "34000\n",
      "35000\n",
      "36000\n",
      "37000\n",
      "38000\n",
      "39000\n",
      "40000\n",
      "41000\n",
      "42000\n",
      "43000\n",
      "44000\n",
      "45000\n",
      "46000\n",
      "47000\n",
      "48000\n",
      "49000\n",
      "50000\n",
      "51000\n",
      "52000\n",
      "53000\n",
      "54000\n",
      "55000\n",
      "56000\n",
      "57000\n",
      "58000\n",
      "59000\n"
     ]
    }
   ],
   "source": [
    "draws = get_draws(2)"
   ]
  },
  {
   "cell_type": "code",
   "execution_count": 70,
   "metadata": {},
   "outputs": [
    {
     "data": {
      "image/png": "[encoded data removed]",
      "text/plain": [
       "<Figure size 640x480 with 1 Axes>"
      ]
     },
     "metadata": {},
     "output_type": "display_data"
    }
   ],
   "source": [
    "import matplotlib.pyplot as  plt\n",
    "from statsmodels.graphics.tsaplots import plot_acf\n",
    "\n",
    "plot_acf(draws[:,0],lags=10)\n",
    "plt.show()"
   ]
  },
  {
   "cell_type": "code",
   "execution_count": 71,
   "metadata": {},
   "outputs": [
    {
     "name": "stdout",
     "output_type": "stream",
     "text": [
      "Geweke convergence test (non-HAC variances)\n",
      "╒═════════════╤════════════╤════════════╤═════════════╤══════════════════╤════════════╕\n",
      "│ parameter   │     mean 1 │     mean 2 │      st dev │   test statistic │    p-value │\n",
      "╞═════════════╪════════════╪════════════╪═════════════╪══════════════════╪════════════╡\n",
      "│ beta0       │  3.86425   │  3.85591   │ 0.00340169  │        2.45388   │ 0.00706617 │\n",
      "├─────────────┼────────────┼────────────┼─────────────┼──────────────────┼────────────┤\n",
      "│ beta1       │  1.05102   │  1.05196   │ 0.000728048 │       -1.28613   │ 0.0991982  │\n",
      "├─────────────┼────────────┼────────────┼─────────────┼──────────────────┼────────────┤\n",
      "│ beta2       │  0.0352063 │  0.0388996 │ 0.00295804  │       -1.24857   │ 0.105912   │\n",
      "├─────────────┼────────────┼────────────┼─────────────┼──────────────────┼────────────┤\n",
      "│ beta3       │ -1.67317   │ -1.65902   │ 0.0111911   │       -1.26434   │ 0.103054   │\n",
      "├─────────────┼────────────┼────────────┼─────────────┼──────────────────┼────────────┤\n",
      "│ sigma^2     │  0.521887  │  0.521915  │ 0.00105724  │       -0.0268304 │ 0.489297   │\n",
      "╘═════════════╧════════════╧════════════╧═════════════╧══════════════════╧════════════╛\n"
     ]
    }
   ],
   "source": [
    "from proc import gewtest\n",
    "from tabulate import tabulate\n",
    "\n",
    "# Geweke test\n",
    "table=np.column_stack((['beta0', 'beta1', 'beta2', 'beta3', 'sigma^2'], gewtest(draws)))\n",
    "headers=[\"parameter\",\"mean 1\",\"mean 2\",\"st dev\",\"test statistic\",\"p-value\"]\n",
    "table = tabulate(table, headers, tablefmt=\"fancy_grid\")\n",
    "print(\"Geweke convergence test (non-HAC variances)\")\n",
    "print(table)"
   ]
  },
  {
   "cell_type": "code",
   "execution_count": 12,
   "metadata": {},
   "outputs": [
    {
     "name": "stdout",
     "output_type": "stream",
     "text": [
      "0\n",
      "1000\n",
      "2000\n",
      "3000\n",
      "4000\n",
      "5000\n",
      "6000\n",
      "7000\n",
      "8000\n",
      "9000\n",
      "10000\n",
      "11000\n",
      "12000\n",
      "13000\n",
      "14000\n",
      "15000\n",
      "16000\n",
      "17000\n",
      "18000\n",
      "19000\n",
      "20000\n",
      "21000\n",
      "22000\n",
      "23000\n",
      "24000\n",
      "25000\n",
      "26000\n",
      "27000\n",
      "28000\n",
      "29000\n",
      "30000\n",
      "31000\n",
      "32000\n",
      "33000\n",
      "34000\n"
     ]
    }
   ],
   "source": [
    "for i in range(1, 101):\n",
    "    try:\n",
    "        fill(i, get_answers(i))\n",
    "    except:\n",
    "        continue"
   ]
  },
  {
   "cell_type": "code",
   "execution_count": null,
   "metadata": {},
   "outputs": [],
   "source": []
  }
 ],
 "metadata": {
  "kernelspec": {
   "display_name": "Python 3.10.4 (conda)",
   "language": "python",
   "name": "python3"
  },
  "language_info": {
   "codemirror_mode": {
    "name": "ipython",
    "version": 3
   },
   "file_extension": ".py",
   "mimetype": "text/x-python",
   "name": "python",
   "nbconvert_exporter": "python",
   "pygments_lexer": "ipython3",
   "version": "3.10.4"
  },
  "orig_nbformat": 4,
  "vscode": {
   "interpreter": {
    "hash": "a5259dc7fe081de2dd5ed04fb974ce0779c0ff9f4696a4c8fc49c3859a4ad92e"
   }
  }
 },
 "nbformat": 4,
 "nbformat_minor": 2
}
