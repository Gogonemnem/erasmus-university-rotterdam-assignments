{
 "cells": [
  {
   "cell_type": "code",
   "execution_count": 11,
   "metadata": {},
   "outputs": [],
   "source": [
    "import numpy as np\n",
    "from sklearn.tree import DecisionTreeClassifier\n",
    "\n",
    "import utils\n"
   ]
  },
  {
   "cell_type": "code",
   "execution_count": 4,
   "metadata": {},
   "outputs": [
    {
     "name": "stdout",
     "output_type": "stream",
     "text": [
      "['test.csv', 'train.csv']\n"
     ]
    }
   ],
   "source": [
    "import os\n",
    "data_folder_path = \"./data\"\n",
    "print(os.listdir(data_folder_path))\n",
    "\n",
    "x_train, y_train, x_test = utils.load_data(data_folder_path)"
   ]
  },
  {
   "cell_type": "code",
   "execution_count": 12,
   "metadata": {},
   "outputs": [],
   "source": [
    "def cv_rf(X_train, y_train, X_valid, y_valid, h: dict):\n",
    "    c = DecisionTreeClassifier(ccp_alpha=h.get('alpha', 0.0), criterion = h.get('criterion', \"gini\"), \\\n",
    "                               max_features = h.get('max_features', \"sqrt\"), splitter=h.get('splitter', \"best\"), \\\n",
    "                               random_state = 54321) # set n_jobs to speed up by using more CPU cores\n",
    "    m = c.fit(X_train, y_train)\n",
    "    p = m.predict(X_valid)\n",
    "\n",
    "    return utils.evaluate(y_valid, p)"
   ]
  },
  {
   "cell_type": "code",
   "execution_count": 13,
   "metadata": {},
   "outputs": [],
   "source": [
    "hyperparameters = {\"alpha\": np.arange(0, 10, 0.5),\n",
    "                   \"criterion\": [\"gini\", \"entropy\", \"log_loss\"],\n",
    "                   \"splitter\": [\"best\", \"random\"],\n",
    "                   \"max_features\": [\"sqrt\", \"log2\", None]}\n"
   ]
  },
  {
   "cell_type": "code",
   "execution_count": 14,
   "metadata": {},
   "outputs": [
    {
     "name": "stdout",
     "output_type": "stream",
     "text": [
      "Training models: 360/360, with hyperparameters: {'alpha': 9.5, 'criterion': 'log_loss', 'splitter': 'random', 'max_features': None}\t\t\t\t\r"
     ]
    },
    {
     "data": {
      "text/html": [
       "<div>\n",
       "<style scoped>\n",
       "    .dataframe tbody tr th:only-of-type {\n",
       "        vertical-align: middle;\n",
       "    }\n",
       "\n",
       "    .dataframe tbody tr th {\n",
       "        vertical-align: top;\n",
       "    }\n",
       "\n",
       "    .dataframe thead th {\n",
       "        text-align: right;\n",
       "    }\n",
       "</style>\n",
       "<table border=\"1\" class=\"dataframe\">\n",
       "  <thead>\n",
       "    <tr style=\"text-align: right;\">\n",
       "      <th></th>\n",
       "      <th>accuracy</th>\n",
       "      <th>precision</th>\n",
       "      <th>recall</th>\n",
       "      <th>f</th>\n",
       "      <th>_h</th>\n",
       "    </tr>\n",
       "  </thead>\n",
       "  <tbody>\n",
       "    <tr>\n",
       "      <th>0</th>\n",
       "      <td>0.875110</td>\n",
       "      <td>0.867733</td>\n",
       "      <td>0.866931</td>\n",
       "      <td>0.867151</td>\n",
       "      <td>{'alpha': 0.0, 'criterion': 'gini', 'splitter'...</td>\n",
       "    </tr>\n",
       "    <tr>\n",
       "      <th>1</th>\n",
       "      <td>0.835841</td>\n",
       "      <td>0.825519</td>\n",
       "      <td>0.826409</td>\n",
       "      <td>0.825715</td>\n",
       "      <td>{'alpha': 0.0, 'criterion': 'gini', 'splitter'...</td>\n",
       "    </tr>\n",
       "    <tr>\n",
       "      <th>2</th>\n",
       "      <td>0.929048</td>\n",
       "      <td>0.924472</td>\n",
       "      <td>0.924994</td>\n",
       "      <td>0.924649</td>\n",
       "      <td>{'alpha': 0.0, 'criterion': 'gini', 'splitter'...</td>\n",
       "    </tr>\n",
       "    <tr>\n",
       "      <th>3</th>\n",
       "      <td>0.844353</td>\n",
       "      <td>0.834721</td>\n",
       "      <td>0.835354</td>\n",
       "      <td>0.834675</td>\n",
       "      <td>{'alpha': 0.0, 'criterion': 'gini', 'splitter'...</td>\n",
       "    </tr>\n",
       "    <tr>\n",
       "      <th>4</th>\n",
       "      <td>0.801414</td>\n",
       "      <td>0.789021</td>\n",
       "      <td>0.789445</td>\n",
       "      <td>0.789133</td>\n",
       "      <td>{'alpha': 0.0, 'criterion': 'gini', 'splitter'...</td>\n",
       "    </tr>\n",
       "    <tr>\n",
       "      <th>...</th>\n",
       "      <td>...</td>\n",
       "      <td>...</td>\n",
       "      <td>...</td>\n",
       "      <td>...</td>\n",
       "      <td>...</td>\n",
       "    </tr>\n",
       "    <tr>\n",
       "      <th>355</th>\n",
       "      <td>0.621547</td>\n",
       "      <td>0.310774</td>\n",
       "      <td>0.500000</td>\n",
       "      <td>0.383305</td>\n",
       "      <td>{'alpha': 9.5, 'criterion': 'log_loss', 'split...</td>\n",
       "    </tr>\n",
       "    <tr>\n",
       "      <th>356</th>\n",
       "      <td>0.621547</td>\n",
       "      <td>0.310774</td>\n",
       "      <td>0.500000</td>\n",
       "      <td>0.383305</td>\n",
       "      <td>{'alpha': 9.5, 'criterion': 'log_loss', 'split...</td>\n",
       "    </tr>\n",
       "    <tr>\n",
       "      <th>357</th>\n",
       "      <td>0.621547</td>\n",
       "      <td>0.310774</td>\n",
       "      <td>0.500000</td>\n",
       "      <td>0.383305</td>\n",
       "      <td>{'alpha': 9.5, 'criterion': 'log_loss', 'split...</td>\n",
       "    </tr>\n",
       "    <tr>\n",
       "      <th>358</th>\n",
       "      <td>0.621547</td>\n",
       "      <td>0.310774</td>\n",
       "      <td>0.500000</td>\n",
       "      <td>0.383305</td>\n",
       "      <td>{'alpha': 9.5, 'criterion': 'log_loss', 'split...</td>\n",
       "    </tr>\n",
       "    <tr>\n",
       "      <th>359</th>\n",
       "      <td>0.621547</td>\n",
       "      <td>0.310774</td>\n",
       "      <td>0.500000</td>\n",
       "      <td>0.383305</td>\n",
       "      <td>{'alpha': 9.5, 'criterion': 'log_loss', 'split...</td>\n",
       "    </tr>\n",
       "  </tbody>\n",
       "</table>\n",
       "<p>360 rows × 5 columns</p>\n",
       "</div>"
      ],
      "text/plain": [
       "     accuracy  precision    recall         f  \\\n",
       "0    0.875110   0.867733  0.866931  0.867151   \n",
       "1    0.835841   0.825519  0.826409  0.825715   \n",
       "2    0.929048   0.924472  0.924994  0.924649   \n",
       "3    0.844353   0.834721  0.835354  0.834675   \n",
       "4    0.801414   0.789021  0.789445  0.789133   \n",
       "..        ...        ...       ...       ...   \n",
       "355  0.621547   0.310774  0.500000  0.383305   \n",
       "356  0.621547   0.310774  0.500000  0.383305   \n",
       "357  0.621547   0.310774  0.500000  0.383305   \n",
       "358  0.621547   0.310774  0.500000  0.383305   \n",
       "359  0.621547   0.310774  0.500000  0.383305   \n",
       "\n",
       "                                                    _h  \n",
       "0    {'alpha': 0.0, 'criterion': 'gini', 'splitter'...  \n",
       "1    {'alpha': 0.0, 'criterion': 'gini', 'splitter'...  \n",
       "2    {'alpha': 0.0, 'criterion': 'gini', 'splitter'...  \n",
       "3    {'alpha': 0.0, 'criterion': 'gini', 'splitter'...  \n",
       "4    {'alpha': 0.0, 'criterion': 'gini', 'splitter'...  \n",
       "..                                                 ...  \n",
       "355  {'alpha': 9.5, 'criterion': 'log_loss', 'split...  \n",
       "356  {'alpha': 9.5, 'criterion': 'log_loss', 'split...  \n",
       "357  {'alpha': 9.5, 'criterion': 'log_loss', 'split...  \n",
       "358  {'alpha': 9.5, 'criterion': 'log_loss', 'split...  \n",
       "359  {'alpha': 9.5, 'criterion': 'log_loss', 'split...  \n",
       "\n",
       "[360 rows x 5 columns]"
      ]
     },
     "execution_count": 14,
     "metadata": {},
     "output_type": "execute_result"
    }
   ],
   "source": [
    "\n",
    "pr = utils.kfold_cv(x_train, y_train, k = 10, H = list(utils.create_H(hyperparameters)), cv_fun = cv_rf, random_state = 12345)\n",
    "pr"
   ]
  },
  {
   "cell_type": "code",
   "execution_count": 17,
   "metadata": {},
   "outputs": [
    {
     "name": "stdout",
     "output_type": "stream",
     "text": [
      "0.9399125455456211\n",
      "{'alpha': 0.0, 'criterion': 'entropy', 'splitter': 'best', 'max_features': None}\n"
     ]
    },
    {
     "data": {
      "text/plain": [
       "accuracy                                              0.939913\n",
       "precision                                             0.936097\n",
       "recall                                                0.936373\n",
       "f                                                      0.93615\n",
       "_h           {'alpha': 0.0, 'criterion': 'entropy', 'splitt...\n",
       "Name: 8, dtype: object"
      ]
     },
     "execution_count": 17,
     "metadata": {},
     "output_type": "execute_result"
    }
   ],
   "source": [
    "best_model = utils.get_best(pr)\n",
    "\n",
    "best_model"
   ]
  },
  {
   "cell_type": "code",
   "execution_count": null,
   "metadata": {},
   "outputs": [],
   "source": []
  },
  {
   "cell_type": "code",
   "execution_count": null,
   "metadata": {},
   "outputs": [],
   "source": []
  },
  {
   "cell_type": "code",
   "execution_count": null,
   "metadata": {},
   "outputs": [],
   "source": []
  },
  {
   "cell_type": "code",
   "execution_count": null,
   "metadata": {},
   "outputs": [],
   "source": []
  }
 ],
 "metadata": {
  "kernelspec": {
   "display_name": "Python 3.10.4 (conda)",
   "language": "python",
   "name": "python3"
  },
  "language_info": {
   "codemirror_mode": {
    "name": "ipython",
    "version": 3
   },
   "file_extension": ".py",
   "mimetype": "text/x-python",
   "name": "python",
   "nbconvert_exporter": "python",
   "pygments_lexer": "ipython3",
   "version": "3.10.4"
  },
  "orig_nbformat": 4,
  "vscode": {
   "interpreter": {
    "hash": "8b6d2988b6bb527c92d8337742f356380e9aca8030177bcc940328c644657745"
   }
  }
 },
 "nbformat": 4,
 "nbformat_minor": 2
}
